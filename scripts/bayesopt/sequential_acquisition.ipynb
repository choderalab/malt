{
 "cells": [
  {
   "cell_type": "markdown",
   "id": "c0644620-f2fa-4311-9e87-cf62ce7b9377",
   "metadata": {},
   "source": [
    "# Sequential acquisition"
   ]
  },
  {
   "cell_type": "code",
   "execution_count": 1,
   "id": "934ff6e9-6837-4577-9762-c7a02985b722",
   "metadata": {},
   "outputs": [
    {
     "name": "stderr",
     "output_type": "stream",
     "text": [
      "Using backend: pytorch\n"
     ]
    }
   ],
   "source": [
    "%load_ext autoreload\n",
    "%autoreload 2\n",
    "\n",
    "import torch\n",
    "import sys\n",
    "import malt"
   ]
  },
  {
   "cell_type": "code",
   "execution_count": 2,
   "id": "8b2b35c5-933b-4b57-a170-7e8452daf277",
   "metadata": {},
   "outputs": [
    {
     "name": "stdout",
     "output_type": "stream",
     "text": [
      "Processing dgl graphs from scratch...\n",
      "Processing molecule 1000/1128\n"
     ]
    }
   ],
   "source": [
    "data = malt.data.collections.esol()"
   ]
  },
  {
   "cell_type": "markdown",
   "id": "4d768330-f875-4d3a-b62b-eec81ddf0aeb",
   "metadata": {},
   "source": [
    "Make model"
   ]
  },
  {
   "cell_type": "code",
   "execution_count": 3,
   "id": "27130629-924c-4e94-9066-42e05babb4ee",
   "metadata": {},
   "outputs": [],
   "source": [
    "# model = malt.models.supervised_model.GaussianProcessSupervisedModel(\n",
    "#     representation=malt.models.representation.DGLRepresentation(\n",
    "#         out_features=128,\n",
    "#     ),\n",
    "#     regressor=malt.models.regressor.ExactGaussianProcessRegressor(\n",
    "#         in_features=128, out_features=2,\n",
    "#     ),\n",
    "#     likelihood=malt.models.likelihood.HeteroschedasticGaussianLikelihood(),\n",
    "# )"
   ]
  },
  {
   "cell_type": "code",
   "execution_count": 4,
   "id": "ff2c4ce1-c021-4e93-8f9c-58c32431c3f6",
   "metadata": {},
   "outputs": [],
   "source": [
    "merchant = malt.agents.merchant.DatasetMerchant(data)\n",
    "assayer = malt.agents.assayer.DatasetAssayer(data)"
   ]
  },
  {
   "cell_type": "code",
   "execution_count": 5,
   "id": "5e49b819-c8b1-4da6-bde0-a963a5158df6",
   "metadata": {},
   "outputs": [],
   "source": [
    "player = malt.agents.player.SequentialRandomPlayer(\n",
    "    # model=model,\n",
    "    # policy=malt.policy.ThompsonSampling(),\n",
    "    # trainer=malt.trainer.get_default_trainer(),\n",
    "    merchant=merchant,\n",
    "    assayer=assayer,\n",
    ")"
   ]
  },
  {
   "cell_type": "code",
   "execution_count": 6,
   "id": "f23a6d73-2b56-415c-8435-1cc7d392fa7f",
   "metadata": {
    "tags": []
   },
   "outputs": [],
   "source": [
    "# data_loader = data.view(batch_size=len(data))\n",
    "# g, y = next(iter(data_loader))\n",
    "\n",
    "# distribution = model.condition(g)"
   ]
  },
  {
   "cell_type": "code",
   "execution_count": 7,
   "id": "f205d6ba-cd9e-4de1-976e-eac9b723550e",
   "metadata": {},
   "outputs": [
    {
     "data": {
      "text/plain": [
       "CCCOCCC"
      ]
     },
     "execution_count": 7,
     "metadata": {},
     "output_type": "execute_result"
    }
   ],
   "source": [
    "catalogue_length = len(player.merchant.catalogue())\n",
    "torch.manual_seed(player.seed)\n",
    "best = torch.randint(\n",
    "    size = (1,),\n",
    "    high = catalogue_length,\n",
    ").item()\n",
    "player.merchant.catalogue()[best]\n"
   ]
  },
  {
   "cell_type": "code",
   "execution_count": 9,
   "id": "23425617-496d-448b-a68b-95af8e81eda9",
   "metadata": {},
   "outputs": [],
   "source": [
    "while True:\n",
    "    if player.step() is None:\n",
    "        break"
   ]
  },
  {
   "cell_type": "code",
   "execution_count": 10,
   "id": "396d6fc0-2240-4eda-b989-1c4d955ed63b",
   "metadata": {},
   "outputs": [
    {
     "data": {
      "text/plain": [
       "[<matplotlib.lines.Line2D at 0x246b4bea588>]"
      ]
     },
     "execution_count": 10,
     "metadata": {},
     "output_type": "execute_result"
    },
    {
     "data": {
      "image/png": "[encoded data removed]",
      "text/plain": [
       "<Figure size 432x288 with 1 Axes>"
      ]
     },
     "metadata": {
      "needs_background": "light"
     },
     "output_type": "display_data"
    }
   ],
   "source": [
    "import matplotlib.pyplot as plt\n",
    "plt.plot(player.portfolio.y, '+')"
   ]
  }
 ],
 "metadata": {
  "kernelspec": {
   "display_name": "Python 3 (ipykernel)",
   "language": "python",
   "name": "python3"
  },
  "language_info": {
   "codemirror_mode": {
    "name": "ipython",
    "version": 3
   },
   "file_extension": ".py",
   "mimetype": "text/x-python",
   "name": "python",
   "nbconvert_exporter": "python",
   "pygments_lexer": "ipython3",
   "version": "3.7.11"
  }
 },
 "nbformat": 4,
 "nbformat_minor": 5
}
