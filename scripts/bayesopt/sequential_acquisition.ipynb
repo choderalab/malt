{
 "cells": [
  {
   "cell_type": "markdown",
   "id": "c0644620-f2fa-4311-9e87-cf62ce7b9377",
   "metadata": {},
   "source": [
    "# Sequential acquisition"
   ]
  },
  {
   "cell_type": "code",
   "execution_count": null,
   "id": "934ff6e9-6837-4577-9762-c7a02985b722",
   "metadata": {},
   "outputs": [],
   "source": []
  }
 ],
 "metadata": {
  "kernelspec": {
   "display_name": "Python 3 (ipykernel)",
   "language": "python",
   "name": "python3"
  },
  "language_info": {
   "codemirror_mode": {
    "name": "ipython",
    "version": 3
   },
   "file_extension": ".py",
   "mimetype": "text/x-python",
   "name": "python",
   "nbconvert_exporter": "python",
   "pygments_lexer": "ipython3",
   "version": "3.7.11"
  }
 },
 "nbformat": 4,
 "nbformat_minor": 5
}
