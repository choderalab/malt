{
 "cells": [
  {
   "cell_type": "markdown",
   "id": "2665ec92-3ffc-4437-b327-bbf24895b035",
   "metadata": {},
   "source": [
    "# Playing with the data structure"
   ]
  },
  {
   "cell_type": "code",
   "execution_count": 1,
   "id": "07deb239-9037-414b-9020-bb1cc1dd4444",
   "metadata": {},
   "outputs": [
    {
     "name": "stderr",
     "output_type": "stream",
     "text": [
      "Using backend: pytorch\n"
     ]
    }
   ],
   "source": [
    "%load_ext autoreload\n",
    "%autoreload 2\n",
    "\n",
    "import malt\n",
    "import torch\n",
    "import seaborn as sns\n",
    "from malt.molecule import Molecule"
   ]
  },
  {
   "cell_type": "code",
   "execution_count": 2,
   "id": "a05fe4e9-1d60-431c-8338-b3a147af55e8",
   "metadata": {},
   "outputs": [],
   "source": [
    "from pathlib import Path\n",
    "f = f'{Path.home()}/dev/choderalab/data/data/moonshot_fluorescence_titration_curves.csv'\n",
    "import pandas as pd\n",
    "df = pd.read_csv(f, index_col=0).dropna()\n",
    "df = df.rename({'concentration': 'c', 'inhibition': 'y'}, axis=1)"
   ]
  },
  {
   "cell_type": "code",
   "execution_count": 3,
   "id": "f00e471d-509e-4778-b76d-c8eb17a37f92",
   "metadata": {
    "tags": []
   },
   "outputs": [],
   "source": [
    "from dgllife.utils import smiles_to_bigraph, CanonicalAtomFeaturizer, CanonicalBondFeaturizer\n",
    "\n",
    "def parse_graph(smiles):\n",
    "    return smiles_to_bigraph(\n",
    "        smiles = smiles,\n",
    "        node_featurizer = CanonicalAtomFeaturizer(),\n",
    "        edge_featurizer = CanonicalBondFeaturizer()\n",
    "    )"
   ]
  },
  {
   "cell_type": "code",
   "execution_count": 11,
   "id": "b52bfb3c-29ab-45b1-afe2-855c27ac9eef",
   "metadata": {},
   "outputs": [
    {
     "name": "stderr",
     "output_type": "stream",
     "text": [
      "100%|████████████████████████████████████████████████████████████████████████████| 2281/2281 [00:01<00:00, 1364.54it/s]\n"
     ]
    }
   ],
   "source": [
    "from malt import Dataset, AssayedMolecule\n",
    "from tqdm import tqdm\n",
    "\n",
    "molecules = []\n",
    "for smiles, mol_metadata in tqdm(df.groupby('SMILES')):\n",
    "    molecule = AssayedMolecule(\n",
    "        smiles = smiles,\n",
    "        # g = parse_graph(smiles),\n",
    "        metadata = {'fluorescence': mol_metadata.drop('SMILES', axis=1).to_dict('records')}\n",
    "    )\n",
    "    molecules.append(molecule)\n",
    "    \n",
    "# create dataset\n",
    "data = Dataset(molecules)"
   ]
  },
  {
   "cell_type": "code",
   "execution_count": 6,
   "id": "d5f2a93f-2b75-4eff-9556-8d99c30ac4c3",
   "metadata": {},
   "outputs": [
    {
     "name": "stdout",
     "output_type": "stream",
     "text": [
      "The autoreload extension is already loaded. To reload it, use:\n",
      "  %reload_ext autoreload\n"
     ]
    },
    {
     "data": {
      "text/plain": [
       "<function malt.data.utils.batch_metadata(molecule, key, **kwargs)>"
      ]
     },
     "execution_count": 6,
     "metadata": {},
     "output_type": "execute_result"
    }
   ],
   "source": [
    "%load_ext autoreload\n",
    "%autoreload 2\n",
    "import malt\n",
    "malt.data.utils.batch_metadata"
   ]
  },
  {
   "cell_type": "code",
   "execution_count": 40,
   "id": "a3d4040f-777f-4cef-b217-a327d856d61d",
   "metadata": {},
   "outputs": [
    {
     "data": {
      "text/plain": [
       "Brc1ccc(CN2C(=O)C(=O)c3cccc(Br)c23)cc1"
      ]
     },
     "execution_count": 40,
     "metadata": {},
     "output_type": "execute_result"
    }
   ],
   "source": [
    "import copy\n",
    "\n",
    "copy.deepcopy(data[0])"
   ]
  },
  {
   "cell_type": "code",
   "execution_count": 30,
   "id": "e3ae01f8-6f5f-4b7d-b723-d374ae0ca706",
   "metadata": {},
   "outputs": [],
   "source": [
    "dl = data.view(\n",
    "    batch_size=1,\n",
    "    batch_metadata=malt.data.utils.batch_assay_metadata\n",
    ")"
   ]
  },
  {
   "cell_type": "code",
   "execution_count": 45,
   "id": "0b1a3426-6b59-4d12-9ce1-9e68beb01df9",
   "metadata": {},
   "outputs": [
    {
     "ename": "TypeError",
     "evalue": "'AssayedMolecule' object does not support item assignment",
     "output_type": "error",
     "traceback": [
      "\u001b[1;31m---------------------------------------------------------------------------\u001b[0m",
      "\u001b[1;31mTypeError\u001b[0m                                 Traceback (most recent call last)",
      "\u001b[1;32m~\\AppData\\Local\\Temp/ipykernel_21696/1695342831.py\u001b[0m in \u001b[0;36m<module>\u001b[1;34m\u001b[0m\n\u001b[1;32m----> 1\u001b[1;33m \u001b[0mdata\u001b[0m\u001b[1;33m[\u001b[0m\u001b[1;36m0\u001b[0m\u001b[1;33m]\u001b[0m\u001b[1;33m[\u001b[0m\u001b[1;34m'fluorescence'\u001b[0m\u001b[1;33m]\u001b[0m \u001b[1;33m=\u001b[0m \u001b[1;36m0\u001b[0m\u001b[1;33m\u001b[0m\u001b[1;33m\u001b[0m\u001b[0m\n\u001b[0m",
      "\u001b[1;31mTypeError\u001b[0m: 'AssayedMolecule' object does not support item assignment"
     ]
    }
   ],
   "source": [
    "data[0]['fluorescence'] = 0"
   ]
  },
  {
   "cell_type": "code",
   "execution_count": 37,
   "id": "6ac33891-4412-478b-a0b1-51d00f012694",
   "metadata": {},
   "outputs": [
    {
     "name": "stdout",
     "output_type": "stream",
     "text": [
      "24\n"
     ]
    }
   ],
   "source": [
    "for d in dl:\n",
    "    print(len(d[1]))\n",
    "    break"
   ]
  },
  {
   "cell_type": "code",
   "execution_count": null,
   "id": "abfcbe87-1c79-40f5-8f64-cbe1ddcfb753",
   "metadata": {},
   "outputs": [
    {
     "name": "stderr",
     "output_type": "stream",
     "text": [
      "100%|███████████████████████████████████████████████████████████████████████████| 2281/2281 [00:00<00:00, 81468.80it/s]\n"
     ]
    }
   ],
   "source": [
    "for idx in tqdm(range(len(data))):\n",
    "    t = torch.Tensor([d[key] for d in data[idx]['fluorescence']])"
   ]
  },
  {
   "cell_type": "code",
   "execution_count": null,
   "id": "ca29383c-c38d-4233-b388-3199b1ef70e7",
   "metadata": {},
   "outputs": [
    {
     "data": {
      "text/plain": [
       "[{'concentration': 7.72e-07, 'inhibition': -0.0486},\n",
       " {'concentration': 3.86e-07, 'inhibition': 0.0359},\n",
       " {'concentration': 1.2e-08, 'inhibition': -0.0295},\n",
       " {'concentration': 9.9e-08, 'inhibition': 0.0575},\n",
       " {'concentration': 0.000198, 'inhibition': -0.256},\n",
       " {'concentration': 9.9e-05, 'inhibition': -0.114},\n",
       " {'concentration': 4.95e-05, 'inhibition': -0.0913},\n",
       " {'concentration': 2.48e-05, 'inhibition': -0.0418},\n",
       " {'concentration': 0.000198, 'inhibition': -0.195},\n",
       " {'concentration': 1.24e-05, 'inhibition': 0.0501},\n",
       " {'concentration': 9.9e-05, 'inhibition': -0.059},\n",
       " {'concentration': 7.429999999999999e-06, 'inhibition': 0.127},\n",
       " {'concentration': 4.95e-05, 'inhibition': -0.163},\n",
       " {'concentration': 1.93e-07, 'inhibition': -0.106},\n",
       " {'concentration': 2.48e-05, 'inhibition': -0.0705},\n",
       " {'concentration': 1.55e-06, 'inhibition': -0.0493},\n",
       " {'concentration': 1.24e-05, 'inhibition': 0.0573},\n",
       " {'concentration': 7.72e-07, 'inhibition': 0.0654},\n",
       " {'concentration': 7.429999999999999e-06, 'inhibition': 0.0737},\n",
       " {'concentration': 3.86e-07, 'inhibition': 0.0698},\n",
       " {'concentration': 1.93e-07, 'inhibition': -0.0499},\n",
       " {'concentration': 1.2e-08, 'inhibition': -0.0314},\n",
       " {'concentration': 1.55e-06, 'inhibition': -0.0263},\n",
       " {'concentration': 9.9e-08, 'inhibition': -0.0197}]"
      ]
     },
     "execution_count": 46,
     "metadata": {},
     "output_type": "execute_result"
    }
   ],
   "source": [
    "mol = molecules[0]\n",
    "mol['fluorescence']"
   ]
  },
  {
   "cell_type": "code",
   "execution_count": 670,
   "id": "6e3e6ad7-4190-495c-8fb2-4537c088da04",
   "metadata": {},
   "outputs": [
    {
     "data": {
      "text/plain": [
       "[{'concentration': 9.95e-05, 'inhibition': 0.7020000000000001},\n",
       " {'concentration': 7.4629998207092285e-06, 'inhibition': 0.0881},\n",
       " {'concentration': 4.975e-05, 'inhibition': 0.583},\n",
       " {'concentration': 2.48799991607666e-06, 'inhibition': 0.0404},\n",
       " {'concentration': 2.48799991607666e-05, 'inhibition': 0.358},\n",
       " {'concentration': 1.552000045776367e-06, 'inhibition': -0.0335},\n",
       " {'concentration': 1.24399995803833e-05, 'inhibition': 0.238},\n",
       " {'concentration': 7.760000228881835e-07, 'inhibition': -0.00229},\n",
       " {'concentration': 7.4629998207092285e-06, 'inhibition': 0.0596999999999999},\n",
       " {'concentration': 3.8800001144409177e-07, 'inhibition': -0.0748},\n",
       " {'concentration': 2.48799991607666e-06, 'inhibition': 0.0227999999999999},\n",
       " {'concentration': 1.9400000572204589e-07, 'inhibition': -0.0219},\n",
       " {'concentration': 1.552000045776367e-06, 'inhibition': -0.0351},\n",
       " {'concentration': 1.0000000149011613e-07, 'inhibition': -0.0605999999999999},\n",
       " {'concentration': 7.760000228881835e-07, 'inhibition': -0.0134},\n",
       " {'concentration': 5.0000000745058066e-08, 'inhibition': -0.0263},\n",
       " {'concentration': 3.8800001144409177e-07, 'inhibition': -0.0658},\n",
       " {'concentration': 1.9400000572204589e-07, 'inhibition': -0.034},\n",
       " {'concentration': 1.0000000149011613e-07, 'inhibition': -0.0836},\n",
       " {'concentration': 5.0000000745058066e-08, 'inhibition': -0.0286},\n",
       " {'concentration': 9.95e-05, 'inhibition': 0.617},\n",
       " {'concentration': 4.975e-05, 'inhibition': 0.432},\n",
       " {'concentration': 2.48799991607666e-05, 'inhibition': 0.349},\n",
       " {'concentration': 1.24399995803833e-05, 'inhibition': 0.252},\n",
       " {'concentration': 3.8800001144409177e-07, 'inhibition': -0.045},\n",
       " {'concentration': 1.9400000572204589e-07, 'inhibition': -0.048},\n",
       " {'concentration': 1.0000000149011613e-07, 'inhibition': 0.462},\n",
       " {'concentration': 9.95e-05, 'inhibition': 1.03},\n",
       " {'concentration': 2.489999961853027e-05, 'inhibition': 1.01},\n",
       " {'concentration': 9.95e-05, 'inhibition': 0.919},\n",
       " {'concentration': 7.460000038146972e-06, 'inhibition': 0.6509999999999999},\n",
       " {'concentration': 2.489999961853027e-05, 'inhibition': 0.527},\n",
       " {'concentration': 1.549999952316284e-06, 'inhibition': 0.125},\n",
       " {'concentration': 1.2399999618530272e-05, 'inhibition': 0.215},\n",
       " {'concentration': 7.760000228881835e-07, 'inhibition': -0.0153},\n",
       " {'concentration': 7.460000038146972e-06, 'inhibition': 0.102},\n",
       " {'concentration': 3.8800001144409177e-07, 'inhibition': 0.038},\n",
       " {'concentration': 2.490000009536743e-06, 'inhibition': 0.0559},\n",
       " {'concentration': 1.9400000572204589e-07, 'inhibition': 0.0215},\n",
       " {'concentration': 1.549999952316284e-06, 'inhibition': -0.0609},\n",
       " {'concentration': 1.0000000149011613e-07, 'inhibition': -0.0673},\n",
       " {'concentration': 7.760000228881835e-07, 'inhibition': -0.0347},\n",
       " {'concentration': 5.0000000745058066e-08, 'inhibition': -0.0475999999999999}]"
      ]
     },
     "execution_count": 670,
     "metadata": {},
     "output_type": "execute_result"
    }
   ],
   "source": [
    "titration_curve.to_dict('records')"
   ]
  },
  {
   "cell_type": "code",
   "execution_count": 669,
   "id": "15c7e9b3-1028-4c0c-9193-6439631e9499",
   "metadata": {},
   "outputs": [
    {
     "data": {
      "text/plain": [
       "[(9.95e-05, 0.7020000000000001),\n",
       " (7.4629998207092285e-06, 0.0881),\n",
       " (4.975e-05, 0.583),\n",
       " (2.48799991607666e-06, 0.0404),\n",
       " (2.48799991607666e-05, 0.358),\n",
       " (1.552000045776367e-06, -0.0335),\n",
       " (1.24399995803833e-05, 0.238),\n",
       " (7.760000228881835e-07, -0.00229),\n",
       " (7.4629998207092285e-06, 0.0596999999999999),\n",
       " (3.8800001144409177e-07, -0.0748),\n",
       " (2.48799991607666e-06, 0.0227999999999999),\n",
       " (1.9400000572204589e-07, -0.0219),\n",
       " (1.552000045776367e-06, -0.0351),\n",
       " (1.0000000149011613e-07, -0.0605999999999999),\n",
       " (7.760000228881835e-07, -0.0134),\n",
       " (5.0000000745058066e-08, -0.0263),\n",
       " (3.8800001144409177e-07, -0.0658),\n",
       " (1.9400000572204589e-07, -0.034),\n",
       " (1.0000000149011613e-07, -0.0836),\n",
       " (5.0000000745058066e-08, -0.0286),\n",
       " (9.95e-05, 0.617),\n",
       " (4.975e-05, 0.432),\n",
       " (2.48799991607666e-05, 0.349),\n",
       " (1.24399995803833e-05, 0.252),\n",
       " (3.8800001144409177e-07, -0.045),\n",
       " (1.9400000572204589e-07, -0.048),\n",
       " (1.0000000149011613e-07, 0.462),\n",
       " (9.95e-05, 1.03),\n",
       " (2.489999961853027e-05, 1.01),\n",
       " (9.95e-05, 0.919),\n",
       " (7.460000038146972e-06, 0.6509999999999999),\n",
       " (2.489999961853027e-05, 0.527),\n",
       " (1.549999952316284e-06, 0.125),\n",
       " (1.2399999618530272e-05, 0.215),\n",
       " (7.760000228881835e-07, -0.0153),\n",
       " (7.460000038146972e-06, 0.102),\n",
       " (3.8800001144409177e-07, 0.038),\n",
       " (2.490000009536743e-06, 0.0559),\n",
       " (1.9400000572204589e-07, 0.0215),\n",
       " (1.549999952316284e-06, -0.0609),\n",
       " (1.0000000149011613e-07, -0.0673),\n",
       " (7.760000228881835e-07, -0.0347),\n",
       " (5.0000000745058066e-08, -0.0475999999999999)]"
      ]
     },
     "execution_count": 669,
     "metadata": {},
     "output_type": "execute_result"
    }
   ],
   "source": [
    "list(map(tuple, titration_curve.values))"
   ]
  },
  {
   "cell_type": "code",
   "execution_count": null,
   "id": "cf63c96e-2666-4932-90b4-2b7beea48db9",
   "metadata": {},
   "outputs": [],
   "source": [
    ")"
   ]
  },
  {
   "cell_type": "code",
   "execution_count": 608,
   "id": "2637716c-49c5-4f6e-9a2a-09a20460fe2f",
   "metadata": {},
   "outputs": [],
   "source": [
    "# m2[4].metadata"
   ]
  }
 ],
 "metadata": {
  "kernelspec": {
   "display_name": "Python 3 (ipykernel)",
   "language": "python",
   "name": "python3"
  },
  "language_info": {
   "codemirror_mode": {
    "name": "ipython",
    "version": 3
   },
   "file_extension": ".py",
   "mimetype": "text/x-python",
   "name": "python",
   "nbconvert_exporter": "python",
   "pygments_lexer": "ipython3",
   "version": "3.7.11"
  }
 },
 "nbformat": 4,
 "nbformat_minor": 5
}
