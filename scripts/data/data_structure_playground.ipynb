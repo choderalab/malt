{
 "cells": [
  {
   "cell_type": "markdown",
   "id": "2665ec92-3ffc-4437-b327-bbf24895b035",
   "metadata": {},
   "source": [
    "# Playing with the data structure"
   ]
  },
  {
   "cell_type": "code",
   "execution_count": 1,
   "id": "6281bbd8-21fc-490e-b446-65e650e6b9a8",
   "metadata": {},
   "outputs": [],
   "source": [
    "# import malt\n",
    "# import torch\n",
    "# import seaborn as sns"
   ]
  },
  {
   "cell_type": "code",
   "execution_count": 5,
   "id": "f5baf0b3-3a12-46f8-ad4f-232d11998fe3",
   "metadata": {},
   "outputs": [],
   "source": [
    "from typing import Union\n",
    "import functools\n",
    "import dgl\n",
    "from dgllife.utils import smiles_to_bigraph, CanonicalAtomFeaturizer\n",
    "\n",
    "class Molecule(object):\n",
    "    \"\"\" Models information associated with a molecule.\n",
    "\n",
    "    Parameters\n",
    "    ----------\n",
    "    smiles : str\n",
    "        SMILES of the molecule.\n",
    "\n",
    "    g : dgl.DGLGraph or None, default=None\n",
    "        The DGL graph of the molecule.\n",
    "\n",
    "    metadata : dict, default={}\n",
    "        Metadata associated with the compound\n",
    "\n",
    "    featurizer : callable, default=CanonicalAtomFeaturizer(\n",
    "        atom_data_field='feat')\n",
    "        The function which maps the SMILES string to a DGL graph.\n",
    "\n",
    "    Methods\n",
    "    -------\n",
    "    featurize()\n",
    "        Convert the SMILES string to a graph if there isn't one.\n",
    "\n",
    "    \"\"\"\n",
    "\n",
    "    def __init__(\n",
    "        self,\n",
    "        smiles: str,\n",
    "        g: Union[dgl.DGLGraph, None] = None,\n",
    "        metadata: dict = {},\n",
    "        featurizer: callable = functools.partial(\n",
    "            smiles_to_bigraph,\n",
    "            node_featurizer=CanonicalAtomFeaturizer(atom_data_field=\"h\"),\n",
    "        ),\n",
    "    ) -> None:\n",
    "        self.smiles = smiles\n",
    "        self.g = g\n",
    "        self.metadata = metadata\n",
    "        self.featurizer = featurizer\n",
    "\n",
    "    def __repr__(self):\n",
    "        return self.smiles\n",
    "\n",
    "    def __eq__(self, other):\n",
    "        return (\n",
    "            self.g == other.g\n",
    "            and self.y == other.y\n",
    "            and self.extra == other.extra\n",
    "        )\n",
    "    \n",
    "    def __getattr__(self, name):\n",
    "        if name not in self.metadata:\n",
    "            raise RuntimeError(\n",
    "                f'`{name}` is not associated with this Molecule.'\n",
    "            )\n",
    "        return self.metadata[name]\n",
    "\n",
    "    def featurize(self):\n",
    "        \"\"\"Featurize the SMILES string to get the graph.\n",
    "\n",
    "        Returns\n",
    "        -------\n",
    "        dgl.DGLGraph : The resulting graph.\n",
    "\n",
    "        \"\"\"\n",
    "        # if there is already a graph, raise an error\n",
    "        if self.is_featurized():\n",
    "            raise RuntimeError(\"Point is already featurized.\")\n",
    "\n",
    "        # featurize\n",
    "        self.g = self.featurizer(self.smiles)\n",
    "\n",
    "        return self\n",
    "\n",
    "    def is_featurized(self):\n",
    "        return self.g is not None\n",
    "\n",
    "    def erase_annotation(self):\n",
    "        if 'y' in self.metadata:\n",
    "            self.y = None\n",
    "        return self"
   ]
  },
  {
   "cell_type": "code",
   "execution_count": 6,
   "id": "a9bf8de4-f324-4ff8-853f-318a28ec33e1",
   "metadata": {},
   "outputs": [],
   "source": [
    "m = Molecule(\n",
    "    smiles='NCCc1ccc(O)c(O)c1',\n",
    "    metadata = {'y': 0.0}\n",
    ")"
   ]
  },
  {
   "cell_type": "code",
   "execution_count": 11,
   "id": "055fcaec-75d7-4acc-ae36-d534d346676e",
   "metadata": {},
   "outputs": [],
   "source": [
    "m.g"
   ]
  }
 ],
 "metadata": {
  "kernelspec": {
   "display_name": "Python 3 (ipykernel)",
   "language": "python",
   "name": "python3"
  },
  "language_info": {
   "codemirror_mode": {
    "name": "ipython",
    "version": 3
   },
   "file_extension": ".py",
   "mimetype": "text/x-python",
   "name": "python",
   "nbconvert_exporter": "python",
   "pygments_lexer": "ipython3",
   "version": "3.7.11"
  }
 },
 "nbformat": 4,
 "nbformat_minor": 5
}
