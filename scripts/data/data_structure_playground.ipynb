{
 "cells": [
  {
   "cell_type": "markdown",
   "id": "2665ec92-3ffc-4437-b327-bbf24895b035",
   "metadata": {},
   "source": [
    "# Playing with the data structure"
   ]
  },
  {
   "cell_type": "code",
   "execution_count": 1,
   "id": "07deb239-9037-414b-9020-bb1cc1dd4444",
   "metadata": {},
   "outputs": [
    {
     "name": "stderr",
     "output_type": "stream",
     "text": [
      "Using backend: pytorch\n"
     ]
    }
   ],
   "source": [
    "%load_ext autoreload\n",
    "%autoreload 2\n",
    "\n",
    "import malt\n",
    "import torch\n",
    "import seaborn as sns\n",
    "from malt.molecule import Molecule"
   ]
  },
  {
   "cell_type": "code",
   "execution_count": 2,
   "id": "a05fe4e9-1d60-431c-8338-b3a147af55e8",
   "metadata": {},
   "outputs": [],
   "source": [
    "from pathlib import Path\n",
    "f = f'{Path.home()}/dev/choderalab/data/data/moonshot_fluorescence_titration_curves.csv'\n",
    "import pandas as pd\n",
    "df = pd.read_csv(f, index_col=0).dropna()\n",
    "df = df.rename({'concentration': 'c', 'inhibition': 'y'}, axis=1)"
   ]
  },
  {
   "cell_type": "code",
   "execution_count": 3,
   "id": "f00e471d-509e-4778-b76d-c8eb17a37f92",
   "metadata": {
    "tags": []
   },
   "outputs": [],
   "source": [
    "from dgllife.utils import smiles_to_bigraph, CanonicalAtomFeaturizer, CanonicalBondFeaturizer\n",
    "\n",
    "def parse_graph(smiles):\n",
    "    return smiles_to_bigraph(\n",
    "        smiles = smiles,\n",
    "        node_featurizer = CanonicalAtomFeaturizer(),\n",
    "        edge_featurizer = CanonicalBondFeaturizer()\n",
    "    )"
   ]
  },
  {
   "cell_type": "code",
   "execution_count": 11,
   "id": "b52bfb3c-29ab-45b1-afe2-855c27ac9eef",
   "metadata": {},
   "outputs": [
    {
     "name": "stderr",
     "output_type": "stream",
     "text": [
      "100%|████████████████████████████████████████████████████████████████████████████| 2281/2281 [00:01<00:00, 1364.54it/s]\n"
     ]
    }
   ],
   "source": [
    "from malt import Dataset, AssayedMolecule\n",
    "from tqdm import tqdm\n",
    "\n",
    "molecules = []\n",
    "for smiles, mol_metadata in tqdm(df.groupby('SMILES')):\n",
    "    molecule = AssayedMolecule(\n",
    "        smiles = smiles,\n",
    "        # g = parse_graph(smiles),\n",
    "        metadata = {'fluorescence': mol_metadata.drop('SMILES', axis=1).to_dict('records')}\n",
    "    )\n",
    "    molecules.append(molecule)\n",
    "    \n",
    "# create dataset\n",
    "data = Dataset(molecules)"
   ]
  },
  {
   "cell_type": "code",
   "execution_count": 6,
   "id": "d5f2a93f-2b75-4eff-9556-8d99c30ac4c3",
   "metadata": {},
   "outputs": [
    {
     "name": "stdout",
     "output_type": "stream",
     "text": [
      "The autoreload extension is already loaded. To reload it, use:\n",
      "  %reload_ext autoreload\n"
     ]
    },
    {
     "data": {
      "text/plain": [
       "<function malt.data.utils.batch_metadata(molecule, key, **kwargs)>"
      ]
     },
     "execution_count": 6,
     "metadata": {},
     "output_type": "execute_result"
    }
   ],
   "source": [
    "%load_ext autoreload\n",
    "%autoreload 2\n",
    "import malt\n",
    "malt.data.utils.batch_metadata"
   ]
  },
  {
   "cell_type": "code",
   "execution_count": 40,
   "id": "a3d4040f-777f-4cef-b217-a327d856d61d",
   "metadata": {},
   "outputs": [
    {
     "data": {
      "text/plain": [
       "Brc1ccc(CN2C(=O)C(=O)c3cccc(Br)c23)cc1"
      ]
     },
     "execution_count": 40,
     "metadata": {},
     "output_type": "execute_result"
    }
   ],
   "source": [
    "import copy\n",
    "\n",
    "copy.deepcopy(data[0])"
   ]
  },
  {
   "cell_type": "code",
   "execution_count": 30,
   "id": "e3ae01f8-6f5f-4b7d-b723-d374ae0ca706",
   "metadata": {},
   "outputs": [],
   "source": [
    "dl = data.view(\n",
    "    batch_size=1,\n",
    "    batch_metadata=malt.data.utils.batch_assay_metadata\n",
    ")"
   ]
  },
  {
   "cell_type": "code",
   "execution_count": 45,
   "id": "0b1a3426-6b59-4d12-9ce1-9e68beb01df9",
   "metadata": {},
   "outputs": [
    {
     "ename": "TypeError",
     "evalue": "'AssayedMolecule' object does not support item assignment",
     "output_type": "error",
     "traceback": [
      "\u001b[1;31m---------------------------------------------------------------------------\u001b[0m",
      "\u001b[1;31mTypeError\u001b[0m                                 Traceback (most recent call last)",
      "\u001b[1;32m~\\AppData\\Local\\Temp/ipykernel_21696/1695342831.py\u001b[0m in \u001b[0;36m<module>\u001b[1;34m\u001b[0m\n\u001b[1;32m----> 1\u001b[1;33m \u001b[0mdata\u001b[0m\u001b[1;33m[\u001b[0m\u001b[1;36m0\u001b[0m\u001b[1;33m]\u001b[0m\u001b[1;33m[\u001b[0m\u001b[1;34m'fluorescence'\u001b[0m\u001b[1;33m]\u001b[0m \u001b[1;33m=\u001b[0m \u001b[1;36m0\u001b[0m\u001b[1;33m\u001b[0m\u001b[1;33m\u001b[0m\u001b[0m\n\u001b[0m",
      "\u001b[1;31mTypeError\u001b[0m: 'AssayedMolecule' object does not support item assignment"
     ]
    }
   ],
   "source": [
    "data[0]['fluorescence'] = 0"
   ]
  },
  {
   "cell_type": "code",
   "execution_count": 37,
   "id": "6ac33891-4412-478b-a0b1-51d00f012694",
   "metadata": {},
   "outputs": [
    {
     "name": "stdout",
     "output_type": "stream",
     "text": [
      "24\n"
     ]
    }
   ],
   "source": [
    "for d in dl:\n",
    "    print(len(d[1]))\n",
    "    break"
   ]
  },
  {
   "cell_type": "code",
   "execution_count": null,
   "id": "abfcbe87-1c79-40f5-8f64-cbe1ddcfb753",
   "metadata": {},
   "outputs": [
    {
     "name": "stderr",
     "output_type": "stream",
     "text": [
      "100%|███████████████████████████████████████████████████████████████████████████| 2281/2281 [00:00<00:00, 81468.80it/s]\n"
     ]
    }
   ],
   "source": [
    "for idx in tqdm(range(len(data))):\n",
    "    t = torch.Tensor([d[key] for d in data[idx]['fluorescence']])"
   ]
  }
 ],
 "metadata": {
  "kernelspec": {
   "display_name": "Python 3 (ipykernel)",
   "language": "python",
   "name": "python3"
  },
  "language_info": {
   "codemirror_mode": {
    "name": "ipython",
    "version": 3
   },
   "file_extension": ".py",
   "mimetype": "text/x-python",
   "name": "python",
   "nbconvert_exporter": "python",
   "pygments_lexer": "ipython3",
   "version": "3.9.7"
  }
 },
 "nbformat": 4,
 "nbformat_minor": 5
}
