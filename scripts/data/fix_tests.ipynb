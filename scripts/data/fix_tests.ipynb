{
 "cells": [
  {
   "cell_type": "code",
   "execution_count": 1,
   "id": "54951b70-a8dc-407a-8b95-fe7aab49c38b",
   "metadata": {},
   "outputs": [],
   "source": [
    "%load_ext autoreload\n",
    "%autoreload 2"
   ]
  },
  {
   "cell_type": "markdown",
   "id": "3079819c-fa45-4eaa-9754-a19398e202c5",
   "metadata": {
    "tags": []
   },
   "source": [
    "## `test_supervised_model`: `def test_forward():`"
   ]
  },
  {
   "cell_type": "code",
   "execution_count": 7,
   "id": "65122b2e-68ba-49ef-80ec-8e5c71169ead",
   "metadata": {},
   "outputs": [],
   "source": [
    "import torch\n",
    "import malt\n",
    "\n",
    "net = malt.models.supervised_model.SimpleSupervisedModel(\n",
    "    representation=malt.models.representation.DGLRepresentation(\n",
    "        out_features=128\n",
    "    ),\n",
    "    regressor=malt.models.regressor.NeuralNetworkRegressor(\n",
    "        in_features=128, out_features=1\n",
    "    ),\n",
    "    likelihood=malt.models.likelihood.HomoschedasticGaussianLikelihood(),\n",
    ")\n",
    "\n",
    "point = malt.Molecule(smiles=\"C\").featurize()\n",
    "distribution = net.condition(point.g)\n",
    "\n",
    "assert isinstance(distribution, torch.distributions.Distribution)\n",
    "assert distribution.batch_shape == torch.Size([1, 1])\n",
    "\n",
    "net.loss(point.g, torch.Tensor([0.0])).backward()"
   ]
  },
  {
   "cell_type": "markdown",
   "id": "81224a09-4eea-439b-99b2-f0e492f1687a",
   "metadata": {
    "tags": []
   },
   "source": [
    "## `test_gp`: `def test_gp_shape():`"
   ]
  },
  {
   "cell_type": "code",
   "execution_count": 18,
   "id": "f998e6ec-fa77-4425-beef-b63a90d49cbc",
   "metadata": {},
   "outputs": [],
   "source": [
    "import torch\n",
    "import dgl\n",
    "import malt\n",
    "\n",
    "net = malt.models.supervised_model.GaussianProcessSupervisedModel(\n",
    "    representation=malt.models.representation.DGLRepresentation(\n",
    "        out_features=128\n",
    "    ),\n",
    "    regressor=malt.models.regressor.ExactGaussianProcessRegressor(\n",
    "        in_features=128,\n",
    "        out_features=2,\n",
    "    ),\n",
    "    likelihood=malt.models.likelihood.HeteroschedasticGaussianLikelihood(),\n",
    ")\n",
    "\n",
    "if torch.cuda.is_available():\n",
    "    net.cuda()\n",
    "\n",
    "dataset = malt.data.collections.linear_alkanes(10)\n",
    "dataset_loader = dataset.view(batch_size=len(dataset))\n",
    "g, y = next(iter(dataset_loader))\n",
    "\n",
    "loss = net.loss(g, y)\n",
    "\n",
    "y_hat = net.condition(g)\n",
    "assert y_hat.mean.shape[0] == 10\n",
    "assert len(y_hat.mean.shape) == 1"
   ]
  },
  {
   "cell_type": "markdown",
   "id": "df4144e3-63a1-4681-97bf-9e9f9585564e",
   "metadata": {},
   "source": [
    "## `test_gp`: `def test_gp_integrate():`"
   ]
  },
  {
   "cell_type": "code",
   "execution_count": 3,
   "id": "3a43fea5-e1c2-4a89-b34b-181368151d62",
   "metadata": {},
   "outputs": [
    {
     "data": {
      "text/plain": [
       "GaussianProcessSupervisedModel(\n",
       "  (representation): DGLRepresentation(\n",
       "    (embedding_in): Sequential(\n",
       "      (0): Linear(in_features=74, out_features=128, bias=True)\n",
       "      (1): SiLU()\n",
       "    )\n",
       "    (gn0): GraphConv(in=128, out=128, normalization=both, activation=None)\n",
       "    (gn1): GraphConv(in=128, out=128, normalization=both, activation=None)\n",
       "    (gn2): GraphConv(in=128, out=128, normalization=both, activation=None)\n",
       "    (embedding_out): Sequential(\n",
       "      (0): Linear(in_features=128, out_features=128, bias=True)\n",
       "    )\n",
       "    (ff): Sequential(\n",
       "      (0): Linear(in_features=128, out_features=128, bias=True)\n",
       "    )\n",
       "    (activation): SiLU()\n",
       "  )\n",
       "  (regressor): ExactGaussianProcessRegressor(\n",
       "    (kernel): RBF()\n",
       "  )\n",
       "  (likelihood): HeteroschedasticGaussianLikelihood()\n",
       ")"
      ]
     },
     "execution_count": 3,
     "metadata": {},
     "output_type": "execute_result"
    }
   ],
   "source": [
    "player.model.cuda()"
   ]
  },
  {
   "cell_type": "code",
   "execution_count": 4,
   "id": "9c66eeba-cc41-4f41-91a9-1e8976985ca1",
   "metadata": {},
   "outputs": [],
   "source": [
    "import malt\n",
    "import torch\n",
    "from malt.agents.player import SequentialModelBasedPlayer\n",
    "\n",
    "dataset = malt.data.collections.linear_alkanes(10)\n",
    "model = malt.models.supervised_model.GaussianProcessSupervisedModel(\n",
    "   representation=malt.models.representation.DGLRepresentation(\n",
    "       out_features=128\n",
    "   ),\n",
    "   regressor=malt.models.regressor.ExactGaussianProcessRegressor(\n",
    "       in_features=128, out_features=2,\n",
    "   ),\n",
    "   likelihood=malt.models.likelihood.HeteroschedasticGaussianLikelihood(),\n",
    ")\n",
    "if torch.cuda.is_available():\n",
    "    model.cuda()\n",
    "\n",
    "player = SequentialModelBasedPlayer(\n",
    "   model = model,\n",
    "   policy=malt.policy.Greedy(),\n",
    "   trainer=malt.trainer.get_default_trainer(),\n",
    "   merchant=malt.agents.merchant.DatasetMerchant(dataset),\n",
    "   assayer=malt.agents.assayer.DatasetAssayer(dataset),\n",
    ")\n",
    "\n",
    "while True:\n",
    "    if player.step() is None:\n",
    "        break"
   ]
  }
 ],
 "metadata": {
  "kernelspec": {
   "display_name": "Python 3 (ipykernel)",
   "language": "python",
   "name": "python3"
  },
  "language_info": {
   "codemirror_mode": {
    "name": "ipython",
    "version": 3
   },
   "file_extension": ".py",
   "mimetype": "text/x-python",
   "name": "python",
   "nbconvert_exporter": "python",
   "pygments_lexer": "ipython3",
   "version": "3.9.7"
  }
 },
 "nbformat": 4,
 "nbformat_minor": 5
}
