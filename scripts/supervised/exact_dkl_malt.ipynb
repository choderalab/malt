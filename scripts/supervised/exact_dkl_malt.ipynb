{
 "cells": [
  {
   "cell_type": "code",
   "execution_count": 1,
   "id": "6f67b104-27ba-45d8-8966-5c74e550f32e",
   "metadata": {},
   "outputs": [],
   "source": [
    "import math\n",
    "import tqdm\n",
    "import torch\n",
    "import gpytorch\n",
    "from matplotlib import pyplot as plt"
   ]
  },
  {
   "cell_type": "markdown",
   "id": "60bd57e1-a8ce-4204-92cd-29ec5a56ff82",
   "metadata": {},
   "source": [
    "Make Data"
   ]
  },
  {
   "cell_type": "code",
   "execution_count": 4,
   "id": "7292c1cb-6cd0-4a1e-b8bd-8f3a67f2cf63",
   "metadata": {},
   "outputs": [
    {
     "name": "stdout",
     "output_type": "stream",
     "text": [
      "The autoreload extension is already loaded. To reload it, use:\n",
      "  %reload_ext autoreload\n"
     ]
    }
   ],
   "source": [
    "%load_ext autoreload\n",
    "%autoreload 2\n",
    "\n",
    "import malt\n",
    "import torch\n",
    "import seaborn as sns\n",
    "from malt.molecule import Molecule"
   ]
  },
  {
   "cell_type": "code",
   "execution_count": 15,
   "id": "4a3636e1-d1c0-4105-95de-77d0f236703a",
   "metadata": {},
   "outputs": [
    {
     "name": "stdout",
     "output_type": "stream",
     "text": [
      "Processing dgl graphs from scratch...\n",
      "Processing molecule 1000/1128\n"
     ]
    }
   ],
   "source": [
    "from malt.data.collections import esol\n",
    "\n",
    "data = esol()\n",
    "data.shuffle()\n",
    "data_tr, data_te = data.split([8, 2])"
   ]
  },
  {
   "cell_type": "code",
   "execution_count": 68,
   "id": "34987b06-1537-4491-a6c9-7930593aa687",
   "metadata": {},
   "outputs": [],
   "source": [
    "train_x, train_y = data_tr.batch()\n",
    "test_x, test_y = data_te.batch()\n",
    "\n",
    "if torch.cuda.is_available():\n",
    "    train_x, train_y, test_x, test_y = train_x.to('cuda:0'), train_y.cuda().ravel(), test_x.to('cuda:0'), test_y.cuda().ravel()"
   ]
  },
  {
   "cell_type": "code",
   "execution_count": 69,
   "id": "7bd31142-e4b7-4d6c-9964-3c5600e0f398",
   "metadata": {},
   "outputs": [],
   "source": [
    "# initialize\n",
    "feature_extractor = malt.models.representation.DGLRepresentation(\n",
    "        out_features=128,\n",
    ").cuda()\n",
    "\n",
    "# feature_extractor = LargeFeatureExtractor()"
   ]
  },
  {
   "cell_type": "code",
   "execution_count": 70,
   "id": "7ba4a15b-1737-484f-8af3-741c856513a0",
   "metadata": {},
   "outputs": [],
   "source": [
    "class GPRTest(gpytorch.models.ExactGP):\n",
    "    def __init__(self, train_x, train_y, likelihood):\n",
    "        super(GPRTest, self).__init__(train_x, train_y, likelihood)\n",
    "        self.mean_module = gpytorch.means.ConstantMean()\n",
    "        self.covar_module = gpytorch.kernels.ScaleKernel(\n",
    "            gpytorch.kernels.RBFKernel(ard_num_dims=128)\n",
    "        )\n",
    "\n",
    "    def forward(self, projected_x):\n",
    "        mean_x = self.mean_module(projected_x)\n",
    "        covar_x = self.covar_module(projected_x)\n",
    "        return gpytorch.distributions.MultivariateNormal(mean_x, covar_x)"
   ]
  },
  {
   "cell_type": "code",
   "execution_count": 71,
   "id": "742b152c-2d1d-4f24-8a76-f8652cf56463",
   "metadata": {},
   "outputs": [],
   "source": [
    "class ModularModel(gpytorch.models.GP):\n",
    "    def __init__(self, representation, regressor, likelihood, train_y):\n",
    "        \"\"\"\n",
    "            Args:\n",
    "                - gp (gpytorch.models.ExactGP): A GP that expects to operate on features extracted by a GCN.\n",
    "                - gcn (torch.nn.Module): Some PyTorch module that extracts graph features.\n",
    "                - train_x (any input to gcn): The training data as expected by the GCN\n",
    "                - train_y (torch.Tensor): Training labels\n",
    "        \"\"\"\n",
    "        super(ModularModel, self).__init__()\n",
    "        self.representation = representation\n",
    "        self.regressor = regressor\n",
    "        self.likelihood = likelihood\n",
    "\n",
    "        self.train_targets = train_y\n",
    "    \n",
    "    def forward(self, train_x):\n",
    "        train_h = self.representation(train_x)\n",
    "        if self.training:\n",
    "            self.regressor.set_train_data(train_h, self.train_targets, strict=False)\n",
    "        return self.regressor(train_h)"
   ]
  },
  {
   "cell_type": "code",
   "execution_count": 72,
   "id": "5baaef14-5b97-472f-bf6e-9a2ed0e3b1b0",
   "metadata": {},
   "outputs": [],
   "source": [
    "class IntegratedModel(gpytorch.models.ExactGP):\n",
    "    def __init__(self, train_x, train_y, likelihood):\n",
    "        super(IntegratedModel, self).__init__(train_x, train_y, likelihood)\n",
    "        self.mean_module = gpytorch.means.ConstantMean()\n",
    "        self.covar_module = (\n",
    "            # gpytorch.kernels.GridInterpolationKernel(\n",
    "            gpytorch.kernels.ScaleKernel(gpytorch.kernels.RBFKernel())\n",
    "            # num_dims=128, grid_size=100\n",
    "        )\n",
    "        self.feature_extractor = feature_extractor\n",
    "\n",
    "        # This module will scale the NN features so that they're nice values\n",
    "        # self.scale_to_bounds = gpytorch.utils.grid.ScaleToBounds(-1., 1.)\n",
    "\n",
    "    def forward(self, x):\n",
    "        # We're first putting our data through a deep net (feature extractor)\n",
    "        projected_x = self.feature_extractor(x)\n",
    "        # projected_x = self.scale_to_bounds(projected_x)  # Make the NN values \"nice\"\n",
    "\n",
    "        mean_x = self.mean_module(projected_x)\n",
    "        covar_x = self.covar_module(projected_x)\n",
    "        return gpytorch.distributions.MultivariateNormal(mean_x, covar_x)"
   ]
  },
  {
   "cell_type": "code",
   "execution_count": 73,
   "id": "4754356f-a142-460f-b028-b858c2f72338",
   "metadata": {},
   "outputs": [],
   "source": [
    "def make_model_and_likelihood(architecture='modular'):\n",
    "    likelihood = gpytorch.likelihoods.GaussianLikelihood()\n",
    "    \n",
    "    if architecture == 'modular':\n",
    "        gprt = GPRTest(torch.ones(3), train_y, likelihood)\n",
    "        # the requirement to give train_y is unnecessary with a smarter training loop\n",
    "        model = ModularModel(feature_extractor, gprt, likelihood, train_y)\n",
    "    else:\n",
    "        model = IntegratedModel(train_x, train_y, likelihood)\n",
    "\n",
    "    if torch.cuda.is_available():\n",
    "        model = model.cuda()\n",
    "        likelihood = likelihood.cuda()\n",
    "    \n",
    "    return model, likelihood"
   ]
  },
  {
   "cell_type": "code",
   "execution_count": 74,
   "id": "0709c96e-d33c-480d-abbd-3677ffb0fda3",
   "metadata": {},
   "outputs": [],
   "source": [
    "likelihood = gpytorch.likelihoods.GaussianLikelihood()\n",
    "gprt = GPRTest(torch.ones(3), train_y, likelihood)"
   ]
  },
  {
   "cell_type": "code",
   "execution_count": 80,
   "id": "2533dbd7-7c59-4dca-b64e-744969293d33",
   "metadata": {},
   "outputs": [
    {
     "name": "stderr",
     "output_type": "stream",
     "text": [
      "100%|█████████████████████████████████████████████| 4/4 [01:28<00:00, 22.22s/it]\n"
     ]
    }
   ],
   "source": [
    "def train_model(model, likelihood, train_x, train_y, smoke_test=False):\n",
    "    def _train():\n",
    "        # iterator = tqdm.notebook.tqdm(range(training_iterations))\n",
    "        for i in range(training_iterations):\n",
    "            # Zero backprop gradients\n",
    "            optimizer.zero_grad()\n",
    "            # Get output from model\n",
    "            output = model(train_x)\n",
    "            # Calc loss and backprop derivatives\n",
    "            loss = -mll(output, train_y).mean()\n",
    "            loss.backward()\n",
    "            optimizer.step()\n",
    "        return model\n",
    "\n",
    "    smoke_test = False\n",
    "    training_iterations = 2 if smoke_test else 200\n",
    "\n",
    "    # Find optimal model hyperparameters\n",
    "    model.train()\n",
    "    likelihood.train()\n",
    "\n",
    "    # Use the adam optimizer\n",
    "    optimizer = torch.optim.Adam([\n",
    "        {'params': model.parameters()},\n",
    "    ], lr=1e-3)\n",
    "\n",
    "    # \"Loss\" for GPs - the marginal log likelihood\n",
    "    mll = gpytorch.mlls.ExactMarginalLogLikelihood(likelihood, model)\n",
    "\n",
    "    # train\n",
    "    model = _train()\n",
    "    \n",
    "    return model\n",
    "\n",
    "def test(model):\n",
    "    from scipy.stats import pearsonr\n",
    "    model.eval()\n",
    "    with torch.no_grad(), gpytorch.settings.use_toeplitz(False), gpytorch.settings.fast_pred_var():\n",
    "        preds = model(test_x)\n",
    "    mae = torch.mean(torch.abs(preds.mean - test_y)).item()\n",
    "    corr, _ = pearsonr(preds.mean.tolist(), test_y.tolist())\n",
    "    return mae, corr\n",
    "\n",
    "results = []\n",
    "for architecture in ['modular']:\n",
    "    for i in tqdm.tqdm(range(4)):\n",
    "        model, likelihood = make_model_and_likelihood(architecture=architecture)\n",
    "        model = train_model(model, likelihood, train_x, train_y, smoke_test=False)\n",
    "        mae, corr = test(model)\n",
    "        results.append({'architecture': architecture, 'mae': mae, 'corr': corr})"
   ]
  },
  {
   "cell_type": "code",
   "execution_count": 81,
   "id": "562393e9-e83e-4a2b-8e33-81c44bf98fc1",
   "metadata": {},
   "outputs": [
    {
     "data": {
      "text/html": [
       "<div>\n",
       "<style scoped>\n",
       "    .dataframe tbody tr th:only-of-type {\n",
       "        vertical-align: middle;\n",
       "    }\n",
       "\n",
       "    .dataframe tbody tr th {\n",
       "        vertical-align: top;\n",
       "    }\n",
       "\n",
       "    .dataframe thead tr th {\n",
       "        text-align: left;\n",
       "    }\n",
       "\n",
       "    .dataframe thead tr:last-of-type th {\n",
       "        text-align: right;\n",
       "    }\n",
       "</style>\n",
       "<table border=\"1\" class=\"dataframe\">\n",
       "  <thead>\n",
       "    <tr>\n",
       "      <th></th>\n",
       "      <th colspan=\"2\" halign=\"left\">mae</th>\n",
       "      <th colspan=\"2\" halign=\"left\">corr</th>\n",
       "    </tr>\n",
       "    <tr>\n",
       "      <th></th>\n",
       "      <th>mean</th>\n",
       "      <th>std</th>\n",
       "      <th>mean</th>\n",
       "      <th>std</th>\n",
       "    </tr>\n",
       "    <tr>\n",
       "      <th>architecture</th>\n",
       "      <th></th>\n",
       "      <th></th>\n",
       "      <th></th>\n",
       "      <th></th>\n",
       "    </tr>\n",
       "  </thead>\n",
       "  <tbody>\n",
       "    <tr>\n",
       "      <th>modular</th>\n",
       "      <td>0.520256</td>\n",
       "      <td>0.047595</td>\n",
       "      <td>0.937639</td>\n",
       "      <td>0.003729</td>\n",
       "    </tr>\n",
       "  </tbody>\n",
       "</table>\n",
       "</div>"
      ],
      "text/plain": [
       "                   mae                corr          \n",
       "                  mean       std      mean       std\n",
       "architecture                                        \n",
       "modular       0.520256  0.047595  0.937639  0.003729"
      ]
     },
     "execution_count": 81,
     "metadata": {},
     "output_type": "execute_result"
    }
   ],
   "source": [
    "import pandas as pd\n",
    "pd.DataFrame(results).groupby('architecture').agg(('mean', 'std'))"
   ]
  }
 ],
 "metadata": {
  "kernelspec": {
   "display_name": "Python 3 (ipykernel)",
   "language": "python",
   "name": "python3"
  },
  "language_info": {
   "codemirror_mode": {
    "name": "ipython",
    "version": 3
   },
   "file_extension": ".py",
   "mimetype": "text/x-python",
   "name": "python",
   "nbconvert_exporter": "python",
   "pygments_lexer": "ipython3",
   "version": "3.9.7"
  }
 },
 "nbformat": 4,
 "nbformat_minor": 5
}
