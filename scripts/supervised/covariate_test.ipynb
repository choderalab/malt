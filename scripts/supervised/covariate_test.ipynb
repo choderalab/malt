{
 "cells": [
  {
   "cell_type": "markdown",
   "id": "2c2a4900",
   "metadata": {},
   "source": [
    "# Concentration as Covariate Test"
   ]
  },
  {
   "cell_type": "code",
   "execution_count": 3,
   "id": "992496e5",
   "metadata": {},
   "outputs": [
    {
     "name": "stderr",
     "output_type": "stream",
     "text": [
      "Using backend: pytorch\n"
     ]
    }
   ],
   "source": [
    "import numpy as np\n",
    "import torch\n",
    "import seaborn as sns\n",
    "import malt\n",
    "import pandas as pd\n",
    "import dgllife\n",
    "import matplotlib.pyplot as plt"
   ]
  },
  {
   "cell_type": "code",
   "execution_count": 7,
   "id": "721930ed-70a8-4336-b373-276d7ba394c2",
   "metadata": {},
   "outputs": [
    {
     "name": "stderr",
     "output_type": "stream",
     "text": [
      "100%|██████████████████████████████████████| 2281/2281 [00:07<00:00, 290.94it/s]\n"
     ]
    }
   ],
   "source": [
    "from tqdm import tqdm\n",
    "from malt import Dataset, Point\n",
    "from dgllife.utils import smiles_to_bigraph, CanonicalAtomFeaturizer, CanonicalBondFeaturizer\n",
    "\n",
    "# import dataframe\n",
    "df = pd.read_csv('../../../data/data/moonshot_fluorescence_titration_curves.csv', index_col=0)\n",
    "\n",
    "# index on unique smiles\n",
    "df_smiles = df.reset_index().set_index(['SMILES', 'index'], inplace=False)\n",
    "\n",
    "points = []\n",
    "for smiles, titration_curve in tqdm(df_smiles.groupby(level=0)):\n",
    "    \n",
    "    # gather the titration in a dict of lists\n",
    "    titration_dict = titration_curve.reset_index(drop=True).to_dict(orient='list')\n",
    "    \n",
    "    # convert graph from smiles\n",
    "    g = smiles_to_bigraph(\n",
    "        smiles = smiles,\n",
    "        node_featurizer = CanonicalAtomFeaturizer(),\n",
    "        edge_featurizer = CanonicalBondFeaturizer()\n",
    "    )\n",
    "    \n",
    "    # make point object\n",
    "    point = Point(\n",
    "        smiles = smiles,\n",
    "        g = g,\n",
    "        y = torch.randn(1),\n",
    "        extra = titration_dict\n",
    "    )\n",
    "    \n",
    "    # append\n",
    "    points.append(point)\n",
    "    \n",
    "# create dataset\n",
    "data = Dataset(points)"
   ]
  },
  {
   "cell_type": "code",
   "execution_count": 8,
   "id": "d32a9fec-1a70-444a-8099-c78bd23abc04",
   "metadata": {},
   "outputs": [
    {
     "data": {
      "text/plain": [
       "Dataset with 2281 points"
      ]
     },
     "execution_count": 8,
     "metadata": {},
     "output_type": "execute_result"
    }
   ],
   "source": [
    "data"
   ]
  },
  {
   "cell_type": "code",
   "execution_count": 221,
   "id": "2ff116fe",
   "metadata": {},
   "outputs": [
    {
     "data": {
      "text/plain": [
       "<seaborn.axisgrid.FacetGrid at 0x1c89fb477c8>"
      ]
     },
     "execution_count": 221,
     "metadata": {},
     "output_type": "execute_result"
    },
    {
     "data": {
      "image/png": "[encoded data removed]",
      "text/plain": [
       "<Figure size 360x360 with 1 Axes>"
      ]
     },
     "metadata": {
      "needs_background": "light"
     },
     "output_type": "display_data"
    },
    {
     "data": {
      "image/png": "[encoded data removed]",
      "text/plain": [
       "<Figure size 360x360 with 1 Axes>"
      ]
     },
     "metadata": {
      "needs_background": "light"
     },
     "output_type": "display_data"
    }
   ],
   "source": [
    "sns.displot(\n",
    "    df,\n",
    "    x='concentration',\n",
    "    log_scale=True\n",
    ")\n",
    "\n",
    "sns.displot(\n",
    "    df.query('`%inhibition` > 0.0'),\n",
    "    x='%inhibition'\n",
    ")"
   ]
  },
  {
   "cell_type": "code",
   "execution_count": 9,
   "id": "5408668a",
   "metadata": {},
   "outputs": [],
   "source": [
    "from malt.data.collections import _dataset_from_dgllife\n",
    "data.shuffle(seed=2666)\n",
    "ds_tr, ds_vl, ds_te = data[:1500].split([8, 1, 1])"
   ]
  },
  {
   "cell_type": "markdown",
   "id": "20923ad8",
   "metadata": {},
   "source": [
    "Make model"
   ]
  },
  {
   "cell_type": "code",
   "execution_count": 10,
   "id": "80227b38",
   "metadata": {},
   "outputs": [],
   "source": [
    "model_choice = 'gp' # 'nn'\n",
    "\n",
    "if model_choice == \"gp\":\n",
    "    model = malt.models.supervised_model.GaussianProcessSupervisedModel(\n",
    "        representation=malt.models.representation.DGLRepresentation(\n",
    "            out_features=128,\n",
    "        ),\n",
    "        regressor=malt.models.regressor.ExactGaussianProcessRegressor(\n",
    "            in_features=128, out_features=2,\n",
    "        ),\n",
    "        likelihood=malt.models.likelihood.HeteroschedasticGaussianLikelihood(),\n",
    "    )\n",
    "\n",
    "\n",
    "elif model_choice == \"nn\":\n",
    "    model = malt.models.supervised_model.SimpleSupervisedModel(\n",
    "        representation=malt.models.representation.DGLRepresentation(\n",
    "            out_features=128,\n",
    "        ),\n",
    "        regressor=malt.models.regressor.NeuralNetworkRegressor(\n",
    "            in_features=128, out_features=1,\n",
    "        ),\n",
    "        likelihood=malt.models.likelihood.HomoschedasticGaussianLikelihood(),\n",
    "    )"
   ]
  },
  {
   "cell_type": "markdown",
   "id": "87f812da",
   "metadata": {},
   "source": [
    "Train and evaluate."
   ]
  },
  {
   "cell_type": "code",
   "execution_count": 11,
   "id": "bb68f7d6",
   "metadata": {},
   "outputs": [
    {
     "name": "stdout",
     "output_type": "stream",
     "text": [
      "tensor(-0.1746, grad_fn=<RsubBackward1>)\n",
      "tensor(1.0871, grad_fn=<SqrtBackward0>)\n"
     ]
    },
    {
     "name": "stderr",
     "output_type": "stream",
     "text": [
      "c:\\users\\micha\\dev\\choderalab\\malt\\malt\\metrics\\base_metrics.py:10: UserWarning: Using a target size (torch.Size([150])) that is different to the input size (torch.Size([150, 1])). This will likely lead to incorrect results due to broadcasting. Please ensure they have the same size.\n",
      "  return torch.sqrt(torch.nn.functional.mse_loss(target, input))\n"
     ]
    }
   ],
   "source": [
    "trainer = malt.trainer.get_default_trainer(\n",
    "    without_player=True,\n",
    "    batch_size=len(ds_tr), # len(ds_tr),\n",
    "    n_epochs=50,\n",
    "    learning_rate=1e-3\n",
    ")\n",
    "model = trainer(model, ds_tr)\n",
    "\n",
    "r2 = malt.metrics.supervised_metrics.R2()(model, ds_te)\n",
    "print(r2)\n",
    "\n",
    "rmse = malt.metrics.supervised_metrics.RMSE()(model, ds_te)\n",
    "print(rmse)"
   ]
  },
  {
   "cell_type": "code",
   "execution_count": 12,
   "id": "27b8549a-d100-4080-8549-c70a677c75f8",
   "metadata": {},
   "outputs": [],
   "source": [
    "ds_te_loader = ds_te.view(batch_size=len(ds_te))\n",
    "g, y = next(iter(ds_te_loader))"
   ]
  },
  {
   "cell_type": "code",
   "execution_count": 12,
   "id": "7f7fe61f",
   "metadata": {},
   "outputs": [
    {
     "data": {
      "text/plain": [
       "<seaborn.axisgrid.JointGrid at 0x1f161ae8408>"
      ]
     },
     "execution_count": 12,
     "metadata": {},
     "output_type": "execute_result"
    },
    {
     "data": {
      "image/png": "[encoded data removed]",
      "text/plain": [
       "<Figure size 432x432 with 3 Axes>"
      ]
     },
     "metadata": {
      "needs_background": "light"
     },
     "output_type": "display_data"
    }
   ],
   "source": [
    "ds_te_loader = ds_te.view(batch_size=len(ds_te))\n",
    "g, y = next(iter(ds_te_loader)) \n",
    "y_hat = model.condition(g).mean\n",
    "g = sns.jointplot(x = ds_te.y, y = y_hat.detach().numpy().ravel())\n",
    "g.set_axis_labels('y', '\\hat{y}')"
   ]
  },
  {
   "cell_type": "code",
   "execution_count": 14,
   "id": "ab13f389-888d-47d6-a352-3a25ef320f56",
   "metadata": {},
   "outputs": [
    {
     "data": {
      "text/plain": [
       "<seaborn.axisgrid.FacetGrid at 0x1f12b445888>"
      ]
     },
     "execution_count": 14,
     "metadata": {},
     "output_type": "execute_result"
    },
    {
     "data": {
      "image/png": "[encoded data removed]",
      "text/plain": [
       "<Figure size 360x360 with 1 Axes>"
      ]
     },
     "metadata": {
      "needs_background": "light"
     },
     "output_type": "display_data"
    }
   ],
   "source": [
    "sns.displot(ds_te.y)"
   ]
  },
  {
   "cell_type": "code",
   "execution_count": 13,
   "id": "3551d4b5",
   "metadata": {},
   "outputs": [
    {
     "name": "stdout",
     "output_type": "stream",
     "text": [
      "Processing dgl graphs from scratch...\n",
      "Processing molecule 1000/1128\n",
      "tensor(0.9217, grad_fn=<RsubBackward1>)\n",
      "tensor(2.8730, grad_fn=<SqrtBackward0>)\n"
     ]
    },
    {
     "name": "stderr",
     "output_type": "stream",
     "text": [
      "c:\\users\\micha\\dev\\choderalab\\malt\\malt\\metrics\\base_metrics.py:10: UserWarning: Using a target size (torch.Size([112])) that is different to the input size (torch.Size([112, 1])). This will likely lead to incorrect results due to broadcasting. Please ensure they have the same size.\n",
      "  return torch.sqrt(torch.nn.functional.mse_loss(target, input))\n"
     ]
    }
   ],
   "source": [
    "import torch\n",
    "import dgl\n",
    "import malt\n",
    "import argparse\n",
    "\n",
    "parser = argparse.ArgumentParser()\n",
    "parser.add_argument(\"--data\", type=str, default=\"esol\")\n",
    "parser.add_argument(\"--model\", type=str, default=\"nn\")\n",
    "\n",
    "args = parser.parse_args([])\n",
    "\n",
    "data = getattr(malt.data.collections, args.data)()\n",
    "data.shuffle(seed=2666)\n",
    "ds_tr, ds_vl, ds_te = data.split([8, 1, 1])\n",
    "\n",
    "if args.model == \"gp\":\n",
    "    model = malt.models.supervised_model.GaussianProcessSupervisedModel(\n",
    "        representation=malt.models.representation.DGLRepresentation(\n",
    "            out_features=128,\n",
    "        ),\n",
    "        regressor=malt.models.regressor.ExactGaussianProcessRegressor(\n",
    "            in_features=128, out_features=2,\n",
    "        ),\n",
    "        likelihood=malt.models.likelihood.HeteroschedasticGaussianLikelihood(),\n",
    "    )\n",
    "\n",
    "\n",
    "elif args.model == \"nn\":\n",
    "    model = malt.models.supervised_model.SimpleSupervisedModel(\n",
    "        representation=malt.models.representation.DGLRepresentation(\n",
    "            out_features=128,\n",
    "        ),\n",
    "        regressor=malt.models.regressor.NeuralNetworkRegressor(\n",
    "            in_features=128, out_features=1,\n",
    "        ),\n",
    "        likelihood=malt.models.likelihood.HomoschedasticGaussianLikelihood(),\n",
    "    )\n",
    "\n",
    "\n",
    "trainer = malt.trainer.get_default_trainer(without_player=True, batch_size=len(ds_tr), n_epochs=3000, learning_rate=1e-3)\n",
    "model = trainer(model, ds_tr)\n",
    "\n",
    "r2 = malt.metrics.supervised_metrics.R2()(model, ds_te)\n",
    "print(r2)\n",
    "\n",
    "rmse = malt.metrics.supervised_metrics.RMSE()(model, ds_te)\n",
    "print(rmse)"
   ]
  },
  {
   "cell_type": "code",
   "execution_count": 16,
   "id": "f4bd2416",
   "metadata": {},
   "outputs": [
    {
     "data": {
      "text/plain": [
       "<seaborn.axisgrid.JointGrid at 0x125cf854188>"
      ]
     },
     "execution_count": 16,
     "metadata": {},
     "output_type": "execute_result"
    },
    {
     "data": {
      "image/png": "[encoded data removed]",
      "text/plain": [
       "<Figure size 432x432 with 3 Axes>"
      ]
     },
     "metadata": {
      "needs_background": "light"
     },
     "output_type": "display_data"
    }
   ],
   "source": [
    "ds_te_loader = ds_te.view(batch_size=len(ds_te))\n",
    "g, y = next(iter(ds_te_loader))\n",
    "y_hat = model.condition(g).mean\n",
    "g = sns.jointplot(x = ds_te.y, y = y_hat.detach().numpy())\n",
    "g.set_axis_labels('y', '\\hat{y}')"
   ]
  }
 ],
 "metadata": {
  "kernelspec": {
   "display_name": "Python 3 (ipykernel)",
   "language": "python",
   "name": "python3"
  },
  "language_info": {
   "codemirror_mode": {
    "name": "ipython",
    "version": 3
   },
   "file_extension": ".py",
   "mimetype": "text/x-python",
   "name": "python",
   "nbconvert_exporter": "python",
   "pygments_lexer": "ipython3",
   "version": "3.7.11"
  }
 },
 "nbformat": 4,
 "nbformat_minor": 5
}
