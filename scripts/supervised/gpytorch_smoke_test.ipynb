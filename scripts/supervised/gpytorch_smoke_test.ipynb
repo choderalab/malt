{
 "cells": [
  {
   "cell_type": "code",
   "execution_count": 1,
   "id": "c49ea2e4-01ff-4aa2-9492-67c7d32ef5f5",
   "metadata": {},
   "outputs": [],
   "source": [
    "import math\n",
    "import tqdm\n",
    "import torch\n",
    "import gpytorch\n",
    "from matplotlib import pyplot as plt"
   ]
  },
  {
   "cell_type": "markdown",
   "id": "3cbbf358-3161-46d9-91f5-c81e605db13d",
   "metadata": {},
   "source": [
    "Make data."
   ]
  },
  {
   "cell_type": "code",
   "execution_count": 2,
   "id": "3757db36-289b-440a-b9fb-75ae72de32ff",
   "metadata": {},
   "outputs": [
    {
     "name": "stderr",
     "output_type": "stream",
     "text": [
      "Using backend: pytorch\n"
     ]
    }
   ],
   "source": [
    "%load_ext autoreload\n",
    "%autoreload 2\n",
    "\n",
    "import malt\n",
    "import seaborn as sns\n",
    "from malt.molecule import Molecule"
   ]
  },
  {
   "cell_type": "code",
   "execution_count": 3,
   "id": "6236abe4-4468-4f74-b75c-1a1918f2f523",
   "metadata": {},
   "outputs": [
    {
     "name": "stdout",
     "output_type": "stream",
     "text": [
      "Processing dgl graphs from scratch...\n",
      "Processing molecule 1000/1128\n"
     ]
    }
   ],
   "source": [
    "from malt.data.collections import esol\n",
    "\n",
    "data = esol()\n",
    "data.shuffle(seed=1)\n",
    "data_tr, data_te = data.split([8, 2])"
   ]
  },
  {
   "cell_type": "markdown",
   "id": "12c22501-86eb-4be5-96c7-4854f5076177",
   "metadata": {},
   "source": [
    "Make model."
   ]
  },
  {
   "cell_type": "code",
   "execution_count": 16,
   "id": "690185cb-928d-4182-a0e0-948f1df8daba",
   "metadata": {},
   "outputs": [],
   "source": [
    "model = malt.models.supervised_model.GaussianProcessSupervisedModel(\n",
    "    representation=malt.models.representation.DGLRepresentation(\n",
    "        out_features=32, hidden_features=32,\n",
    "    ),\n",
    "    regressor=malt.models.regressor.GPyTorchExactRegressor(\n",
    "        in_features=32, out_features=2,\n",
    "    ),\n",
    "    likelihood=malt.models.likelihood.HeteroschedasticGaussianLikelihood(),\n",
    ").cuda()"
   ]
  },
  {
   "cell_type": "code",
   "execution_count": 46,
   "id": "d35bfc3a-29c0-4a56-94eb-6fe9e0da43fe",
   "metadata": {},
   "outputs": [],
   "source": [
    "trainer = malt.trainer.get_default_trainer(\n",
    "    without_player=True,\n",
    "    batch_size=len(data_tr),\n",
    "    n_epochs=50,\n",
    "    learning_rate=1e-3,\n",
    "    warmup=0\n",
    ")\n",
    "model = trainer(model, data_tr)\n",
    "\n",
    "# model_cpu = model.to('cpu')\n",
    "r2 = malt.metrics.supervised_metrics.R2()(model, data_tr)"
   ]
  },
  {
   "cell_type": "code",
   "execution_count": 41,
   "id": "7ae32bde-897a-4216-9f3f-0318cf5d8b91",
   "metadata": {},
   "outputs": [],
   "source": [
    "# trainer??"
   ]
  },
  {
   "cell_type": "code",
   "execution_count": 47,
   "id": "cd0228a8-2bc6-429a-bbe3-69119c5b49f9",
   "metadata": {},
   "outputs": [
    {
     "data": {
      "text/plain": [
       "tensor(-1.8980, device='cuda:0', grad_fn=<RsubBackward1>)"
      ]
     },
     "execution_count": 47,
     "metadata": {},
     "output_type": "execute_result"
    }
   ],
   "source": [
    "g, y = data_tr.batch(by=['g', 'y'])\n",
    "model.eval()\n",
    "with torch.no_grad(), gpytorch.settings.use_toeplitz(False), gpytorch.settings.fast_pred_var():\n",
    "    preds = model.condition(g)\n",
    "    \n",
    "from malt.metrics.base_metrics import r2\n",
    "r2(preds.loc, y)"
   ]
  },
  {
   "cell_type": "code",
   "execution_count": 48,
   "id": "70eb8892-d441-42f7-a212-e3666be67158",
   "metadata": {},
   "outputs": [
    {
     "data": {
      "text/plain": [
       "Text(0.5, 1.0, 'gpytorch: training')"
      ]
     },
     "execution_count": 48,
     "metadata": {},
     "output_type": "execute_result"
    },
    {
     "data": {
      "image/png": "[encoded data removed]",
      "text/plain": [
       "<Figure size 432x432 with 3 Axes>"
      ]
     },
     "metadata": {
      "needs_background": "light"
     },
     "output_type": "display_data"
    }
   ],
   "source": [
    "g = sns.jointplot(x = y.ravel().tolist(), y = (preds.loc).tolist())\n",
    "g.set_axis_labels('y', '\\hat{y}')\n",
    "plt.title('gpytorch: training')"
   ]
  }
 ],
 "metadata": {
  "kernelspec": {
   "display_name": "Python 3 (ipykernel)",
   "language": "python",
   "name": "python3"
  },
  "language_info": {
   "codemirror_mode": {
    "name": "ipython",
    "version": 3
   },
   "file_extension": ".py",
   "mimetype": "text/x-python",
   "name": "python",
   "nbconvert_exporter": "python",
   "pygments_lexer": "ipython3",
   "version": "3.9.7"
  }
 },
 "nbformat": 4,
 "nbformat_minor": 5
}
