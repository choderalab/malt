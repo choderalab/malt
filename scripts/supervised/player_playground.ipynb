{
 "cells": [
  {
   "cell_type": "code",
   "execution_count": 128,
   "id": "4ba2e303-3ba1-4a9c-8a07-f950dc1ee0e2",
   "metadata": {},
   "outputs": [
    {
     "name": "stdout",
     "output_type": "stream",
     "text": [
      "The autoreload extension is already loaded. To reload it, use:\n",
      "  %reload_ext autoreload\n"
     ]
    },
    {
     "name": "stderr",
     "output_type": "stream",
     "text": [
      "100%|███████████████████████████████████████████| 10/10 [00:20<00:00,  2.01s/it]\n"
     ]
    }
   ],
   "source": [
    "%load_ext autoreload\n",
    "%autoreload 2\n",
    "\n",
    "from tqdm import tqdm\n",
    "import torch\n",
    "import malt\n",
    "from malt.agents.player import SequentialModelBasedPlayer, SequentialRandomPlayer\n",
    "\n",
    "model = malt.models.supervised_model.SimpleSupervisedModel(\n",
    "    representation=malt.models.representation.DGLRepresentation(\n",
    "        out_features=128\n",
    "    ),\n",
    "    regressor=malt.models.regressor.NeuralNetworkRegressor(\n",
    "        in_features=128, out_features=1\n",
    "    ),\n",
    "    likelihood=malt.models.likelihood.HomoschedasticGaussianLikelihood(),\n",
    ")\n",
    "\n",
    "if torch.cuda.is_available():\n",
    "    model.cuda()\n",
    "\n",
    "marginal_likelihood = malt.models.marginal_likelihood.SimpleMarginalLogLikelihood(\n",
    "    model.likelihood, model\n",
    ")\n",
    "\n",
    "# data = malt.data.collections.linear_alkanes(10)\n",
    "# data = malt.data.collections.esol()\n",
    "# data = data.shuffle()\n",
    "\n",
    "results = []\n",
    "for _ in tqdm(range(10)):\n",
    "    \n",
    "    player = SequentialModelBasedPlayer(\n",
    "        model = model,\n",
    "        marginal_likelihood=marginal_likelihood,\n",
    "        policy=malt.policy.Greedy(acquisition_size=384),\n",
    "        trainer=malt.trainer.get_default_trainer(),\n",
    "        merchant=malt.agents.merchant.DatasetMerchant(data),\n",
    "        assayer=malt.agents.assayer.DatasetAssayer(data),\n",
    "    )\n",
    "\n",
    "# rand_player = SequentialRandomPlayer(\n",
    "#     merchant=malt.agents.merchant.DatasetMerchant(data),\n",
    "#     assayer=malt.agents.assayer.DatasetAssayer(data),\n",
    "#     seed=np.random.randint(1, 1e8)\n",
    "# )\n",
    "\n",
    "    while True:\n",
    "        if player.step() is None or len(player.portfolio) > 800:\n",
    "            break\n",
    "\n",
    "    _, y = player.portfolio.batch()\n",
    "    results.append(\n",
    "        pd.DataFrame(y.cpu()).cummax().reset_index()\n",
    "    )"
   ]
  },
  {
   "cell_type": "code",
   "execution_count": 126,
   "id": "216eb98c-f200-4293-aa24-fa61017a4e8b",
   "metadata": {},
   "outputs": [],
   "source": [
    "# _, y = player.portfolio.batch()\n",
    "\n",
    "# pd.DataFrame(y.cpu()).cummax().plot()"
   ]
  },
  {
   "cell_type": "code",
   "execution_count": 116,
   "id": "3204d920-0932-4190-aa55-bbc27bfdd5fe",
   "metadata": {},
   "outputs": [],
   "source": [
    "# df = pd.concat(results)\n",
    "# df.columns = ['index', 'score']\n",
    "# df = df.reset_index(drop=True)\n",
    "\n",
    "# rand_df = pd.concat(random_results)\n",
    "# rand_df.columns = ['index', 'score']\n",
    "# rand_df = rand_df.reset_index(drop=True)"
   ]
  },
  {
   "cell_type": "code",
   "execution_count": 130,
   "id": "5cf7848a-6e3d-46f5-a581-4eefa1e9ed34",
   "metadata": {},
   "outputs": [
    {
     "data": {
      "text/plain": [
       "<AxesSubplot:xlabel='index', ylabel='score'>"
      ]
     },
     "execution_count": 130,
     "metadata": {},
     "output_type": "execute_result"
    },
    {
     "data": {
      "image/png": "[encoded data removed]",
      "text/plain": [
       "<Figure size 432x288 with 1 Axes>"
      ]
     },
     "metadata": {
      "needs_background": "light"
     },
     "output_type": "display_data"
    }
   ],
   "source": [
    "import seaborn as sns\n",
    "\n",
    "sns.lineplot(data=rand_df, x='index', y='score', color='orange', ci='sd')\n",
    "sns.lineplot(data=df, x='index', y='score', color='blue', ci='sd')"
   ]
  }
 ],
 "metadata": {
  "kernelspec": {
   "display_name": "Python 3 (ipykernel)",
   "language": "python",
   "name": "python3"
  },
  "language_info": {
   "codemirror_mode": {
    "name": "ipython",
    "version": 3
   },
   "file_extension": ".py",
   "mimetype": "text/x-python",
   "name": "python",
   "nbconvert_exporter": "python",
   "pygments_lexer": "ipython3",
   "version": "3.9.7"
  }
 },
 "nbformat": 4,
 "nbformat_minor": 5
}
