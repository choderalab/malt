{
 "cells": [
  {
   "cell_type": "markdown",
   "id": "279bbe55",
   "metadata": {},
   "source": [
    "# Exact GP playground"
   ]
  },
  {
   "cell_type": "code",
   "execution_count": 1,
   "id": "1afcf0a6",
   "metadata": {},
   "outputs": [
    {
     "name": "stderr",
     "output_type": "stream",
     "text": [
      "Using backend: pytorch\n"
     ]
    }
   ],
   "source": [
    "%load_ext autoreload\n",
    "%autoreload 2\n",
    "\n",
    "import torch\n",
    "import malt\n",
    "import abc\n",
    "import gpytorch"
   ]
  },
  {
   "cell_type": "markdown",
   "id": "0e0a3d7f",
   "metadata": {},
   "source": [
    "### Testing"
   ]
  },
  {
   "cell_type": "code",
   "execution_count": 2,
   "id": "bbdb473b",
   "metadata": {},
   "outputs": [
    {
     "data": {
      "text/plain": [
       "<torch._C.Generator at 0x2054fc65810>"
      ]
     },
     "execution_count": 2,
     "metadata": {},
     "output_type": "execute_result"
    }
   ],
   "source": [
    "torch.manual_seed(1)"
   ]
  },
  {
   "cell_type": "code",
   "execution_count": 3,
   "id": "4d8416b0-fe9b-4db7-8736-672f654c4f2a",
   "metadata": {
    "jp-MarkdownHeadingCollapsed": true,
    "tags": []
   },
   "outputs": [
    {
     "ename": "ImportError",
     "evalue": "cannot import name 'GPyTorchExactRegressor' from 'malt.models.regressor' (c:\\users\\micha\\dev\\choderalab\\malt\\malt\\models\\regressor.py)",
     "output_type": "error",
     "traceback": [
      "\u001b[1;31m---------------------------------------------------------------------------\u001b[0m",
      "\u001b[1;31mImportError\u001b[0m                               Traceback (most recent call last)",
      "Input \u001b[1;32mIn [3]\u001b[0m, in \u001b[0;36m<module>\u001b[1;34m\u001b[0m\n\u001b[0;32m      2\u001b[0m \u001b[38;5;28;01mimport\u001b[39;00m \u001b[38;5;21;01mdgl\u001b[39;00m\n\u001b[0;32m      3\u001b[0m \u001b[38;5;28;01mimport\u001b[39;00m \u001b[38;5;21;01mmalt\u001b[39;00m\n\u001b[1;32m----> 5\u001b[0m \u001b[38;5;28;01mfrom\u001b[39;00m \u001b[38;5;21;01mmalt\u001b[39;00m\u001b[38;5;21;01m.\u001b[39;00m\u001b[38;5;21;01mmodels\u001b[39;00m\u001b[38;5;21;01m.\u001b[39;00m\u001b[38;5;21;01mregressor\u001b[39;00m \u001b[38;5;28;01mimport\u001b[39;00m GPyTorchExactRegressor\n\u001b[0;32m      6\u001b[0m \u001b[38;5;28;01mfrom\u001b[39;00m \u001b[38;5;21;01mmalt\u001b[39;00m\u001b[38;5;21;01m.\u001b[39;00m\u001b[38;5;21;01mdata\u001b[39;00m\u001b[38;5;21;01m.\u001b[39;00m\u001b[38;5;21;01mcollections\u001b[39;00m \u001b[38;5;28;01mimport\u001b[39;00m linear_alkanes, esol\n\u001b[0;32m      8\u001b[0m \u001b[38;5;66;03m# get data\u001b[39;00m\n",
      "\u001b[1;31mImportError\u001b[0m: cannot import name 'GPyTorchExactRegressor' from 'malt.models.regressor' (c:\\users\\micha\\dev\\choderalab\\malt\\malt\\models\\regressor.py)"
     ]
    }
   ],
   "source": [
    "import torch\n",
    "import dgl\n",
    "import malt\n",
    "\n",
    "from malt.models.regressor import GPyTorchExactRegressor\n",
    "from malt.data.collections import linear_alkanes, esol\n",
    "\n",
    "# get data\n",
    "la_data = linear_alkanes()\n",
    "la_data = esol()\n",
    "la_data.shuffle()\n",
    "# make dataset bigger ....\n",
    "\n",
    "train_x, train_y = la_data.batch()\n",
    "# train_y = train_y.ravel()\n",
    "\n",
    "# create model\n",
    "model = malt.models.supervised_model.GaussianProcessSupervisedModel(\n",
    "    representation=malt.models.representation.DGLRepresentation(\n",
    "        out_features=32, hidden_features=32,\n",
    "    ),\n",
    "    regressor=GPyTorchExactRegressor(\n",
    "        in_features=32,\n",
    "        out_features=2,\n",
    "        train_targets=train_y,\n",
    "    ),\n",
    "    likelihood=malt.models.likelihood.HeteroschedasticGaussianLikelihood(),\n",
    ").cuda()\n",
    "\n",
    "# define marginal log likelihood\n",
    "from malt.models.marginal_likelihood import ExactMarginalLogLikelihood\n",
    "from malt.models.likelihood import HeteroschedasticGaussianLikelihood\n",
    "\n",
    "# likelihood = HeteroschedasticGaussianLikelihood()\n",
    "# mll = ExactMarginalLogLikelihood(likelihood, net)\n",
    "# likelihood = gpytorch.likelihoods.GaussianLikelihood().cuda()\n",
    "mll = gpytorch.mlls.ExactMarginalLogLikelihood(model.regressor.likelihood, model)\n",
    "\n",
    "# define optimizer\n",
    "optimizer = torch.optim.Adam([\n",
    "    {'params': model.parameters()},\n",
    "], lr=1e-3)"
   ]
  },
  {
   "cell_type": "code",
   "execution_count": 26,
   "id": "82377079-0691-4c72-9863-ec0ce221aa2e",
   "metadata": {},
   "outputs": [],
   "source": [
    "from tqdm import tqdm\n",
    "def train(model, optimizer, mll):\n",
    "    loss_history = []\n",
    "    train_iter = 100\n",
    "    model.train()\n",
    "    for i in tqdm(range(train_iter)):\n",
    "        # Zero backprop gradients\n",
    "        optimizer.zero_grad()\n",
    "        # Get output from model\n",
    "        output = model(train_x)\n",
    "        # Calc loss and backprop derivatives\n",
    "        loss = -mll(output, train_y).mean()\n",
    "        loss.backward()\n",
    "        optimizer.step()\n",
    "        loss_history.append(loss.item())\n",
    "    return model, loss_history"
   ]
  },
  {
   "cell_type": "code",
   "execution_count": 27,
   "id": "bdf1ab7d-c055-4ad7-9c65-226ef25e16bd",
   "metadata": {},
   "outputs": [],
   "source": [
    "def test(model, test_x, test_y):\n",
    "    from scipy.stats import pearsonr\n",
    "    model.eval()\n",
    "    with torch.no_grad(), gpytorch.settings.use_toeplitz(False), gpytorch.settings.fast_pred_var():\n",
    "        preds = model(test_x)\n",
    "\n",
    "    rmse = torch.sqrt(torch.mean(torch.pow(preds.mean - test_y, 2))).item()\n",
    "    mae = torch.mean(torch.abs(preds.mean - test_y)).item()\n",
    "    corr, _ = pearsonr(preds.mean.tolist(), test_y.tolist())\n",
    "    r2 = malt.metrics.base_metrics.r2(preds.loc, test_y).item()\n",
    "    return rmse, mae, corr, r2"
   ]
  },
  {
   "cell_type": "code",
   "execution_count": 28,
   "id": "8adc110d-5206-41dd-829f-3259c08a1555",
   "metadata": {},
   "outputs": [
    {
     "name": "stderr",
     "output_type": "stream",
     "text": [
      "100%|████████████████████████████████████████████████████████████████████████████████| 100/100 [00:08<00:00, 11.67it/s]\n"
     ]
    },
    {
     "name": "stdout",
     "output_type": "stream",
     "text": [
      "rmse: 2.3341455459594727 \n",
      "mae: 1.8450672626495361 \n",
      "corr: [0.6024757630454255] \n",
      "r2: 0.3494410514831543\n"
     ]
    }
   ],
   "source": [
    "model.train()\n",
    "model, loss_history = train(model, optimizer, mll)\n",
    "model.eval()\n",
    "with torch.no_grad(), gpytorch.settings.use_toeplitz(False), gpytorch.settings.fast_pred_var():\n",
    "    preds = model(train_x).loc\n",
    "rmse, mae, corr, r2 = test(model, train_x, train_y)\n",
    "print('rmse:', rmse, '\\nmae:', mae, '\\ncorr:', corr, '\\nr2:', r2)"
   ]
  },
  {
   "cell_type": "code",
   "execution_count": 38,
   "id": "61c2f415-6c3a-4ab1-852c-c69602681f70",
   "metadata": {},
   "outputs": [
    {
     "data": {
      "text/plain": [
       "tensor([-1.7456, -4.4019, -1.3440,  ..., -1.5245, -0.2975, -4.1911],\n",
       "       device='cuda:0', grad_fn=<ViewBackward0>)"
      ]
     },
     "execution_count": 38,
     "metadata": {},
     "output_type": "execute_result"
    }
   ],
   "source": [
    "model.eval()\n",
    "model(train_x).loc"
   ]
  },
  {
   "cell_type": "code",
   "execution_count": 39,
   "id": "908a9872-e843-4c72-936f-5ce31ec9d8a9",
   "metadata": {},
   "outputs": [
    {
     "data": {
      "text/plain": [
       "tensor([-0.8300, -3.7300, -1.1000,  ..., -1.8100, -0.5500, -3.6700],\n",
       "       device='cuda:0')"
      ]
     },
     "execution_count": 39,
     "metadata": {},
     "output_type": "execute_result"
    }
   ],
   "source": [
    "train_y"
   ]
  },
  {
   "cell_type": "code",
   "execution_count": 15,
   "id": "7349e19d",
   "metadata": {},
   "outputs": [],
   "source": [
    "# import gpytorch\n",
    "# likelihood = gpytorch.likelihoods.GaussianLikelihood()\n",
    "# mll = gpytorch.mlls.ExactMarginalLogLikelihood(likelihood, net)\n",
    "\n",
    "# output = net.condition(g)\n",
    "# output = gpytorch.distributions.MultivariateNormal(output.loc.cpu(), output.covariance_matrix.cpu())\n",
    "# print(-mll(output, y.cpu()).mean())"
   ]
  },
  {
   "cell_type": "markdown",
   "id": "38adc2db",
   "metadata": {},
   "source": [
    "# Test with ESOL"
   ]
  },
  {
   "cell_type": "code",
   "execution_count": 32,
   "id": "0c184f67",
   "metadata": {
    "tags": []
   },
   "outputs": [
    {
     "name": "stdout",
     "output_type": "stream",
     "text": [
      "The autoreload extension is already loaded. To reload it, use:\n",
      "  %reload_ext autoreload\n",
      "Processing dgl graphs from scratch...\n"
     ]
    }
   ],
   "source": [
    "%load_ext autoreload\n",
    "%autoreload 2\n",
    "\n",
    "import torch\n",
    "import dgl\n",
    "import malt\n",
    "import argparse\n",
    "import gpytorch\n",
    "\n",
    "parser = argparse.ArgumentParser()\n",
    "parser.add_argument(\"--data\", type=str,\n",
    "                    # default=\"esol\",\n",
    "                    default=\"freesolv\",\n",
    ")\n",
    "parser.add_argument(\"--model\", type=str, default=\"gp\")\n",
    "\n",
    "args = parser.parse_args([])\n",
    "\n",
    "data = getattr(malt.data.collections, args.data)()\n",
    "\n",
    "def test(data):\n",
    "    \n",
    "    data.shuffle(seed=1)\n",
    "    ds_tr, ds_te = data.split([0.8, 0.2])\n",
    "    # ds_tr, _ = ds_tr_vl.split([0.9, 0.1])\n",
    "    \n",
    "    if args.model == \"gp\":\n",
    "        model = malt.models.supervised_model.GaussianProcessSupervisedModel(\n",
    "            representation=malt.models.representation.DGLRepresentation(\n",
    "                out_features=32, hidden_features=32,\n",
    "            ),\n",
    "            regressor=malt.models.regressor.ExactGaussianProcessRegressor(\n",
    "                train_targets=ds_tr.batch(by='y'), in_features=32, out_features=2,\n",
    "            ),\n",
    "            likelihood=malt.models.likelihood.HeteroschedasticGaussianLikelihood(),\n",
    "        ).cuda()\n",
    "\n",
    "\n",
    "    elif args.model == \"nn\":\n",
    "        model = malt.models.supervised_model.SimpleSupervisedModel(\n",
    "            representation=malt.models.representation.DGLRepresentation(\n",
    "                out_features=32,\n",
    "            ),\n",
    "            regressor=malt.models.regressor.NeuralNetworkRegressor(\n",
    "                in_features=32, out_features=1,\n",
    "            ),\n",
    "            likelihood=malt.models.likelihood.HomoschedasticGaussianLikelihood(),\n",
    "        ).cuda()\n",
    "\n",
    "\n",
    "    trainer = malt.trainer.get_default_trainer(\n",
    "        without_player=True,\n",
    "        n_epochs=100,\n",
    "        learning_rate=1e-3,\n",
    "        validation_split=0.0,\n",
    "    )\n",
    "    \n",
    "    mll = malt.models.marginal_likelihood.ExactMarginalLogLikelihood(\n",
    "        model.likelihood,\n",
    "        model\n",
    "    )\n",
    "    \n",
    "    # mll = gpytorch.mlls.ExactMarginalLogLikelihood(\n",
    "    #     model.regressor.likelihood,\n",
    "    #     model\n",
    "    # )\n",
    "    \n",
    "    # return model\n",
    "    model = trainer(model, ds_tr, mll)\n",
    "\n",
    "    # model_cpu = model.to('cpu')\n",
    "    model.eval()\n",
    "    r2_te = malt.metrics.supervised_metrics.R2()(model, ds_te)\n",
    "    r2_tr = malt.metrics.supervised_metrics.R2()(model, ds_tr)\n",
    "    return r2_tr, r2_te, model"
   ]
  },
  {
   "cell_type": "code",
   "execution_count": 110,
   "id": "04cc74e7",
   "metadata": {},
   "outputs": [
    {
     "name": "stderr",
     "output_type": "stream",
     "text": [
      "100%|███████████████████████████████████████████| 10/10 [01:14<00:00,  7.42s/it]\n"
     ]
    }
   ],
   "source": [
    "from tqdm import tqdm\n",
    "\n",
    "r2_trs = []\n",
    "r2_tes = []\n",
    "for _ in tqdm(range(10)):\n",
    "    r2_tr, r2_te, model = test(data)\n",
    "    r2_trs.append(r2_tr)\n",
    "    r2_tes.append(r2_te)"
   ]
  },
  {
   "cell_type": "code",
   "execution_count": 112,
   "id": "86b33bf2",
   "metadata": {},
   "outputs": [
    {
     "data": {
      "text/plain": [
       "[0.9889549612998962,\n",
       " 0.9880563020706177,\n",
       " 0.9909041523933411,\n",
       " 0.991159975528717,\n",
       " 0.9904177784919739,\n",
       " 0.988492488861084,\n",
       " 0.9893581867218018,\n",
       " 0.9850164651870728,\n",
       " 0.9894757866859436,\n",
       " 0.9905683994293213]"
      ]
     },
     "execution_count": 112,
     "metadata": {},
     "output_type": "execute_result"
    }
   ],
   "source": [
    "[r.item() for r in r2_trs]"
   ]
  },
  {
   "cell_type": "code",
   "execution_count": 106,
   "id": "53d56d79",
   "metadata": {},
   "outputs": [
    {
     "data": {
      "text/plain": [
       "Text(0.5, 1.0, 'R^2 [test] | Hard-coded Exact GP')"
      ]
     },
     "execution_count": 106,
     "metadata": {},
     "output_type": "execute_result"
    },
    {
     "data": {
      "image/png": "[encoded data removed]",
      "text/plain": [
       "<Figure size 432x288 with 1 Axes>"
      ]
     },
     "metadata": {
      "needs_background": "light"
     },
     "output_type": "display_data"
    }
   ],
   "source": [
    "import seaborn as sns\n",
    "\n",
    "g = sns.boxplot(data=[r.item() for r in r2_trs])\n",
    "g.set_title('R^2 [test] | Hard-coded Exact GP')"
   ]
  },
  {
   "cell_type": "code",
   "execution_count": 90,
   "id": "da117c2c",
   "metadata": {},
   "outputs": [
    {
     "data": {
      "text/plain": [
       "tensor(0.9705, device='cuda:0')"
      ]
     },
     "execution_count": 90,
     "metadata": {},
     "output_type": "execute_result"
    }
   ],
   "source": [
    "ds_tr, ds_te = data.split([0.8, 0.2])\n",
    "# ds_tr, _ = ds_tr_vl.split([0.9, 0.1])\n",
    "model.eval()\n",
    "r2 = malt.metrics.supervised_metrics.R2()(model, ds_te)\n",
    "r2"
   ]
  },
  {
   "cell_type": "code",
   "execution_count": 51,
   "id": "5b95bea5",
   "metadata": {},
   "outputs": [],
   "source": [
    "ds_tr, ds_te = data.split([9, 1])\n",
    "g, y = ds_tr.batch()\n",
    "model.eval()\n",
    "\n",
    "y_preds = model(g)"
   ]
  },
  {
   "cell_type": "code",
   "execution_count": 52,
   "id": "e7f7e979",
   "metadata": {},
   "outputs": [
    {
     "data": {
      "text/plain": [
       "tensor([-0.0505, -0.0505, -0.0505,  ..., -0.0505, -0.0505, -0.0505],\n",
       "       device='cuda:0', grad_fn=<ExpandBackward0>)"
      ]
     },
     "execution_count": 52,
     "metadata": {},
     "output_type": "execute_result"
    }
   ],
   "source": [
    "y_preds.loc"
   ]
  },
  {
   "cell_type": "code",
   "execution_count": 2,
   "id": "c23e65c2",
   "metadata": {},
   "outputs": [],
   "source": [
    "# data.shuffle(seed=1)\n",
    "# ds_tr, ds_te = data.split([8, 2])\n",
    "# train_targets = ds_tr.batch(by='y')\n",
    "\n",
    "# reg = malt.models.regressor.ExactGaussianProcessRegressor(\n",
    "#     train_targets=train_targets,\n",
    "#     in_features=32,\n",
    "#     out_features=2,\n",
    "# )"
   ]
  },
  {
   "cell_type": "code",
   "execution_count": 3,
   "id": "fdfdaf94",
   "metadata": {},
   "outputs": [],
   "source": [
    "# ds_tr, ds_te = data.split([9, 1])\n",
    "# g, y = ds_tr.batch()\n",
    "# model.representation(g).shape"
   ]
  },
  {
   "cell_type": "code",
   "execution_count": 14,
   "id": "7af02f18",
   "metadata": {},
   "outputs": [],
   "source": [
    "ds_tr_vl, ds_te = data.split([0.9, 0.1])\n",
    "ds_tr, _ = ds_tr_vl.split([0.9, 0.1])"
   ]
  },
  {
   "cell_type": "code",
   "execution_count": 17,
   "id": "390abf4e",
   "metadata": {},
   "outputs": [
    {
     "data": {
      "text/plain": [
       "Dataset with 913 molecules"
      ]
     },
     "execution_count": 17,
     "metadata": {},
     "output_type": "execute_result"
    }
   ],
   "source": [
    "ds_tr"
   ]
  },
  {
   "cell_type": "code",
   "execution_count": 13,
   "id": "aa1186df",
   "metadata": {},
   "outputs": [
    {
     "ename": "NameError",
     "evalue": "name 'ds_tr_vl' is not defined",
     "output_type": "error",
     "traceback": [
      "\u001b[1;31m---------------------------------------------------------------------------\u001b[0m",
      "\u001b[1;31mNameError\u001b[0m                                 Traceback (most recent call last)",
      "Input \u001b[1;32mIn [13]\u001b[0m, in \u001b[0;36m<module>\u001b[1;34m\u001b[0m\n\u001b[1;32m----> 1\u001b[0m \u001b[43mds_tr_vl\u001b[49m\n",
      "\u001b[1;31mNameError\u001b[0m: name 'ds_tr_vl' is not defined"
     ]
    }
   ],
   "source": [
    "ds_tr_vl"
   ]
  },
  {
   "cell_type": "code",
   "execution_count": 8,
   "id": "a79da2fc",
   "metadata": {},
   "outputs": [
    {
     "name": "stdout",
     "output_type": "stream",
     "text": [
      "torch.Size([913, 1])\n"
     ]
    },
    {
     "ename": "NameError",
     "evalue": "name 'math' is not defined",
     "output_type": "error",
     "traceback": [
      "\u001b[1;31m---------------------------------------------------------------------------\u001b[0m",
      "\u001b[1;31mNameError\u001b[0m                                 Traceback (most recent call last)",
      "Input \u001b[1;32mIn [8]\u001b[0m, in \u001b[0;36m<module>\u001b[1;34m\u001b[0m\n\u001b[0;32m     38\u001b[0m mll \u001b[38;5;241m=\u001b[39m malt\u001b[38;5;241m.\u001b[39mmodels\u001b[38;5;241m.\u001b[39mmarginal_likelihood\u001b[38;5;241m.\u001b[39mExactMarginalLogLikelihood(\n\u001b[0;32m     39\u001b[0m     model\u001b[38;5;241m.\u001b[39mlikelihood,\n\u001b[0;32m     40\u001b[0m     model\n\u001b[0;32m     41\u001b[0m )\n\u001b[0;32m     43\u001b[0m \u001b[38;5;66;03m# return model\u001b[39;00m\n\u001b[1;32m---> 44\u001b[0m model \u001b[38;5;241m=\u001b[39m \u001b[43mtrainer\u001b[49m\u001b[43m(\u001b[49m\u001b[43mmodel\u001b[49m\u001b[43m,\u001b[49m\u001b[43m \u001b[49m\u001b[43mds_tr_vl\u001b[49m\u001b[43m,\u001b[49m\u001b[43m \u001b[49m\u001b[43mmll\u001b[49m\u001b[43m)\u001b[49m\n\u001b[0;32m     46\u001b[0m \u001b[38;5;66;03m# model_cpu = model.to('cpu')\u001b[39;00m\n\u001b[0;32m     47\u001b[0m r2 \u001b[38;5;241m=\u001b[39m malt\u001b[38;5;241m.\u001b[39mmetrics\u001b[38;5;241m.\u001b[39msupervised_metrics\u001b[38;5;241m.\u001b[39mR2()(model, ds_te)\n",
      "File \u001b[1;32mc:\\users\\micha\\dev\\choderalab\\malt\\malt\\trainer.py:111\u001b[0m, in \u001b[0;36mget_default_trainer.<locals>._default_trainer_without_player\u001b[1;34m(model, ds, marginal_likelihood, optimizer, learning_rate, n_epochs, batch_size, min_learning_rate, warmup)\u001b[0m\n\u001b[0;32m    109\u001b[0m optimizer\u001b[38;5;241m.\u001b[39mzero_grad()\n\u001b[0;32m    110\u001b[0m output \u001b[38;5;241m=\u001b[39m model(inputs)\n\u001b[1;32m--> 111\u001b[0m loss \u001b[38;5;241m=\u001b[39m \u001b[38;5;241m-\u001b[39m\u001b[43mmarginal_likelihood\u001b[49m\u001b[43m(\u001b[49m\u001b[43moutput\u001b[49m\u001b[43m,\u001b[49m\u001b[43m \u001b[49m\u001b[43mtargets\u001b[49m\u001b[43m)\u001b[49m\u001b[38;5;241m.\u001b[39mmean()\n\u001b[0;32m    112\u001b[0m loss\u001b[38;5;241m.\u001b[39mbackward()\n\u001b[0;32m    113\u001b[0m optimizer\u001b[38;5;241m.\u001b[39mstep()\n",
      "File \u001b[1;32m~\\miniconda3\\envs\\malt\\lib\\site-packages\\torch\\nn\\modules\\module.py:1102\u001b[0m, in \u001b[0;36mModule._call_impl\u001b[1;34m(self, *input, **kwargs)\u001b[0m\n\u001b[0;32m   1098\u001b[0m \u001b[38;5;66;03m# If we don't have any hooks, we want to skip the rest of the logic in\u001b[39;00m\n\u001b[0;32m   1099\u001b[0m \u001b[38;5;66;03m# this function, and just call forward.\u001b[39;00m\n\u001b[0;32m   1100\u001b[0m \u001b[38;5;28;01mif\u001b[39;00m \u001b[38;5;129;01mnot\u001b[39;00m (\u001b[38;5;28mself\u001b[39m\u001b[38;5;241m.\u001b[39m_backward_hooks \u001b[38;5;129;01mor\u001b[39;00m \u001b[38;5;28mself\u001b[39m\u001b[38;5;241m.\u001b[39m_forward_hooks \u001b[38;5;129;01mor\u001b[39;00m \u001b[38;5;28mself\u001b[39m\u001b[38;5;241m.\u001b[39m_forward_pre_hooks \u001b[38;5;129;01mor\u001b[39;00m _global_backward_hooks\n\u001b[0;32m   1101\u001b[0m         \u001b[38;5;129;01mor\u001b[39;00m _global_forward_hooks \u001b[38;5;129;01mor\u001b[39;00m _global_forward_pre_hooks):\n\u001b[1;32m-> 1102\u001b[0m     \u001b[38;5;28;01mreturn\u001b[39;00m forward_call(\u001b[38;5;241m*\u001b[39m\u001b[38;5;28minput\u001b[39m, \u001b[38;5;241m*\u001b[39m\u001b[38;5;241m*\u001b[39mkwargs)\n\u001b[0;32m   1103\u001b[0m \u001b[38;5;66;03m# Do not call functions when jit is used\u001b[39;00m\n\u001b[0;32m   1104\u001b[0m full_backward_hooks, non_full_backward_hooks \u001b[38;5;241m=\u001b[39m [], []\n",
      "File \u001b[1;32mc:\\users\\micha\\dev\\choderalab\\malt\\malt\\models\\marginal_likelihood.py:66\u001b[0m, in \u001b[0;36mExactMarginalLogLikelihood.forward\u001b[1;34m(self, output, target, *args, **kwargs)\u001b[0m\n\u001b[0;32m     59\u001b[0m \u001b[38;5;28;01mdef\u001b[39;00m \u001b[38;5;21mforward\u001b[39m(\u001b[38;5;28mself\u001b[39m, output, target, \u001b[38;5;241m*\u001b[39margs, \u001b[38;5;241m*\u001b[39m\u001b[38;5;241m*\u001b[39mkwargs):\n\u001b[0;32m     61\u001b[0m     alpha, l_low \u001b[38;5;241m=\u001b[39m \u001b[38;5;28mself\u001b[39m\u001b[38;5;241m.\u001b[39mmodel\u001b[38;5;241m.\u001b[39mregressor\u001b[38;5;241m.\u001b[39mmll_vars\n\u001b[0;32m     63\u001b[0m     mll \u001b[38;5;241m=\u001b[39m (\n\u001b[0;32m     64\u001b[0m         \u001b[38;5;241m-\u001b[39m\u001b[38;5;241m0.5\u001b[39m \u001b[38;5;241m*\u001b[39m (target\u001b[38;5;241m.\u001b[39mt() \u001b[38;5;241m@\u001b[39m alpha)\n\u001b[0;32m     65\u001b[0m         \u001b[38;5;241m+\u001b[39m torch\u001b[38;5;241m.\u001b[39mtrace(l_low)\n\u001b[1;32m---> 66\u001b[0m         \u001b[38;5;241m+\u001b[39m \u001b[38;5;241m0.5\u001b[39m \u001b[38;5;241m*\u001b[39m target\u001b[38;5;241m.\u001b[39mshape[\u001b[38;5;241m0\u001b[39m] \u001b[38;5;241m*\u001b[39m \u001b[43mmath\u001b[49m\u001b[38;5;241m.\u001b[39mlog(\u001b[38;5;241m2.0\u001b[39m \u001b[38;5;241m*\u001b[39m math\u001b[38;5;241m.\u001b[39mpi)\n\u001b[0;32m     67\u001b[0m     )\n\u001b[0;32m     69\u001b[0m     \u001b[38;5;28;01mreturn\u001b[39;00m mll\n",
      "\u001b[1;31mNameError\u001b[0m: name 'math' is not defined"
     ]
    }
   ],
   "source": [
    "data.shuffle(seed=1)\n",
    "ds_tr_vl, ds_te = data.split([0.9, 0.1])\n",
    "ds_tr, _ = ds_tr_vl.split([0.9, 0.1])\n",
    "\n",
    "print(ds_tr.batch(by='y').shape)\n",
    "\n",
    "if args.model == \"gp\":\n",
    "    model = malt.models.supervised_model.GaussianProcessSupervisedModel(\n",
    "        representation=malt.models.representation.DGLRepresentation(\n",
    "            out_features=32, hidden_features=32,\n",
    "        ),\n",
    "        regressor=malt.models.regressor.ExactGaussianProcessRegressor(\n",
    "            train_targets=ds_tr.batch(by='y'), in_features=32, out_features=2,\n",
    "        ),\n",
    "        likelihood=malt.models.likelihood.HeteroschedasticGaussianLikelihood(),\n",
    "    ).cuda()\n",
    "\n",
    "\n",
    "elif args.model == \"nn\":\n",
    "    model = malt.models.supervised_model.SimpleSupervisedModel(\n",
    "        representation=malt.models.representation.DGLRepresentation(\n",
    "            out_features=32,\n",
    "        ),\n",
    "        regressor=malt.models.regressor.NeuralNetworkRegressor(\n",
    "            in_features=32, out_features=1,\n",
    "        ),\n",
    "        likelihood=malt.models.likelihood.HomoschedasticGaussianLikelihood(),\n",
    "    ).cuda()\n",
    "\n",
    "\n",
    "trainer = malt.trainer.get_default_trainer(\n",
    "    without_player=True,\n",
    "    batch_size=len(ds_tr_vl),\n",
    "    n_epochs=100,\n",
    "    learning_rate=1e-3,\n",
    ")\n",
    "\n",
    "mll = malt.models.marginal_likelihood.ExactMarginalLogLikelihood(\n",
    "    model.likelihood,\n",
    "    model\n",
    ")\n",
    "\n",
    "# return model\n",
    "model = trainer(model, ds_tr_vl, mll)\n",
    "\n",
    "# model_cpu = model.to('cpu')\n",
    "r2 = malt.metrics.supervised_metrics.R2()(model, ds_te)"
   ]
  }
 ],
 "metadata": {
  "kernelspec": {
   "display_name": "Python 3 (ipykernel)",
   "language": "python",
   "name": "python3"
  },
  "language_info": {
   "codemirror_mode": {
    "name": "ipython",
    "version": 3
   },
   "file_extension": ".py",
   "mimetype": "text/x-python",
   "name": "python",
   "nbconvert_exporter": "python",
   "pygments_lexer": "ipython3",
   "version": "3.9.7"
  }
 },
 "nbformat": 4,
 "nbformat_minor": 5
}
