{
 "cells": [
  {
   "cell_type": "markdown",
   "id": "2c2a4900",
   "metadata": {},
   "source": [
    "# pIC50 Test"
   ]
  },
  {
   "cell_type": "code",
   "execution_count": 1,
   "id": "992496e5",
   "metadata": {},
   "outputs": [
    {
     "name": "stderr",
     "output_type": "stream",
     "text": [
      "Using backend: pytorch\n"
     ]
    }
   ],
   "source": [
    "%load_ext autoreload\n",
    "%autoreload 2\n",
    "\n",
    "import numpy as np\n",
    "import torch\n",
    "import seaborn as sns\n",
    "import malt\n",
    "import pandas as pd\n",
    "import dgllife\n",
    "import math"
   ]
  },
  {
   "cell_type": "code",
   "execution_count": 3,
   "id": "62e16147",
   "metadata": {},
   "outputs": [
    {
     "name": "stderr",
     "output_type": "stream",
     "text": [
      "100%|█████████████████████████████████████| 1606/1606 [00:01<00:00, 1557.78it/s]\n"
     ]
    }
   ],
   "source": [
    "from dgllife.utils import smiles_to_bigraph, CanonicalAtomFeaturizer, CanonicalBondFeaturizer\n",
    "from pathlib import Path\n",
    "f = f'{Path.home()}/dev/choderalab/data/data/moonshot_fluorescence_titration_curves.csv'\n",
    "import pandas as pd\n",
    "df = pd.read_csv(f, index_col=0).dropna()\n",
    "# df['ic50'] *= 1e4\n",
    "df['pic50'] = df['ic50'].apply(lambda x: -math.log10(x))\n",
    "df = df.rename(\n",
    "    {\n",
    "        'concentration': 'c',\n",
    "        'inhibition': 'inhib',\n",
    "        'pic50': 'y',\n",
    "    }, \n",
    "    axis=1\n",
    ")\n",
    "df = df.drop_duplicates('SMILES')\n",
    "\n",
    "from dgllife.utils import smiles_to_bigraph, CanonicalAtomFeaturizer, CanonicalBondFeaturizer\n",
    "\n",
    "def parse_graph(smiles):\n",
    "    return smiles_to_bigraph(\n",
    "        smiles = smiles,\n",
    "        node_featurizer = CanonicalAtomFeaturizer(),\n",
    "        edge_featurizer = CanonicalBondFeaturizer()\n",
    "    )\n",
    "\n",
    "from malt import Dataset, AssayedMolecule\n",
    "from tqdm import tqdm\n",
    "\n",
    "molecules = []\n",
    "for smiles, mol_metadata in tqdm(df.groupby('SMILES')):\n",
    "    molecule = AssayedMolecule(\n",
    "        smiles = smiles,\n",
    "        metadata = {'fluorescence': mol_metadata.drop('SMILES', axis=1).to_dict('records')}\n",
    "    )\n",
    "    molecules.append(molecule)\n",
    "    \n",
    "# create dataset\n",
    "data = Dataset(molecules)\n",
    "data.shuffle(seed=2666)\n",
    "ds_tr, ds_te = data.split([8, 2])"
   ]
  },
  {
   "cell_type": "markdown",
   "id": "20923ad8",
   "metadata": {},
   "source": [
    "Make model"
   ]
  },
  {
   "cell_type": "code",
   "execution_count": 4,
   "id": "80227b38",
   "metadata": {},
   "outputs": [],
   "source": [
    "model_choice = 'gp' # 'nn'\n",
    "if model_choice == \"gp\":\n",
    "    model = malt.models.supervised_model.GaussianProcessSupervisedModel(\n",
    "        representation=malt.models.representation.DGLRepresentation(\n",
    "            out_features=32,\n",
    "            hidden_features=32,\n",
    "        ),\n",
    "        regressor=malt.models.regressor.ExactGaussianProcessRegressor(\n",
    "            in_features=32, out_features=2,\n",
    "        ),\n",
    "        likelihood=malt.models.likelihood.HeteroschedasticGaussianLikelihood(),\n",
    "    ).cuda()\n",
    "\n",
    "elif model_choice == \"nn\":\n",
    "    model = malt.models.supervised_model.SimpleSupervisedModel(\n",
    "        representation=malt.models.representation.DGLRepresentation(\n",
    "            out_features=32,\n",
    "        ),\n",
    "        regressor=malt.models.regressor.NeuralNetworkRegressor(\n",
    "            in_features=32, out_features=1,\n",
    "        ),\n",
    "        likelihood=malt.models.likelihood.HomoschedasticGaussianLikelihood(),\n",
    "    ).cuda()"
   ]
  },
  {
   "cell_type": "markdown",
   "id": "87f812da",
   "metadata": {},
   "source": [
    "Train and evaluate."
   ]
  },
  {
   "cell_type": "code",
   "execution_count": 6,
   "id": "bb68f7d6",
   "metadata": {},
   "outputs": [
    {
     "name": "stdout",
     "output_type": "stream",
     "text": [
      "tensor(0.1266, device='cuda:0', grad_fn=<RsubBackward1>)\n",
      "tensor(1.0307, device='cuda:0', grad_fn=<SqrtBackward0>)\n"
     ]
    },
    {
     "name": "stderr",
     "output_type": "stream",
     "text": [
      "c:\\users\\micha\\dev\\choderalab\\malt\\malt\\metrics\\base_metrics.py:10: UserWarning: Using a target size (torch.Size([321])) that is different to the input size (torch.Size([321, 1])). This will likely lead to incorrect results due to broadcasting. Please ensure they have the same size.\n",
      "  return torch.sqrt(torch.nn.functional.mse_loss(target, input))\n"
     ]
    }
   ],
   "source": [
    "trainer = malt.trainer.get_default_trainer(\n",
    "    without_player=True,\n",
    "    batch_size=len(ds_tr), # len(ds_tr),\n",
    "    n_epochs=1600,\n",
    "    learning_rate=1e-3\n",
    ")\n",
    "\n",
    "model = trainer(model, ds_tr)\n",
    "\n",
    "r2 = malt.metrics.supervised_metrics.R2()(model, ds_te)\n",
    "print(r2)\n",
    "\n",
    "rmse = malt.metrics.supervised_metrics.RMSE()(model, ds_te)\n",
    "print(rmse)"
   ]
  },
  {
   "cell_type": "code",
   "execution_count": 7,
   "id": "a2ee2e41-f0d8-4534-a227-9164ed760ea6",
   "metadata": {},
   "outputs": [
    {
     "name": "stdout",
     "output_type": "stream",
     "text": [
      "tensor(0.7747, device='cuda:0', grad_fn=<RsubBackward1>)\n",
      "tensor(1.0840, device='cuda:0', grad_fn=<SqrtBackward0>)\n"
     ]
    },
    {
     "name": "stderr",
     "output_type": "stream",
     "text": [
      "c:\\users\\micha\\dev\\choderalab\\malt\\malt\\metrics\\base_metrics.py:10: UserWarning: Using a target size (torch.Size([1284])) that is different to the input size (torch.Size([1284, 1])). This will likely lead to incorrect results due to broadcasting. Please ensure they have the same size.\n",
      "  return torch.sqrt(torch.nn.functional.mse_loss(target, input))\n"
     ]
    }
   ],
   "source": [
    "r2 = malt.metrics.supervised_metrics.R2()(model, ds_tr)\n",
    "print(r2)\n",
    "\n",
    "rmse = malt.metrics.supervised_metrics.RMSE()(model, ds_tr)\n",
    "print(rmse)"
   ]
  },
  {
   "cell_type": "code",
   "execution_count": 12,
   "id": "7f7fe61f",
   "metadata": {},
   "outputs": [
    {
     "data": {
      "image/png": "[encoded data removed]",
      "text/plain": [
       "<Figure size 432x432 with 3 Axes>"
      ]
     },
     "metadata": {
      "needs_background": "light"
     },
     "output_type": "display_data"
    }
   ],
   "source": [
    "import matplotlib.pyplot as plt\n",
    "\n",
    "g, y = ds_te.batch()\n",
    "y_hat = model.condition(g).mean\n",
    "\n",
    "# idx = torch.argmax(y.ravel() - y_hat)\n",
    "# y = torch.cat([y[:idx], y[idx+1:]])\n",
    "# y_hat = torch.cat([y_hat[:idx], y_hat[idx+1:]])\n",
    "\n",
    "g = sns.jointplot(\n",
    "    x = y.ravel().tolist(),\n",
    "    y = y_hat.ravel().tolist(),\n",
    ")\n",
    "g.set_axis_labels('y', '\\hat{y}')\n",
    "g.fig.suptitle('Test set y (pIC50) vs. \\hat{y} | arch = 3x128 GraphConv')\n",
    "g.fig.tight_layout()\n",
    "g.fig.subplots_adjust(top=0.95)"
   ]
  },
  {
   "cell_type": "code",
   "execution_count": 13,
   "id": "c968893e-63e5-429d-aec5-45f376ff5c6d",
   "metadata": {},
   "outputs": [
    {
     "data": {
      "text/plain": [
       "(0.49855661624980613, 1.4231587899330497e-21)"
      ]
     },
     "execution_count": 13,
     "metadata": {},
     "output_type": "execute_result"
    }
   ],
   "source": [
    "from scipy.stats import pearsonr\n",
    "\n",
    "pearsonr(y.ravel().tolist(), y_hat.tolist())"
   ]
  },
  {
   "cell_type": "markdown",
   "id": "45aec6e2-d176-45bf-a3f8-c5d731aacb3f",
   "metadata": {},
   "source": [
    "## ESOL experiments"
   ]
  },
  {
   "cell_type": "code",
   "execution_count": 93,
   "id": "3551d4b5",
   "metadata": {
    "tags": []
   },
   "outputs": [
    {
     "name": "stdout",
     "output_type": "stream",
     "text": [
      "Processing dgl graphs from scratch...\n",
      "Processing molecule 1000/1128\n"
     ]
    }
   ],
   "source": [
    "import torch\n",
    "import dgl\n",
    "import malt\n",
    "import argparse\n",
    "\n",
    "parser = argparse.ArgumentParser()\n",
    "parser.add_argument(\"--data\", type=str, default=\"esol\")\n",
    "parser.add_argument(\"--model\", type=str, default=\"gp\")\n",
    "\n",
    "args = parser.parse_args([])\n",
    "\n",
    "data = getattr(malt.data.collections, args.data)()\n",
    "\n",
    "\n",
    "def test(data):\n",
    "    \n",
    "    data.shuffle(seed=1)\n",
    "    ds_tr, ds_te = data.split([8, 2])\n",
    "\n",
    "    if args.model == \"gp\":\n",
    "        model = malt.models.supervised_model.GaussianProcessSupervisedModel(\n",
    "            representation=malt.models.representation.DGLRepresentation(\n",
    "                out_features=32, hidden_features=32,\n",
    "            ),\n",
    "            regressor=malt.models.regressor.ExactGaussianProcessRegressor(\n",
    "                in_features=32, out_features=2,\n",
    "            ),\n",
    "            likelihood=malt.models.likelihood.HeteroschedasticGaussianLikelihood(),\n",
    "        ).cuda()\n",
    "\n",
    "\n",
    "    elif args.model == \"nn\":\n",
    "        model = malt.models.supervised_model.SimpleSupervisedModel(\n",
    "            representation=malt.models.representation.DGLRepresentation(\n",
    "                out_features=32,\n",
    "            ),\n",
    "            regressor=malt.models.regressor.NeuralNetworkRegressor(\n",
    "                in_features=32, out_features=1,\n",
    "            ),\n",
    "            likelihood=malt.models.likelihood.HomoschedasticGaussianLikelihood(),\n",
    "        ).cuda()\n",
    "\n",
    "\n",
    "    trainer = malt.trainer.get_default_trainer(\n",
    "        without_player=True,\n",
    "        batch_size=len(ds_tr),\n",
    "        n_epochs=100,\n",
    "        learning_rate=1e-3,\n",
    "    )\n",
    "    model = trainer(model, ds_tr)\n",
    "\n",
    "    # model_cpu = model.to('cpu')\n",
    "    r2 = malt.metrics.supervised_metrics.R2()(model, ds_te)\n",
    "\n",
    "    # rmse = malt.metrics.supervised_metrics.RMSE()(model, ds_te)\n",
    "    # print(rmse)\n",
    "    return r2"
   ]
  },
  {
   "cell_type": "code",
   "execution_count": 94,
   "id": "0391c491-9ad6-4232-abb2-b56ef2f365f3",
   "metadata": {},
   "outputs": [
    {
     "name": "stderr",
     "output_type": "stream",
     "text": [
      "100%|██████████████████████████████████████████████████████████████████████████████████| 20/20 [04:54<00:00, 14.73s/it]\n"
     ]
    }
   ],
   "source": [
    "from tqdm import tqdm\n",
    "r2s = []\n",
    "for _ in tqdm(range(20)):\n",
    "    r2s.append(\n",
    "        test(data).item()\n",
    "    )"
   ]
  },
  {
   "cell_type": "code",
   "execution_count": 79,
   "id": "f4bd2416",
   "metadata": {},
   "outputs": [
    {
     "data": {
      "text/plain": [
       "Text(0.5, 1.0, 'hand-coded: testing')"
      ]
     },
     "execution_count": 79,
     "metadata": {},
     "output_type": "execute_result"
    },
    {
     "data": {
      "image/png": "[encoded data removed]",
      "text/plain": [
       "<Figure size 432x432 with 3 Axes>"
      ]
     },
     "metadata": {
      "needs_background": "light"
     },
     "output_type": "display_data"
    }
   ],
   "source": [
    "import seaborn as sns\n",
    "import matplotlib.pyplot as plt\n",
    "from copy import deepcopy\n",
    "\n",
    "ds_plot = deepcopy(ds_tr)\n",
    "ds_plot_loader = ds_plot.view(batch_size=len(ds_plot))\n",
    "g, y = next(iter(ds_plot_loader))\n",
    "y_hat = model.condition(g).mean\n",
    "g = sns.jointplot(x = ds_plot.batch(by=['y']).ravel().tolist(), y = (y_hat * 0.8).tolist())\n",
    "g.set_axis_labels('y', '\\hat{y}')\n",
    "plt.title('hand-coded: testing')"
   ]
  },
  {
   "cell_type": "code",
   "execution_count": 53,
   "id": "a20744bf-f940-47a9-9069-fdfc08366bb8",
   "metadata": {},
   "outputs": [
    {
     "data": {
      "text/plain": [
       "(0.9558257872801152, 1.4668193117261497e-120)"
      ]
     },
     "execution_count": 53,
     "metadata": {},
     "output_type": "execute_result"
    }
   ],
   "source": [
    "from scipy.stats import pearsonr\n",
    "\n",
    "pearsonr(\n",
    "    ds_te.batch(by=['y']).ravel().tolist(), y = (y_hat * 0.8).tolist()\n",
    ")"
   ]
  },
  {
   "cell_type": "code",
   "execution_count": 51,
   "id": "c6e1e683-3d95-4c0b-acee-5c3ee5e550d8",
   "metadata": {},
   "outputs": [
    {
     "data": {
      "text/plain": [
       "tensor(0.8804, device='cuda:0', grad_fn=<RsubBackward1>)"
      ]
     },
     "execution_count": 51,
     "metadata": {},
     "output_type": "execute_result"
    }
   ],
   "source": [
    "from malt.metrics.base_metrics import r2\n",
    "\n",
    "r2(\n",
    "    ds_te.batch(by=['y']), (y_hat * 0.95)\n",
    ")"
   ]
  }
 ],
 "metadata": {
  "kernelspec": {
   "display_name": "Python 3 (ipykernel)",
   "language": "python",
   "name": "python3"
  },
  "language_info": {
   "codemirror_mode": {
    "name": "ipython",
    "version": 3
   },
   "file_extension": ".py",
   "mimetype": "text/x-python",
   "name": "python",
   "nbconvert_exporter": "python",
   "pygments_lexer": "ipython3",
   "version": "3.9.7"
  }
 },
 "nbformat": 4,
 "nbformat_minor": 5
}
