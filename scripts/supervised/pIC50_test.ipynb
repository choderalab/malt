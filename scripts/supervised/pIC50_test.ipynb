{
 "cells": [
  {
   "cell_type": "markdown",
   "id": "2c2a4900",
   "metadata": {},
   "source": [
    "# pIC50 Test"
   ]
  },
  {
   "cell_type": "code",
   "execution_count": 1,
   "id": "992496e5",
   "metadata": {},
   "outputs": [
    {
     "name": "stderr",
     "output_type": "stream",
     "text": [
      "Using backend: pytorch\n"
     ]
    }
   ],
   "source": [
    "import numpy as np\n",
    "import torch\n",
    "import seaborn as sns\n",
    "import malt\n",
    "import pandas as pd\n",
    "import dgllife"
   ]
  },
  {
   "cell_type": "code",
   "execution_count": 2,
   "id": "62e16147",
   "metadata": {},
   "outputs": [
    {
     "name": "stdout",
     "output_type": "stream",
     "text": [
      "Processing dgl graphs from scratch...\n",
      "Processing molecule 1000/2260\n",
      "Processing molecule 2000/2260\n"
     ]
    }
   ],
   "source": [
    "from dgllife.utils import smiles_to_bigraph, CanonicalAtomFeaturizer, CanonicalBondFeaturizer\n",
    "df = pd.read_csv('../../../data/moonshot_pIC50.csv', index_col=0)\n",
    "\n",
    "dgllife_dataset = dgllife.data.csv_dataset.MoleculeCSVDataset(\n",
    "    df=df,\n",
    "    smiles_to_graph=smiles_to_bigraph,\n",
    "    node_featurizer=CanonicalAtomFeaturizer(),\n",
    "    edge_featurizer=CanonicalBondFeaturizer(),\n",
    "    smiles_column='SMILES',\n",
    "    task_names=[\n",
    "        # 'MW', 'cLogP', 'r_inhibition_at_20_uM',\n",
    "        # 'r_inhibition_at_50_uM', 'r_avg_IC50', 'f_inhibition_at_20_uM',\n",
    "        # 'f_inhibition_at_50_uM', 'f_avg_IC50', 'relative_solubility_at_20_uM',\n",
    "        # 'relative_solubility_at_100_uM', 'trypsin_IC50',\n",
    "        'f_avg_pIC50'\n",
    "    ],\n",
    "    init_mask=False,\n",
    "    cache_file_path='../../../data/moonshot_pIC50.bin'\n",
    ")"
   ]
  },
  {
   "cell_type": "code",
   "execution_count": 3,
   "id": "2ff116fe",
   "metadata": {},
   "outputs": [
    {
     "data": {
      "text/plain": [
       "<seaborn.axisgrid.FacetGrid at 0x1192a3b2888>"
      ]
     },
     "execution_count": 3,
     "metadata": {},
     "output_type": "execute_result"
    },
    {
     "data": {
      "image/png": "[encoded data removed]",
      "text/plain": [
       "<Figure size 360x360 with 1 Axes>"
      ]
     },
     "metadata": {
      "needs_background": "light"
     },
     "output_type": "display_data"
    }
   ],
   "source": [
    "sns.displot(dgllife_dataset.labels.numpy()[dgllife_dataset.labels.numpy() > 4.005])"
   ]
  },
  {
   "cell_type": "code",
   "execution_count": 1,
   "id": "5408668a",
   "metadata": {},
   "outputs": [
    {
     "name": "stderr",
     "output_type": "stream",
     "text": [
      "Using backend: pytorch\n"
     ]
    },
    {
     "ename": "NameError",
     "evalue": "name 'dgllife_dataset' is not defined",
     "output_type": "error",
     "traceback": [
      "\u001b[1;31m---------------------------------------------------------------------------\u001b[0m",
      "\u001b[1;31mNameError\u001b[0m                                 Traceback (most recent call last)",
      "\u001b[1;32m~\\AppData\\Local\\Temp/ipykernel_9572/2466915180.py\u001b[0m in \u001b[0;36m<module>\u001b[1;34m\u001b[0m\n\u001b[0;32m      1\u001b[0m \u001b[1;32mfrom\u001b[0m \u001b[0mmalt\u001b[0m\u001b[1;33m.\u001b[0m\u001b[0mdata\u001b[0m\u001b[1;33m.\u001b[0m\u001b[0mcollections\u001b[0m \u001b[1;32mimport\u001b[0m \u001b[0m_dataset_from_dgllife\u001b[0m\u001b[1;33m\u001b[0m\u001b[1;33m\u001b[0m\u001b[0m\n\u001b[0;32m      2\u001b[0m \u001b[1;33m\u001b[0m\u001b[0m\n\u001b[1;32m----> 3\u001b[1;33m \u001b[0mdata\u001b[0m \u001b[1;33m=\u001b[0m \u001b[0m_dataset_from_dgllife\u001b[0m\u001b[1;33m(\u001b[0m\u001b[0mdgllife_dataset\u001b[0m\u001b[1;33m)\u001b[0m\u001b[1;33m\u001b[0m\u001b[1;33m\u001b[0m\u001b[0m\n\u001b[0m\u001b[0;32m      4\u001b[0m \u001b[1;33m\u001b[0m\u001b[0m\n\u001b[0;32m      5\u001b[0m \u001b[1;31m# mask data if it's at the limit of detection\u001b[0m\u001b[1;33m\u001b[0m\u001b[1;33m\u001b[0m\u001b[1;33m\u001b[0m\u001b[0m\n",
      "\u001b[1;31mNameError\u001b[0m: name 'dgllife_dataset' is not defined"
     ]
    }
   ],
   "source": [
    "from malt.data.collections import _dataset_from_dgllife\n",
    "\n",
    "data = _dataset_from_dgllife(dgllife_dataset)\n",
    "\n",
    "# mask data if it's at the limit of detection\n",
    "data_masked = data[list(np.flatnonzero(np.array(data.y) > 4.005))]\n",
    "data.shuffle(seed=2666)\n",
    "ds_tr, ds_vl, ds_te = data_masked[:1500].split([8, 1, 1])"
   ]
  },
  {
   "cell_type": "markdown",
   "id": "20923ad8",
   "metadata": {},
   "source": [
    "Make model"
   ]
  },
  {
   "cell_type": "code",
   "execution_count": 10,
   "id": "80227b38",
   "metadata": {},
   "outputs": [],
   "source": [
    "model_choice = 'nn' # 'nn'\n",
    "if model_choice == \"gp\":\n",
    "    model = malt.models.supervised_model.GaussianProcessSupervisedModel(\n",
    "        representation=malt.models.representation.DGLRepresentation(\n",
    "            out_features=128,\n",
    "        ),\n",
    "        regressor=malt.models.regressor.ExactGaussianProcessRegressor(\n",
    "            in_features=128, out_features=2,\n",
    "        ),\n",
    "        likelihood=malt.models.likelihood.HeteroschedasticGaussianLikelihood(),\n",
    "    )\n",
    "\n",
    "\n",
    "elif model_choice == \"nn\":\n",
    "    model = malt.models.supervised_model.SimpleSupervisedModel(\n",
    "        representation=malt.models.representation.DGLRepresentation(\n",
    "            out_features=128,\n",
    "        ),\n",
    "        regressor=malt.models.regressor.NeuralNetworkRegressor(\n",
    "            in_features=128, out_features=1,\n",
    "        ),\n",
    "        likelihood=malt.models.likelihood.HomoschedasticGaussianLikelihood(),\n",
    "    )"
   ]
  },
  {
   "cell_type": "markdown",
   "id": "87f812da",
   "metadata": {},
   "source": [
    "Train and evaluate."
   ]
  },
  {
   "cell_type": "code",
   "execution_count": 11,
   "id": "bb68f7d6",
   "metadata": {},
   "outputs": [
    {
     "name": "stdout",
     "output_type": "stream",
     "text": [
      "tensor(-0.7225, grad_fn=<RsubBackward1>)\n",
      "tensor(1.0590, grad_fn=<SqrtBackward0>)\n"
     ]
    }
   ],
   "source": [
    "trainer = malt.trainer.get_default_trainer(\n",
    "    without_player=True,\n",
    "    batch_size=32, # len(ds_tr),\n",
    "    n_epochs=3000,\n",
    "    learning_rate=1e-3\n",
    ")\n",
    "model = trainer(model, ds_tr)\n",
    "\n",
    "r2 = malt.metrics.supervised_metrics.R2()(model, ds_te)\n",
    "print(r2)\n",
    "\n",
    "rmse = malt.metrics.supervised_metrics.RMSE()(model, ds_te)\n",
    "print(rmse)"
   ]
  },
  {
   "cell_type": "code",
   "execution_count": 12,
   "id": "7f7fe61f",
   "metadata": {},
   "outputs": [
    {
     "data": {
      "text/plain": [
       "<seaborn.axisgrid.JointGrid at 0x1f161ae8408>"
      ]
     },
     "execution_count": 12,
     "metadata": {},
     "output_type": "execute_result"
    },
    {
     "data": {
      "image/png": "[encoded data removed]",
      "text/plain": [
       "<Figure size 432x432 with 3 Axes>"
      ]
     },
     "metadata": {
      "needs_background": "light"
     },
     "output_type": "display_data"
    }
   ],
   "source": [
    "ds_te_loader = ds_te.view(batch_size=len(ds_te))\n",
    "g, y = next(iter(ds_te_loader))\n",
    "y_hat = model.condition(g).mean\n",
    "g = sns.jointplot(x = ds_te.y, y = y_hat.detach().numpy().ravel())\n",
    "g.set_axis_labels('y', '\\hat{y}')"
   ]
  },
  {
   "cell_type": "code",
   "execution_count": 14,
   "id": "ab13f389-888d-47d6-a352-3a25ef320f56",
   "metadata": {},
   "outputs": [
    {
     "data": {
      "text/plain": [
       "<seaborn.axisgrid.FacetGrid at 0x1f12b445888>"
      ]
     },
     "execution_count": 14,
     "metadata": {},
     "output_type": "execute_result"
    },
    {
     "data": {
      "image/png": "[encoded data removed]",
      "text/plain": [
       "<Figure size 360x360 with 1 Axes>"
      ]
     },
     "metadata": {
      "needs_background": "light"
     },
     "output_type": "display_data"
    }
   ],
   "source": [
    "sns.displot(ds_te.y)"
   ]
  },
  {
   "cell_type": "code",
   "execution_count": 19,
   "id": "3551d4b5",
   "metadata": {},
   "outputs": [
    {
     "name": "stdout",
     "output_type": "stream",
     "text": [
      "Processing dgl graphs from scratch...\n",
      "Processing molecule 1000/1128\n"
     ]
    }
   ],
   "source": [
    "import torch\n",
    "import dgl\n",
    "import malt\n",
    "import argparse\n",
    "\n",
    "parser = argparse.ArgumentParser()\n",
    "parser.add_argument(\"--data\", type=str, default=\"esol\")\n",
    "parser.add_argument(\"--model\", type=str, default=\"gp\")\n",
    "\n",
    "args = parser.parse_args([])\n",
    "\n",
    "data = getattr(malt.data.collections, args.data)()\n",
    "data.shuffle(seed=2666)\n",
    "ds_tr, ds_vl, ds_te = data.split([8, 1, 1])\n",
    "\n",
    "if args.model == \"gp\":\n",
    "    model = malt.models.supervised_model.GaussianProcessSupervisedModel(\n",
    "        representation=malt.models.representation.DGLRepresentation(\n",
    "            out_features=128,\n",
    "        ),\n",
    "        regressor=malt.models.regressor.ExactGaussianProcessRegressor(\n",
    "            in_features=128, out_features=2,\n",
    "        ),\n",
    "        likelihood=malt.models.likelihood.HeteroschedasticGaussianLikelihood(),\n",
    "    )\n",
    "\n",
    "\n",
    "elif args.model == \"nn\":\n",
    "    model = malt.models.supervised_model.SimpleSupervisedModel(\n",
    "        representation=malt.models.representation.DGLRepresentation(\n",
    "            out_features=128,\n",
    "        ),\n",
    "        regressor=malt.models.regressor.NeuralNetworkRegressor(\n",
    "            in_features=128, out_features=1,\n",
    "        ),\n",
    "        likelihood=malt.models.likelihood.HomoschedasticGaussianLikelihood(),\n",
    "    )\n",
    "\n",
    "\n",
    "trainer = malt.trainer.get_default_trainer(without_player=True, batch_size=len(ds_tr), n_epochs=3000, learning_rate=1e-3)\n",
    "model = trainer(model, ds_tr)\n",
    "\n",
    "r2 = malt.metrics.supervised_metrics.R2()(model, ds_te)\n",
    "print(r2)\n",
    "\n",
    "rmse = malt.metrics.supervised_metrics.RMSE()(model, ds_te)\n",
    "print(rmse)"
   ]
  },
  {
   "cell_type": "code",
   "execution_count": 39,
   "id": "3080db71-912c-492f-be56-8012c0b5cc5d",
   "metadata": {},
   "outputs": [
    {
     "data": {
      "text/plain": [
       "<torch.utils.data.dataloader.DataLoader at 0x22c19489748>"
      ]
     },
     "execution_count": 39,
     "metadata": {},
     "output_type": "execute_result"
    }
   ],
   "source": [
    "ds_tr.view(by=['g'], batch_size=)"
   ]
  },
  {
   "cell_type": "code",
   "execution_count": 44,
   "id": "8062c50e-6f91-4a24-9283-7c4389c40adb",
   "metadata": {},
   "outputs": [
    {
     "data": {
      "text/plain": [
       "Normal(loc: torch.Size([902, 1]), scale: torch.Size([902, 1]))"
      ]
     },
     "execution_count": 44,
     "metadata": {},
     "output_type": "execute_result"
    }
   ],
   "source": [
    "model.condition(ds_tr.batch(by=['g']))"
   ]
  },
  {
   "cell_type": "code",
   "execution_count": 16,
   "id": "f4bd2416",
   "metadata": {},
   "outputs": [
    {
     "data": {
      "text/plain": [
       "<seaborn.axisgrid.JointGrid at 0x125cf854188>"
      ]
     },
     "execution_count": 16,
     "metadata": {},
     "output_type": "execute_result"
    },
    {
     "data": {
      "image/png": "[encoded data removed]",
      "text/plain": [
       "<Figure size 432x432 with 3 Axes>"
      ]
     },
     "metadata": {
      "needs_background": "light"
     },
     "output_type": "display_data"
    }
   ],
   "source": [
    "ds_te_loader = ds_te.view(batch_size=len(ds_te))\n",
    "g, y = next(iter(ds_te_loader))\n",
    "y_hat = model.condition(g).mean\n",
    "g = sns.jointplot(x = ds_te.y, y = y_hat.detach().numpy())\n",
    "g.set_axis_labels('y', '\\hat{y}')"
   ]
  }
 ],
 "metadata": {
  "kernelspec": {
   "display_name": "Python 3 (ipykernel)",
   "language": "python",
   "name": "python3"
  },
  "language_info": {
   "codemirror_mode": {
    "name": "ipython",
    "version": 3
   },
   "file_extension": ".py",
   "mimetype": "text/x-python",
   "name": "python",
   "nbconvert_exporter": "python",
   "pygments_lexer": "ipython3",
   "version": "3.7.11"
  }
 },
 "nbformat": 4,
 "nbformat_minor": 5
}
