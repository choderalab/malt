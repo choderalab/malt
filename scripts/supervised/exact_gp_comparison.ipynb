{
 "cells": [
  {
   "cell_type": "markdown",
   "id": "279bbe55",
   "metadata": {},
   "source": [
    "# Exact GP playground: Linear Alkanes"
   ]
  },
  {
   "cell_type": "code",
   "execution_count": 1,
   "id": "1afcf0a6",
   "metadata": {},
   "outputs": [
    {
     "name": "stderr",
     "output_type": "stream",
     "text": [
      "Using backend: pytorch\n"
     ]
    }
   ],
   "source": [
    "%load_ext autoreload\n",
    "%autoreload 2\n",
    "\n",
    "import torch\n",
    "import malt\n",
    "import abc\n",
    "import gpytorch"
   ]
  },
  {
   "cell_type": "markdown",
   "id": "0e0a3d7f",
   "metadata": {},
   "source": [
    "### Testing GPyTorch API"
   ]
  },
  {
   "cell_type": "code",
   "execution_count": 24,
   "id": "bbdb473b",
   "metadata": {},
   "outputs": [
    {
     "data": {
      "text/plain": [
       "<torch._C.Generator at 0x157b1c99810>"
      ]
     },
     "execution_count": 24,
     "metadata": {},
     "output_type": "execute_result"
    }
   ],
   "source": [
    "torch.manual_seed(3) # 1"
   ]
  },
  {
   "cell_type": "code",
   "execution_count": 25,
   "id": "4d8416b0-fe9b-4db7-8736-672f654c4f2a",
   "metadata": {
    "jp-MarkdownHeadingCollapsed": true,
    "tags": []
   },
   "outputs": [
    {
     "name": "stdout",
     "output_type": "stream",
     "text": [
      "Processing dgl graphs from scratch...\n",
      "Processing molecule 1000/1128\n"
     ]
    }
   ],
   "source": [
    "import torch\n",
    "import dgl\n",
    "import malt\n",
    "\n",
    "from malt.models.regressor import ExactGaussianProcessRegressor\n",
    "from malt.data.collections import linear_alkanes, esol\n",
    "\n",
    "# get data\n",
    "# data = linear_alkanes()\n",
    "data = esol()\n",
    "data.shuffle()\n",
    "\n",
    "# make dataset bigger ....\n",
    "\n",
    "val_split = 0.125\n",
    "train_data, test_data = data.split([1-val_split, val_split])\n",
    "train_x, train_y = train_data.batch()\n",
    "test_x, test_y = test_data.batch()\n",
    "# train_x, train_y = data[:1000].batch()\n",
    "# test_x, test_y = data[1000:].batch()\n",
    "# train_y /= train_y.max()\n",
    "\n",
    "# create model\n",
    "model = malt.models.supervised_model.GaussianProcessSupervisedModel(\n",
    "    representation=malt.models.representation.DGLRepresentation(\n",
    "        out_features=32, hidden_features=32,\n",
    "    ),\n",
    "    regressor=ExactGaussianProcessRegressor(\n",
    "        in_features=32,\n",
    "        out_features=2,\n",
    "        train_targets=train_y,\n",
    "    ),\n",
    "    likelihood=malt.models.likelihood.HeteroschedasticGaussianLikelihood(),\n",
    ").cuda()\n",
    "\n",
    "# define marginal log likelihood\n",
    "from malt.models.marginal_likelihood import ExactMarginalLogLikelihood\n",
    "\n",
    "mll = gpytorch.mlls.ExactMarginalLogLikelihood(model.regressor.likelihood, model)\n",
    "\n",
    "# define optimizer\n",
    "optimizer = torch.optim.Adam([\n",
    "    {'params': model.parameters()},\n",
    "], lr=1e-3)"
   ]
  },
  {
   "cell_type": "code",
   "execution_count": 26,
   "id": "82377079-0691-4c72-9863-ec0ce221aa2e",
   "metadata": {},
   "outputs": [],
   "source": [
    "from tqdm import tqdm\n",
    "def train(model, optimizer, mll):\n",
    "    loss_history = []\n",
    "    train_iter = 100\n",
    "    model.train()\n",
    "    for i in tqdm(range(train_iter)):\n",
    "        # Zero backprop gradients\n",
    "        optimizer.zero_grad()\n",
    "        # Get output from model\n",
    "        output = model(train_x)\n",
    "        # Calc loss and backprop derivatives\n",
    "        loss = -mll(output, train_y).mean()\n",
    "        loss.backward()\n",
    "        optimizer.step()\n",
    "        loss_history.append(loss.item())\n",
    "    return model, loss_history"
   ]
  },
  {
   "cell_type": "code",
   "execution_count": 27,
   "id": "bdf1ab7d-c055-4ad7-9c65-226ef25e16bd",
   "metadata": {},
   "outputs": [],
   "source": [
    "def test(model, test_x, test_y):\n",
    "    from scipy.stats import pearsonr\n",
    "    model.eval()\n",
    "    with torch.no_grad(), gpytorch.settings.use_toeplitz(False), gpytorch.settings.fast_pred_var():\n",
    "        preds = model(test_x)\n",
    "    rmse = torch.sqrt(torch.mean(torch.pow(preds.mean - test_y, 2))).item()\n",
    "    mae = torch.mean(torch.abs(preds.mean - test_y)).item()\n",
    "    corr, _ = pearsonr(preds.mean.tolist(), test_y.tolist())\n",
    "    r2 = malt.metrics.base_metrics.r2(preds.loc, test_y).item()\n",
    "    return rmse, mae, corr, r2"
   ]
  },
  {
   "cell_type": "code",
   "execution_count": 38,
   "id": "8adc110d-5206-41dd-829f-3259c08a1555",
   "metadata": {},
   "outputs": [
    {
     "name": "stderr",
     "output_type": "stream",
     "text": [
      "100%|████████████████████████████████████████████████████████████████████████████████| 200/200 [00:11<00:00, 18.00it/s]"
     ]
    },
    {
     "name": "stdout",
     "output_type": "stream",
     "text": [
      "rmse: 0.7659468650817871 \n",
      "mae: 0.525968074798584 \n",
      "corr: 0.9363204909186922 \n",
      "r2: 0.8668686151504517\n"
     ]
    },
    {
     "name": "stderr",
     "output_type": "stream",
     "text": [
      "\n"
     ]
    }
   ],
   "source": [
    "model.train()\n",
    "model, loss_history = train(model, optimizer, mll)\n",
    "model.eval()\n",
    "with torch.no_grad(), gpytorch.settings.use_toeplitz(False), gpytorch.settings.fast_pred_var():\n",
    "    preds = model(train_x).loc\n",
    "rmse, mae, corr, r2 = test(model, test_x, test_y)\n",
    "print('rmse:', rmse, '\\nmae:', mae, '\\ncorr:', corr, '\\nr2:', r2)"
   ]
  },
  {
   "cell_type": "code",
   "execution_count": 39,
   "id": "61c2f415-6c3a-4ab1-852c-c69602681f70",
   "metadata": {},
   "outputs": [
    {
     "data": {
      "text/plain": [
       "Text(0.5, 1.0, 'gpytorch: training')"
      ]
     },
     "execution_count": 39,
     "metadata": {},
     "output_type": "execute_result"
    },
    {
     "data": {
      "image/png": "[encoded data removed]",
      "text/plain": [
       "<Figure size 432x432 with 3 Axes>"
      ]
     },
     "metadata": {
      "needs_background": "light"
     },
     "output_type": "display_data"
    }
   ],
   "source": [
    "import matplotlib.pyplot as plt\n",
    "\n",
    "model.eval()\n",
    "\n",
    "import seaborn as sns\n",
    "\n",
    "preds = model(test_x)\n",
    "\n",
    "g = sns.jointplot(x = test_y.ravel().tolist(), y = (preds.loc).tolist())\n",
    "g.set_axis_labels('y', '\\hat{y}')\n",
    "plt.title('gpytorch: training')"
   ]
  },
  {
   "cell_type": "markdown",
   "id": "e93eeb29-14be-4680-ab38-107ca41fb37d",
   "metadata": {},
   "source": [
    "### Testing hard-coded API"
   ]
  },
  {
   "cell_type": "code",
   "execution_count": 32,
   "id": "c7fd5539-5c47-4510-84df-b843bd7871df",
   "metadata": {},
   "outputs": [],
   "source": [
    "model = malt.models.supervised_model.GaussianProcessSupervisedModel(\n",
    "    representation=malt.models.representation.DGLRepresentation(\n",
    "        out_features=32, hidden_features=32,\n",
    "    ),\n",
    "    regressor=malt.models.regressor.HardcodedExactGaussianProcessRegressor(\n",
    "        train_targets=None,\n",
    "    ),\n",
    "    # likelihood=malt.models.likelihood.HeteroschedasticGaussianLikelihood(),\n",
    ").cuda()"
   ]
  },
  {
   "cell_type": "code",
   "execution_count": 33,
   "id": "873402bd-c91b-48d1-9031-e140be726de9",
   "metadata": {},
   "outputs": [],
   "source": [
    "# define marginal log likelihood\n",
    "from malt.models.marginal_likelihood import HardcodedExactMarginalLogLikelihood\n",
    "\n",
    "mll = HardcodedExactMarginalLogLikelihood(model.likelihood, model)\n",
    "\n",
    "# define optimizer\n",
    "optimizer = torch.optim.Adam([\n",
    "    {'params': model.parameters()},\n",
    "], lr=1e-3)"
   ]
  },
  {
   "cell_type": "code",
   "execution_count": 34,
   "id": "4c917cc5-9441-4b35-b8ec-78239985de99",
   "metadata": {},
   "outputs": [
    {
     "name": "stderr",
     "output_type": "stream",
     "text": [
      "100%|████████████████████████████████████████████████████████████████████████████████| 100/100 [00:05<00:00, 18.34it/s]"
     ]
    },
    {
     "name": "stdout",
     "output_type": "stream",
     "text": [
      "rmse: 0.8133563995361328 \n",
      "mae: 0.5635610818862915 \n",
      "corr: 0.9243477894161246 \n",
      "r2: 0.8498778343200684\n"
     ]
    },
    {
     "name": "stderr",
     "output_type": "stream",
     "text": [
      "\n"
     ]
    }
   ],
   "source": [
    "model.regressor.set_train_data(targets=train_y)\n",
    "model, loss_history = train(model, optimizer, mll)\n",
    "model.eval()\n",
    "with torch.no_grad(), gpytorch.settings.use_toeplitz(False), gpytorch.settings.fast_pred_var():\n",
    "    preds = model(test_x).loc\n",
    "rmse, mae, corr, r2 = test(model, test_x, test_y)\n",
    "print('rmse:', rmse, '\\nmae:', mae, '\\ncorr:', corr, '\\nr2:', r2)"
   ]
  },
  {
   "cell_type": "code",
   "execution_count": 35,
   "id": "46ee0301-d76c-47f3-af1d-3b408d8fadb4",
   "metadata": {},
   "outputs": [
    {
     "data": {
      "text/plain": [
       "<matplotlib.collections.PathCollection at 0x158625ad910>"
      ]
     },
     "execution_count": 35,
     "metadata": {},
     "output_type": "execute_result"
    },
    {
     "data": {
      "image/png": "[encoded data removed]",
      "text/plain": [
       "<Figure size 432x288 with 1 Axes>"
      ]
     },
     "metadata": {
      "needs_background": "light"
     },
     "output_type": "display_data"
    }
   ],
   "source": [
    "model.eval()\n",
    "import matplotlib.pyplot as plt\n",
    "\n",
    "plt.scatter(\n",
    "    model(test_x).loc.tolist(),\n",
    "    test_y.tolist(),\n",
    ")"
   ]
  }
 ],
 "metadata": {
  "kernelspec": {
   "display_name": "Python 3 (ipykernel)",
   "language": "python",
   "name": "python3"
  },
  "language_info": {
   "codemirror_mode": {
    "name": "ipython",
    "version": 3
   },
   "file_extension": ".py",
   "mimetype": "text/x-python",
   "name": "python",
   "nbconvert_exporter": "python",
   "pygments_lexer": "ipython3",
   "version": "3.9.7"
  }
 },
 "nbformat": 4,
 "nbformat_minor": 5
}
