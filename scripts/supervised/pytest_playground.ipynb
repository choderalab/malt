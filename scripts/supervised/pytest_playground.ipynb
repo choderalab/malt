{
 "cells": [
  {
   "cell_type": "code",
   "execution_count": 1,
   "id": "83b203f5-cd15-4d6a-8ce1-a366a684607b",
   "metadata": {},
   "outputs": [
    {
     "name": "stderr",
     "output_type": "stream",
     "text": [
      "Using backend: pytorch\n"
     ]
    }
   ],
   "source": [
    "import torch\n",
    "import malt\n",
    "\n",
    "dummy_targets = torch.Tensor([0.0])\n",
    "\n",
    "regressor = malt.models.regressor.GPyTorchExactRegressor(\n",
    "    dummy_targets,\n",
    "    in_features=128,\n",
    "    out_features=2,\n",
    ")"
   ]
  },
  {
   "cell_type": "code",
   "execution_count": 2,
   "id": "2110bbbb-ea0e-4d88-9cd6-b0790f5ae415",
   "metadata": {},
   "outputs": [],
   "source": [
    "import torch\n",
    "import dgl\n",
    "import malt\n",
    "\n",
    "dummy_targets = torch.Tensor([0.0])\n",
    "\n",
    "net = malt.models.supervised_model.GaussianProcessSupervisedModel(\n",
    "    representation=malt.models.representation.DGLRepresentation(\n",
    "        out_features=128\n",
    "    ),\n",
    "    regressor=malt.models.regressor.GPyTorchExactRegressor(\n",
    "        dummy_targets,\n",
    "        in_features=128,\n",
    "        out_features=2,\n",
    "    ),\n",
    "    likelihood=malt.models.likelihood.HeteroschedasticGaussianLikelihood(),\n",
    ")\n",
    "\n",
    "point = malt.Molecule(\"C\")\n",
    "point.featurize()\n",
    "graph = dgl.batch([point.g])\n",
    "\n",
    "y = net.condition(graph)\n",
    "assert y.mean.item() == 0.0"
   ]
  },
  {
   "cell_type": "code",
   "execution_count": 3,
   "id": "8cfbf79d-63b7-4f71-86f6-dd07e2a00300",
   "metadata": {},
   "outputs": [],
   "source": [
    "import torch\n",
    "import dgl\n",
    "import malt\n",
    "import gpytorch\n",
    "\n",
    "dummy_targets = torch.tensor([[4.0]])\n",
    "\n",
    "net = malt.models.supervised_model.GaussianProcessSupervisedModel(\n",
    "    representation=malt.models.representation.DGLRepresentation(\n",
    "        out_features=32\n",
    "    ),\n",
    "    regressor=malt.models.regressor.GPyTorchExactRegressor(\n",
    "        dummy_targets,\n",
    "        in_features=32,\n",
    "        out_features=2,\n",
    "    ),\n",
    "    likelihood=malt.models.likelihood.HeteroschedasticGaussianLikelihood(),\n",
    ")\n",
    "\n",
    "point = malt.Molecule(\"CCCCCCC\")\n",
    "point.featurize()\n",
    "graph = dgl.batch([point.g])\n",
    "\n",
    "mll = gpytorch.mlls.ExactMarginalLogLikelihood(net.regressor.likelihood, net)\n",
    "\n",
    "net.train()\n",
    "y_pred = net(graph)\n",
    "loss = mll(y_pred, torch.tensor([[2.0]]))\n",
    "loss.backward()\n",
    "\n",
    "net.eval()\n",
    "y = net(graph)\n",
    "assert y.mean.item() != 0.0"
   ]
  },
  {
   "cell_type": "code",
   "execution_count": 5,
   "id": "ada64b9b-9771-4a06-9395-7cf9fcdaf05d",
   "metadata": {},
   "outputs": [],
   "source": [
    "import torch\n",
    "import dgl\n",
    "import malt\n",
    "\n",
    "dataset = malt.data.collections.linear_alkanes(10)\n",
    "dataset_loader = dataset.view(batch_size=len(dataset))\n",
    "g, y = next(iter(dataset_loader))\n",
    "\n",
    "net = malt.models.supervised_model.GaussianProcessSupervisedModel(\n",
    "    representation=malt.models.representation.DGLRepresentation(\n",
    "        out_features=128\n",
    "    ),\n",
    "    regressor=malt.models.regressor.GPyTorchExactRegressor(\n",
    "        y,\n",
    "        in_features=128,\n",
    "        out_features=2,\n",
    "    ),\n",
    "    likelihood=malt.models.likelihood.HeteroschedasticGaussianLikelihood(),\n",
    ")\n",
    "\n",
    "if torch.cuda.is_available():\n",
    "    net.cuda()\n",
    "\n",
    "mll = gpytorch.mlls.ExactMarginalLogLikelihood(net.regressor.likelihood, net)\n",
    "\n",
    "net.train()\n",
    "y_pred = net(g)\n",
    "loss = mll(y_pred, y).mean()\n",
    "loss.backward()\n",
    "\n",
    "net.eval()\n",
    "y_hat = net(g)\n",
    "assert y_hat.mean.shape[0] == 10\n",
    "assert len(y_hat.mean.shape) == 1"
   ]
  },
  {
   "cell_type": "code",
   "execution_count": 13,
   "id": "e4d62e3d-293b-4192-92fb-2c36c84b45f0",
   "metadata": {},
   "outputs": [],
   "source": [
    "import malt\n",
    "import torch\n",
    "from malt.agents.player import SequentialModelBasedPlayer\n",
    "\n",
    "dataset = malt.data.collections.linear_alkanes(10)\n",
    "g, y = dataset.batch()\n",
    "model = malt.models.supervised_model.GaussianProcessSupervisedModel(\n",
    "   representation=malt.models.representation.DGLRepresentation(\n",
    "       out_features=32\n",
    "   ),\n",
    "   regressor=malt.models.regressor.ExactGaussianProcessRegressor(\n",
    "       y, in_features=32, out_features=2,\n",
    "   ),\n",
    "   likelihood=malt.models.likelihood.HeteroschedasticGaussianLikelihood(),\n",
    ")\n",
    "if torch.cuda.is_available():\n",
    "    model.cuda()\n",
    "    \n",
    "mll = malt.models.marginal_likelihood.ExactMarginalLogLikelihood(\n",
    "    model.regressor.likelihood,\n",
    "    model\n",
    ")\n",
    "\n",
    "player = SequentialModelBasedPlayer(\n",
    "    model = model,\n",
    "    policy=malt.policy.Greedy(),\n",
    "    trainer=malt.trainer.get_default_trainer(),\n",
    "    marginal_likelihood=mll,\n",
    "    merchant=malt.agents.merchant.DatasetMerchant(dataset),\n",
    "    assayer=malt.agents.assayer.DatasetAssayer(dataset),\n",
    ")\n",
    "\n",
    "while True:\n",
    "    if player.step() is None:\n",
    "        break"
   ]
  },
  {
   "cell_type": "code",
   "execution_count": 40,
   "id": "79971921-c626-4baa-8809-b1e3220705bb",
   "metadata": {},
   "outputs": [],
   "source": [
    "import torch\n",
    "import dgl\n",
    "import malt\n",
    "\n",
    "dataset = malt.data.collections.linear_alkanes(10)\n",
    "dataset_loader = dataset.view(batch_size=len(dataset))\n",
    "g, y = next(iter(dataset_loader))\n",
    "y = y.reshape(-1, 1)\n",
    "\n",
    "\n",
    "net = malt.models.supervised_model.GaussianProcessSupervisedModel(\n",
    "    representation=malt.models.representation.DGLRepresentation(\n",
    "        out_features=128\n",
    "    ),\n",
    "    regressor=malt.models.regressor.HardcodedExactGaussianProcessRegressor(\n",
    "        y,\n",
    "        in_features=128,\n",
    "        out_features=2,\n",
    "    ),\n",
    "    likelihood=malt.models.likelihood.HeteroschedasticGaussianLikelihood(),\n",
    ")\n",
    "\n",
    "if torch.cuda.is_available():\n",
    "    net.cuda()\n",
    "\n",
    "\n",
    "mll = malt.models.marginal_likelihood.HardcodedExactMarginalLogLikelihood(\n",
    "    net.likelihood, net\n",
    ")\n",
    "\n",
    "net.train()\n",
    "y_hat = net(g)\n",
    "loss = mll(y_hat, y)\n",
    "loss.backward()\n",
    "\n",
    "y_hat = net.condition(g)\n",
    "assert y_hat.mean.shape[0] == 10\n",
    "assert len(y_hat.mean.shape) == 1"
   ]
  },
  {
   "cell_type": "code",
   "execution_count": 41,
   "id": "b4fad4ce-e1f7-4df1-8dfd-793e9cd56d99",
   "metadata": {},
   "outputs": [
    {
     "name": "stdout",
     "output_type": "stream",
     "text": [
      "Processing dgl graphs from scratch...\n",
      "Processing molecule 1000/1128\n"
     ]
    }
   ],
   "source": [
    "dataset = malt.data.collections.esol()\n",
    "dataset.shuffle()\n",
    "ds_tr, ds_te = dataset[:800], dataset[800:]"
   ]
  },
  {
   "cell_type": "code",
   "execution_count": 47,
   "id": "07dcffa5-3c45-4d92-ae93-e0ef11ad67bf",
   "metadata": {},
   "outputs": [],
   "source": [
    "g, y = ds_tr.batch()\n",
    "\n",
    "net = malt.models.supervised_model.GaussianProcessSupervisedModel(\n",
    "    representation=malt.models.representation.DGLRepresentation(\n",
    "        out_features=60\n",
    "    ),\n",
    "    regressor=malt.models.regressor.HardcodedExactGaussianProcessRegressor(\n",
    "        y,\n",
    "        in_features=60,\n",
    "        out_features=2,\n",
    "    ),\n",
    "    likelihood=malt.models.likelihood.HeteroschedasticGaussianLikelihood(),\n",
    ")\n",
    "\n",
    "if torch.cuda.is_available():\n",
    "    net.cuda()\n",
    "\n",
    "\n",
    "mll = malt.models.marginal_likelihood.HardcodedExactMarginalLogLikelihood(\n",
    "    net.likelihood, net\n",
    ")\n",
    "\n",
    "y_hat = net(g)\n",
    "loss = mll(y_hat, y)\n",
    "loss.backward()\n",
    "\n",
    "y_hat = net.condition(g)\n",
    "\n",
    "g, y = ds_te.batch()\n",
    "\n",
    "net.eval()\n",
    "with torch.no_grad():\n",
    "    net(g)"
   ]
  },
  {
   "cell_type": "code",
   "execution_count": 45,
   "id": "b7cd7f60-ac0b-4700-82c4-e9de6fd35fa0",
   "metadata": {},
   "outputs": [],
   "source": []
  },
  {
   "cell_type": "code",
   "execution_count": 33,
   "id": "eff11bbb-1edd-442a-b492-972f77772543",
   "metadata": {},
   "outputs": [],
   "source": [
    "# g, y = next(iter(dataset[:4].view(batch_size=4)))\n",
    "# net(g)"
   ]
  },
  {
   "cell_type": "code",
   "execution_count": 14,
   "id": "dfb4ddec-544b-401b-a6af-ee97f6ed145e",
   "metadata": {},
   "outputs": [
    {
     "ename": "RuntimeError",
     "evalue": "Incompatible matrix sizes for triangular_solve: each A matrix is 2 by 2 but each b matrix is 9 by 1",
     "output_type": "error",
     "traceback": [
      "\u001b[1;31m---------------------------------------------------------------------------\u001b[0m",
      "\u001b[1;31mRuntimeError\u001b[0m                              Traceback (most recent call last)",
      "Input \u001b[1;32mIn [14]\u001b[0m, in \u001b[0;36m<module>\u001b[1;34m\u001b[0m\n\u001b[0;32m     23\u001b[0m mll \u001b[38;5;241m=\u001b[39m malt\u001b[38;5;241m.\u001b[39mmodels\u001b[38;5;241m.\u001b[39mmarginal_likelihood\u001b[38;5;241m.\u001b[39mHardcodedExactMarginalLogLikelihood(\n\u001b[0;32m     24\u001b[0m     net\u001b[38;5;241m.\u001b[39mlikelihood, net\n\u001b[0;32m     25\u001b[0m )\n\u001b[0;32m     27\u001b[0m net\u001b[38;5;241m.\u001b[39mtrain()\n\u001b[1;32m---> 28\u001b[0m y_hat \u001b[38;5;241m=\u001b[39m \u001b[43mnet\u001b[49m\u001b[43m(\u001b[49m\u001b[43mgraph\u001b[49m\u001b[43m)\u001b[49m\n\u001b[0;32m     29\u001b[0m loss \u001b[38;5;241m=\u001b[39m mll(y_hat, torch\u001b[38;5;241m.\u001b[39mtensor([[\u001b[38;5;241m5.0\u001b[39m, \u001b[38;5;241m5.0\u001b[39m]]))\n\u001b[0;32m     30\u001b[0m loss\u001b[38;5;241m.\u001b[39mbackward()\n",
      "File \u001b[1;32m~\\miniconda3\\envs\\malt\\lib\\site-packages\\gpytorch\\module.py:30\u001b[0m, in \u001b[0;36mModule.__call__\u001b[1;34m(self, *inputs, **kwargs)\u001b[0m\n\u001b[0;32m     29\u001b[0m \u001b[38;5;28;01mdef\u001b[39;00m \u001b[38;5;21m__call__\u001b[39m(\u001b[38;5;28mself\u001b[39m, \u001b[38;5;241m*\u001b[39minputs, \u001b[38;5;241m*\u001b[39m\u001b[38;5;241m*\u001b[39mkwargs):\n\u001b[1;32m---> 30\u001b[0m     outputs \u001b[38;5;241m=\u001b[39m \u001b[38;5;28mself\u001b[39m\u001b[38;5;241m.\u001b[39mforward(\u001b[38;5;241m*\u001b[39minputs, \u001b[38;5;241m*\u001b[39m\u001b[38;5;241m*\u001b[39mkwargs)\n\u001b[0;32m     31\u001b[0m     \u001b[38;5;28;01mif\u001b[39;00m \u001b[38;5;28misinstance\u001b[39m(outputs, \u001b[38;5;28mlist\u001b[39m):\n\u001b[0;32m     32\u001b[0m         \u001b[38;5;28;01mreturn\u001b[39;00m [_validate_module_outputs(output) \u001b[38;5;28;01mfor\u001b[39;00m output \u001b[38;5;129;01min\u001b[39;00m outputs]\n",
      "File \u001b[1;32mc:\\users\\micha\\dev\\choderalab\\malt\\malt\\models\\supervised_model.py:127\u001b[0m, in \u001b[0;36mGaussianProcessSupervisedModel.forward\u001b[1;34m(self, g)\u001b[0m\n\u001b[0;32m    124\u001b[0m h \u001b[38;5;241m=\u001b[39m \u001b[38;5;28mself\u001b[39m\u001b[38;5;241m.\u001b[39mrepresentation(g)\n\u001b[0;32m    126\u001b[0m \u001b[38;5;66;03m# latent representation -> distribution\u001b[39;00m\n\u001b[1;32m--> 127\u001b[0m y_pred \u001b[38;5;241m=\u001b[39m \u001b[38;5;28;43mself\u001b[39;49m\u001b[38;5;241;43m.\u001b[39;49m\u001b[43mregressor\u001b[49m\u001b[43m(\u001b[49m\u001b[43mh\u001b[49m\u001b[43m)\u001b[49m\n\u001b[0;32m    129\u001b[0m \u001b[38;5;28;01mreturn\u001b[39;00m y_pred\n",
      "File \u001b[1;32m~\\miniconda3\\envs\\malt\\lib\\site-packages\\torch\\nn\\modules\\module.py:1102\u001b[0m, in \u001b[0;36mModule._call_impl\u001b[1;34m(self, *input, **kwargs)\u001b[0m\n\u001b[0;32m   1098\u001b[0m \u001b[38;5;66;03m# If we don't have any hooks, we want to skip the rest of the logic in\u001b[39;00m\n\u001b[0;32m   1099\u001b[0m \u001b[38;5;66;03m# this function, and just call forward.\u001b[39;00m\n\u001b[0;32m   1100\u001b[0m \u001b[38;5;28;01mif\u001b[39;00m \u001b[38;5;129;01mnot\u001b[39;00m (\u001b[38;5;28mself\u001b[39m\u001b[38;5;241m.\u001b[39m_backward_hooks \u001b[38;5;129;01mor\u001b[39;00m \u001b[38;5;28mself\u001b[39m\u001b[38;5;241m.\u001b[39m_forward_hooks \u001b[38;5;129;01mor\u001b[39;00m \u001b[38;5;28mself\u001b[39m\u001b[38;5;241m.\u001b[39m_forward_pre_hooks \u001b[38;5;129;01mor\u001b[39;00m _global_backward_hooks\n\u001b[0;32m   1101\u001b[0m         \u001b[38;5;129;01mor\u001b[39;00m _global_forward_hooks \u001b[38;5;129;01mor\u001b[39;00m _global_forward_pre_hooks):\n\u001b[1;32m-> 1102\u001b[0m     \u001b[38;5;28;01mreturn\u001b[39;00m forward_call(\u001b[38;5;241m*\u001b[39m\u001b[38;5;28minput\u001b[39m, \u001b[38;5;241m*\u001b[39m\u001b[38;5;241m*\u001b[39mkwargs)\n\u001b[0;32m   1103\u001b[0m \u001b[38;5;66;03m# Do not call functions when jit is used\u001b[39;00m\n\u001b[0;32m   1104\u001b[0m full_backward_hooks, non_full_backward_hooks \u001b[38;5;241m=\u001b[39m [], []\n",
      "File \u001b[1;32mc:\\users\\micha\\dev\\choderalab\\malt\\malt\\models\\regressor.py:223\u001b[0m, in \u001b[0;36mHardcodedExactGaussianProcessRegressor.forward\u001b[1;34m(self, x_te, *args, **kwargs)\u001b[0m\n\u001b[0;32m    213\u001b[0m y_tr \u001b[38;5;241m=\u001b[39m \u001b[38;5;28mself\u001b[39m\u001b[38;5;241m.\u001b[39mtrain_targets\n\u001b[0;32m    215\u001b[0m \u001b[38;5;66;03m# get parameters\u001b[39;00m\n\u001b[0;32m    216\u001b[0m (\n\u001b[0;32m    217\u001b[0m     k_tr_tr,\n\u001b[0;32m    218\u001b[0m     k_te_te,\n\u001b[0;32m    219\u001b[0m     k_te_tr,\n\u001b[0;32m    220\u001b[0m     k_tr_te,\n\u001b[0;32m    221\u001b[0m     l_low,\n\u001b[0;32m    222\u001b[0m     alpha,\n\u001b[1;32m--> 223\u001b[0m ) \u001b[38;5;241m=\u001b[39m \u001b[38;5;28;43mself\u001b[39;49m\u001b[38;5;241;43m.\u001b[39;49m\u001b[43m_get_kernel_and_auxiliary_variables\u001b[49m\u001b[43m(\u001b[49m\u001b[43mx_tr\u001b[49m\u001b[43m,\u001b[49m\u001b[43m \u001b[49m\u001b[43my_tr\u001b[49m\u001b[43m,\u001b[49m\u001b[43m \u001b[49m\u001b[43mx_te\u001b[49m\u001b[43m)\u001b[49m\n\u001b[0;32m    225\u001b[0m \u001b[38;5;66;03m# gather inputs for marginal log likelihood\u001b[39;00m\n\u001b[0;32m    226\u001b[0m \u001b[38;5;66;03m# if self.training:\u001b[39;00m\n\u001b[0;32m    227\u001b[0m \u001b[38;5;28mself\u001b[39m\u001b[38;5;241m.\u001b[39mmll_vars \u001b[38;5;241m=\u001b[39m alpha, l_low\n",
      "File \u001b[1;32mc:\\users\\micha\\dev\\choderalab\\malt\\malt\\models\\regressor.py:184\u001b[0m, in \u001b[0;36mHardcodedExactGaussianProcessRegressor._get_kernel_and_auxiliary_variables\u001b[1;34m(self, x_tr, y_tr, x_te)\u001b[0m\n\u001b[0;32m    181\u001b[0m     y_tr \u001b[38;5;241m=\u001b[39m y_tr\u001b[38;5;241m.\u001b[39munsqueeze(\u001b[38;5;241m1\u001b[39m)\n\u001b[0;32m    183\u001b[0m \u001b[38;5;66;03m# (batch_size_tr. 1)\u001b[39;00m\n\u001b[1;32m--> 184\u001b[0m l_low_over_y, _ \u001b[38;5;241m=\u001b[39m \u001b[43mtorch\u001b[49m\u001b[38;5;241;43m.\u001b[39;49m\u001b[43mtriangular_solve\u001b[49m\u001b[43m(\u001b[49m\n\u001b[0;32m    185\u001b[0m \u001b[43m    \u001b[49m\u001b[38;5;28;43minput\u001b[39;49m\u001b[38;5;241;43m=\u001b[39;49m\u001b[43my_tr\u001b[49m\u001b[43m,\u001b[49m\u001b[43m \u001b[49m\u001b[43mA\u001b[49m\u001b[38;5;241;43m=\u001b[39;49m\u001b[43ml_low\u001b[49m\u001b[43m,\u001b[49m\u001b[43m \u001b[49m\u001b[43mupper\u001b[49m\u001b[38;5;241;43m=\u001b[39;49m\u001b[38;5;28;43;01mFalse\u001b[39;49;00m\n\u001b[0;32m    186\u001b[0m \u001b[43m\u001b[49m\u001b[43m)\u001b[49m\n\u001b[0;32m    188\u001b[0m \u001b[38;5;66;03m# (batch_size_tr, 1)\u001b[39;00m\n\u001b[0;32m    189\u001b[0m alpha, _ \u001b[38;5;241m=\u001b[39m torch\u001b[38;5;241m.\u001b[39mtriangular_solve(\n\u001b[0;32m    190\u001b[0m     \u001b[38;5;28minput\u001b[39m\u001b[38;5;241m=\u001b[39ml_low_over_y, A\u001b[38;5;241m=\u001b[39ml_up, upper\u001b[38;5;241m=\u001b[39m\u001b[38;5;28;01mTrue\u001b[39;00m\n\u001b[0;32m    191\u001b[0m )\n",
      "\u001b[1;31mRuntimeError\u001b[0m: Incompatible matrix sizes for triangular_solve: each A matrix is 2 by 2 but each b matrix is 9 by 1"
     ]
    }
   ],
   "source": [
    "import torch\n",
    "import dgl\n",
    "import malt\n",
    "\n",
    "dummy_targets = torch.Tensor([4.0]*9)\n",
    "\n",
    "net = malt.models.supervised_model.GaussianProcessSupervisedModel(\n",
    "    representation=malt.models.representation.DGLRepresentation(\n",
    "        out_features=128\n",
    "    ),\n",
    "    regressor=malt.models.regressor.HardcodedExactGaussianProcessRegressor(\n",
    "        dummy_targets,\n",
    "        in_features=128,\n",
    "        out_features=2,\n",
    "    ),\n",
    "    likelihood=malt.models.likelihood.HeteroschedasticGaussianLikelihood(),\n",
    ")\n",
    "\n",
    "point = malt.Molecule(\"C\")\n",
    "point.featurize()\n",
    "graph = dgl.batch([point.g, point.g])\n",
    "\n",
    "mll = malt.models.marginal_likelihood.HardcodedExactMarginalLogLikelihood(\n",
    "    net.likelihood, net\n",
    ")\n",
    "\n",
    "net.train()\n",
    "y_hat = net(graph)\n",
    "loss = mll(y_hat, torch.tensor([[5.0, 5.0]]))\n",
    "loss.backward()\n",
    "\n",
    "net.eval()\n",
    "y = net.condition(graph)\n",
    "assert y.mean.item() != 0.0"
   ]
  },
  {
   "cell_type": "code",
   "execution_count": 12,
   "id": "2d2e1284-acfc-4bd6-8e02-2130102135fe",
   "metadata": {},
   "outputs": [
    {
     "data": {
      "text/plain": [
       "MultivariateNormal(loc: tensor([3.8103], grad_fn=<ExpandBackward0>), covariance_matrix: tensor([[0.0474]], grad_fn=<ExpandBackward0>))"
      ]
     },
     "execution_count": 12,
     "metadata": {},
     "output_type": "execute_result"
    }
   ],
   "source": [
    "net.condition(graph)"
   ]
  },
  {
   "cell_type": "code",
   "execution_count": 11,
   "id": "fc7421af-7051-4dba-a521-76b5858b33fe",
   "metadata": {},
   "outputs": [
    {
     "name": "stdout",
     "output_type": "stream",
     "text": [
      "The autoreload extension is already loaded. To reload it, use:\n",
      "  %reload_ext autoreload\n"
     ]
    }
   ],
   "source": [
    "%load_ext autoreload\n",
    "%autoreload 2\n",
    "\n",
    "import malt\n",
    "import torch\n",
    "from malt.agents.player import SequentialModelBasedPlayer\n",
    "\n",
    "dataset = malt.data.collections.linear_alkanes(10)\n",
    "g, y = dataset.batch()\n",
    "model = malt.models.supervised_model.GaussianProcessSupervisedModel(\n",
    "   representation=malt.models.representation.DGLRepresentation(\n",
    "       out_features=32\n",
    "   ),\n",
    "   regressor=malt.models.regressor.ExactGaussianProcessRegressor(\n",
    "       y, in_features=32, out_features=2,\n",
    "   ),\n",
    "   likelihood=malt.models.likelihood.HeteroschedasticGaussianLikelihood(),\n",
    ")\n",
    "if torch.cuda.is_available():\n",
    "    model.cuda()\n",
    "\n",
    "mll = malt.models.marginal_likelihood.ExactMarginalLogLikelihood(\n",
    "    model.regressor.likelihood,\n",
    "    model\n",
    ")\n",
    "\n",
    "player = SequentialModelBasedPlayer(\n",
    "    model = model,\n",
    "    policy=malt.policy.Greedy(),\n",
    "    trainer=malt.trainer.get_default_trainer(),\n",
    "    marginal_likelihood=mll,\n",
    "    merchant=malt.agents.merchant.DatasetMerchant(dataset),\n",
    "    assayer=malt.agents.assayer.DatasetAssayer(dataset),\n",
    ")\n",
    "\n",
    "while True:\n",
    "    if player.step() is None:\n",
    "        break"
   ]
  },
  {
   "cell_type": "code",
   "execution_count": 34,
   "id": "b52994b7-4043-487c-8434-661e563a44b0",
   "metadata": {},
   "outputs": [
    {
     "data": {
      "text/plain": [
       "tensor(1.2900)"
      ]
     },
     "execution_count": 34,
     "metadata": {},
     "output_type": "execute_result"
    }
   ],
   "source": [
    "g, y = ds.batch(by=['g', 'y'])\n",
    "torch.nn.functional.mse_loss(DumbModel(input_)(g).mean, target)"
   ]
  },
  {
   "cell_type": "code",
   "execution_count": 37,
   "id": "77053a30-2675-4371-8937-05442892057f",
   "metadata": {},
   "outputs": [
    {
     "name": "stderr",
     "output_type": "stream",
     "text": [
      "c:\\users\\micha\\dev\\choderalab\\malt\\malt\\metrics\\base_metrics.py:4: UserWarning: Using a target size (torch.Size([5])) that is different to the input size (torch.Size([20])). This will likely lead to incorrect results due to broadcasting. Please ensure they have the same size.\n",
      "  return torch.nn.functional.mse_loss(target, input)\n"
     ]
    },
    {
     "ename": "RuntimeError",
     "evalue": "The size of tensor a (20) must match the size of tensor b (5) at non-singleton dimension 0",
     "output_type": "error",
     "traceback": [
      "\u001b[1;31m---------------------------------------------------------------------------\u001b[0m",
      "\u001b[1;31mRuntimeError\u001b[0m                              Traceback (most recent call last)",
      "Input \u001b[1;32mIn [37]\u001b[0m, in \u001b[0;36m<module>\u001b[1;34m\u001b[0m\n\u001b[0;32m     20\u001b[0m     point \u001b[38;5;241m=\u001b[39m malt\u001b[38;5;241m.\u001b[39mMolecule(smiles\u001b[38;5;241m=\u001b[39m\u001b[38;5;124m\"\u001b[39m\u001b[38;5;124mC\u001b[39m\u001b[38;5;124m\"\u001b[39m, metadata\u001b[38;5;241m=\u001b[39m{\u001b[38;5;124m'\u001b[39m\u001b[38;5;124my\u001b[39m\u001b[38;5;124m'\u001b[39m: target[idx]\u001b[38;5;241m.\u001b[39mitem()})\n\u001b[0;32m     21\u001b[0m     ds\u001b[38;5;241m.\u001b[39mappend(point)\n\u001b[1;32m---> 23\u001b[0m \u001b[38;5;28;01massert\u001b[39;00m \u001b[43mMSE\u001b[49m\u001b[43m(\u001b[49m\u001b[43m)\u001b[49m\u001b[43m(\u001b[49m\u001b[43mDumbModel\u001b[49m\u001b[43m(\u001b[49m\u001b[43minput_\u001b[49m\u001b[43m)\u001b[49m\u001b[43m,\u001b[49m\u001b[43m \u001b[49m\u001b[43mds\u001b[49m\u001b[43m)\u001b[49m \u001b[38;5;241m==\u001b[39m mse(input_, target)\n\u001b[0;32m     24\u001b[0m \u001b[38;5;28;01massert\u001b[39;00m MAPE()(DumbModel(input_), ds) \u001b[38;5;241m==\u001b[39m mape(input_, target)\n\u001b[0;32m     25\u001b[0m \u001b[38;5;28;01massert\u001b[39;00m RMSE()(DumbModel(input_), ds) \u001b[38;5;241m==\u001b[39m rmse(input_, target)\n",
      "File \u001b[1;32mc:\\users\\micha\\dev\\choderalab\\malt\\malt\\metrics\\supervised_metrics.py:14\u001b[0m, in \u001b[0;36mSupervisedMetrics.__call__\u001b[1;34m(self, model, ds_te)\u001b[0m\n\u001b[0;32m     12\u001b[0m \u001b[38;5;28;01mwith\u001b[39;00m torch\u001b[38;5;241m.\u001b[39mno_grad():\n\u001b[0;32m     13\u001b[0m     y_hat \u001b[38;5;241m=\u001b[39m model(g)\u001b[38;5;241m.\u001b[39mmean\n\u001b[1;32m---> 14\u001b[0m \u001b[38;5;28;01mreturn\u001b[39;00m \u001b[38;5;28;43mgetattr\u001b[39;49m\u001b[43m(\u001b[49m\u001b[43mmalt\u001b[49m\u001b[38;5;241;43m.\u001b[39;49m\u001b[43mmetrics\u001b[49m\u001b[38;5;241;43m.\u001b[39;49m\u001b[43mbase_metrics\u001b[49m\u001b[43m,\u001b[49m\u001b[43m \u001b[49m\u001b[38;5;28;43mself\u001b[39;49m\u001b[38;5;241;43m.\u001b[39;49m\u001b[43mbase_metric\u001b[49m\u001b[43m)\u001b[49m\u001b[43m(\u001b[49m\u001b[43my_hat\u001b[49m\u001b[43m,\u001b[49m\u001b[43m \u001b[49m\u001b[43my\u001b[49m\u001b[43m)\u001b[49m\n",
      "File \u001b[1;32mc:\\users\\micha\\dev\\choderalab\\malt\\malt\\metrics\\base_metrics.py:4\u001b[0m, in \u001b[0;36mmse\u001b[1;34m(input, target)\u001b[0m\n\u001b[0;32m      3\u001b[0m \u001b[38;5;28;01mdef\u001b[39;00m \u001b[38;5;21mmse\u001b[39m(\u001b[38;5;28minput\u001b[39m, target):\n\u001b[1;32m----> 4\u001b[0m     \u001b[38;5;28;01mreturn\u001b[39;00m \u001b[43mtorch\u001b[49m\u001b[38;5;241;43m.\u001b[39;49m\u001b[43mnn\u001b[49m\u001b[38;5;241;43m.\u001b[39;49m\u001b[43mfunctional\u001b[49m\u001b[38;5;241;43m.\u001b[39;49m\u001b[43mmse_loss\u001b[49m\u001b[43m(\u001b[49m\u001b[43mtarget\u001b[49m\u001b[43m,\u001b[49m\u001b[43m \u001b[49m\u001b[38;5;28;43minput\u001b[39;49m\u001b[43m)\u001b[49m\n",
      "File \u001b[1;32m~\\miniconda3\\envs\\malt\\lib\\site-packages\\torch\\nn\\functional.py:3111\u001b[0m, in \u001b[0;36mmse_loss\u001b[1;34m(input, target, size_average, reduce, reduction)\u001b[0m\n\u001b[0;32m   3108\u001b[0m \u001b[38;5;28;01mif\u001b[39;00m size_average \u001b[38;5;129;01mis\u001b[39;00m \u001b[38;5;129;01mnot\u001b[39;00m \u001b[38;5;28;01mNone\u001b[39;00m \u001b[38;5;129;01mor\u001b[39;00m reduce \u001b[38;5;129;01mis\u001b[39;00m \u001b[38;5;129;01mnot\u001b[39;00m \u001b[38;5;28;01mNone\u001b[39;00m:\n\u001b[0;32m   3109\u001b[0m     reduction \u001b[38;5;241m=\u001b[39m _Reduction\u001b[38;5;241m.\u001b[39mlegacy_get_string(size_average, reduce)\n\u001b[1;32m-> 3111\u001b[0m expanded_input, expanded_target \u001b[38;5;241m=\u001b[39m \u001b[43mtorch\u001b[49m\u001b[38;5;241;43m.\u001b[39;49m\u001b[43mbroadcast_tensors\u001b[49m\u001b[43m(\u001b[49m\u001b[38;5;28;43minput\u001b[39;49m\u001b[43m,\u001b[49m\u001b[43m \u001b[49m\u001b[43mtarget\u001b[49m\u001b[43m)\u001b[49m\n\u001b[0;32m   3112\u001b[0m \u001b[38;5;28;01mreturn\u001b[39;00m torch\u001b[38;5;241m.\u001b[39m_C\u001b[38;5;241m.\u001b[39m_nn\u001b[38;5;241m.\u001b[39mmse_loss(expanded_input, expanded_target, _Reduction\u001b[38;5;241m.\u001b[39mget_enum(reduction))\n",
      "File \u001b[1;32m~\\miniconda3\\envs\\malt\\lib\\site-packages\\torch\\functional.py:72\u001b[0m, in \u001b[0;36mbroadcast_tensors\u001b[1;34m(*tensors)\u001b[0m\n\u001b[0;32m     70\u001b[0m \u001b[38;5;28;01mif\u001b[39;00m has_torch_function(tensors):\n\u001b[0;32m     71\u001b[0m     \u001b[38;5;28;01mreturn\u001b[39;00m handle_torch_function(broadcast_tensors, tensors, \u001b[38;5;241m*\u001b[39mtensors)\n\u001b[1;32m---> 72\u001b[0m \u001b[38;5;28;01mreturn\u001b[39;00m \u001b[43m_VF\u001b[49m\u001b[38;5;241;43m.\u001b[39;49m\u001b[43mbroadcast_tensors\u001b[49m\u001b[43m(\u001b[49m\u001b[43mtensors\u001b[49m\u001b[43m)\u001b[49m\n",
      "\u001b[1;31mRuntimeError\u001b[0m: The size of tensor a (20) must match the size of tensor b (5) at non-singleton dimension 0"
     ]
    }
   ],
   "source": [
    "class DumbModel(object):\n",
    "    def __init__(self, y):\n",
    "        self.y = y\n",
    "\n",
    "    def __call__(self, *args, **kwargs):\n",
    "        return torch.distributions.Normal(\n",
    "            self.y.ravel().cuda(), 1.0\n",
    "        )\n",
    "\n",
    "import torch\n",
    "import malt\n",
    "from malt.metrics.supervised_metrics import MSE, MAPE, RMSE, R2\n",
    "from malt.metrics.base_metrics import mse, mape, rmse, r2\n",
    "input_ = torch.randn(5, 1)\n",
    "target = torch.randn(5, 1)\n",
    "\n",
    "ds = malt.Dataset()\n",
    "\n",
    "for idx in range(5):\n",
    "    point = malt.Molecule(smiles=\"C\", metadata={'y': target[idx].item()})\n",
    "    ds.append(point)\n",
    "\n",
    "assert MSE()(DumbModel(input_), ds) == mse(input_, target)\n",
    "assert MAPE()(DumbModel(input_), ds) == mape(input_, target)\n",
    "assert RMSE()(DumbModel(input_), ds) == rmse(input_, target)\n",
    "assert R2()(DumbModel(input_), ds) == r2(input_, target)"
   ]
  },
  {
   "cell_type": "code",
   "execution_count": 30,
   "id": "cce844d2-1ac7-46d4-909b-d68e3f762b22",
   "metadata": {},
   "outputs": [
    {
     "data": {
      "text/plain": [
       "tensor(2.3256, device='cuda:0', grad_fn=<MseLossBackward0>)"
      ]
     },
     "execution_count": 30,
     "metadata": {},
     "output_type": "execute_result"
    }
   ],
   "source": [
    "ds_te = ds\n",
    "g, y = ds_te.batch(by=['g', 'y'])\n",
    "with torch.no_grad():\n",
    "    y_hat = model(g).mean\n",
    "\n",
    "getattr(malt.metrics.base_metrics, 'mse')(y_hat, y)"
   ]
  },
  {
   "cell_type": "code",
   "execution_count": 16,
   "id": "213625f7-1276-48ff-b8e7-6266584a7c64",
   "metadata": {},
   "outputs": [
    {
     "data": {
      "text/plain": [
       "tensor(1.6681)"
      ]
     },
     "execution_count": 16,
     "metadata": {},
     "output_type": "execute_result"
    }
   ],
   "source": [
    "mse(input_, target)"
   ]
  },
  {
   "cell_type": "code",
   "execution_count": 15,
   "id": "9632f156-72d5-45bc-8e5e-786625ab7c2e",
   "metadata": {},
   "outputs": [
    {
     "data": {
      "text/plain": [
       "tensor(1.6681, device='cuda:0')"
      ]
     },
     "execution_count": 15,
     "metadata": {},
     "output_type": "execute_result"
    }
   ],
   "source": [
    "MSE()(DumbModel(input_), ds)"
   ]
  },
  {
   "cell_type": "code",
   "execution_count": null,
   "id": "758fc5e6-3edf-41b8-bd59-252b9a42188d",
   "metadata": {},
   "outputs": [],
   "source": [
    "g, y = ds.batch(by=['g', 'y'])\n",
    "y_hat = DumbModel(input_)(g).mean\n",
    "malt.metrics.base_metrics.mse(y_hat, target)"
   ]
  },
  {
   "cell_type": "code",
   "execution_count": 12,
   "id": "5d8a86ff-25c3-45bb-8b01-29cac9f5a1c1",
   "metadata": {},
   "outputs": [
    {
     "data": {
      "text/plain": [
       "tensor(1.8533, device='cuda:0')"
      ]
     },
     "execution_count": 12,
     "metadata": {},
     "output_type": "execute_result"
    }
   ],
   "source": [
    "MSE()(DumbModel(input_), ds)"
   ]
  },
  {
   "cell_type": "code",
   "execution_count": 5,
   "id": "9946ba7f-1aca-4648-a8f1-2ec24ecd8a5f",
   "metadata": {},
   "outputs": [
    {
     "data": {
      "text/plain": [
       "tensor(1.6798)"
      ]
     },
     "execution_count": 5,
     "metadata": {},
     "output_type": "execute_result"
    }
   ],
   "source": [
    "mse(input_, target)"
   ]
  },
  {
   "cell_type": "code",
   "execution_count": 6,
   "id": "2e1716a1-deb2-4a59-bcfc-6450d77e204f",
   "metadata": {},
   "outputs": [
    {
     "name": "stdout",
     "output_type": "stream",
     "text": [
      "The autoreload extension is already loaded. To reload it, use:\n",
      "  %reload_ext autoreload\n"
     ]
    }
   ],
   "source": [
    "%load_ext autoreload\n",
    "%autoreload 2\n",
    "\n",
    "import malt\n",
    "import torch\n",
    "from malt.agents.player import SequentialModelBasedPlayer\n",
    "\n",
    "dataset = malt.data.collections.linear_alkanes(10)\n",
    "g, y = dataset.batch()\n",
    "model = malt.models.supervised_model.GaussianProcessSupervisedModel(\n",
    "   representation=malt.models.representation.DGLRepresentation(\n",
    "       out_features=128\n",
    "   ),\n",
    "   regressor=malt.models.regressor.HardcodedExactGaussianProcessRegressor(\n",
    "       y, in_features=128, out_features=2,\n",
    "   ),\n",
    "   likelihood=malt.models.likelihood.HeteroschedasticGaussianLikelihood(),\n",
    ")\n",
    "\n",
    "if torch.cuda.is_available():\n",
    "    model.cuda()\n",
    "\n",
    "mll = malt.models.marginal_likelihood.HardcodedExactMarginalLogLikelihood(\n",
    "    model.likelihood, model\n",
    ")\n",
    "\n",
    "# mll = malt.models.marginal_likelihood.ExactMarginalLogLikelihood(\n",
    "#     model.regressor.likelihood, model\n",
    "# )\n",
    "\n",
    "player = SequentialModelBasedPlayer(\n",
    "   model = model,\n",
    "   policy=malt.policy.Greedy(),\n",
    "   trainer=malt.trainer.get_default_trainer(),\n",
    "   marginal_likelihood=mll,\n",
    "   merchant=malt.agents.merchant.DatasetMerchant(dataset),\n",
    "   assayer=malt.agents.assayer.DatasetAssayer(dataset),\n",
    ")\n",
    "\n",
    "while True:\n",
    "    if player.step() is None:\n",
    "        break"
   ]
  },
  {
   "cell_type": "code",
   "execution_count": 22,
   "id": "f720d356-b25f-49d2-bc09-6441816f69fa",
   "metadata": {},
   "outputs": [
    {
     "data": {
      "text/plain": [
       "['CCCC',\n",
       " 'CCC',\n",
       " 'CCCCC',\n",
       " 'CCCCCC',\n",
       " 'CCCCCCC',\n",
       " 'CCCCCCCC',\n",
       " 'CCCCCCCCC',\n",
       " 'CCCCCCCCCC',\n",
       " 'CC',\n",
       " 'C']"
      ]
     },
     "execution_count": 22,
     "metadata": {},
     "output_type": "execute_result"
    }
   ],
   "source": [
    "player.portfolio.smiles"
   ]
  },
  {
   "cell_type": "code",
   "execution_count": 40,
   "id": "290aa041-ff68-4625-b2aa-10bd31882c71",
   "metadata": {},
   "outputs": [
    {
     "ename": "RuntimeError",
     "evalue": "Sizes of tensors must match except in dimension 0. Expected size 1 but got size 32 for tensor number 1 in the list.",
     "output_type": "error",
     "traceback": [
      "\u001b[1;31m---------------------------------------------------------------------------\u001b[0m",
      "\u001b[1;31mRuntimeError\u001b[0m                              Traceback (most recent call last)",
      "Input \u001b[1;32mIn [40]\u001b[0m, in \u001b[0;36m<module>\u001b[1;34m\u001b[0m\n\u001b[0;32m     24\u001b[0m player \u001b[38;5;241m=\u001b[39m SequentialModelBasedPlayer(\n\u001b[0;32m     25\u001b[0m     model \u001b[38;5;241m=\u001b[39m model,\n\u001b[0;32m     26\u001b[0m     policy\u001b[38;5;241m=\u001b[39mmalt\u001b[38;5;241m.\u001b[39mpolicy\u001b[38;5;241m.\u001b[39mGreedy(),\n\u001b[1;32m   (...)\u001b[0m\n\u001b[0;32m     30\u001b[0m     assayer\u001b[38;5;241m=\u001b[39mmalt\u001b[38;5;241m.\u001b[39magents\u001b[38;5;241m.\u001b[39massayer\u001b[38;5;241m.\u001b[39mDatasetAssayer(dataset),\n\u001b[0;32m     31\u001b[0m )\n\u001b[0;32m     33\u001b[0m \u001b[38;5;28;01mwhile\u001b[39;00m \u001b[38;5;28;01mTrue\u001b[39;00m:\n\u001b[1;32m---> 34\u001b[0m     \u001b[38;5;28;01mif\u001b[39;00m \u001b[43mplayer\u001b[49m\u001b[38;5;241;43m.\u001b[39;49m\u001b[43mstep\u001b[49m\u001b[43m(\u001b[49m\u001b[43m)\u001b[49m \u001b[38;5;129;01mis\u001b[39;00m \u001b[38;5;28;01mNone\u001b[39;00m:\n\u001b[0;32m     35\u001b[0m         \u001b[38;5;28;01mbreak\u001b[39;00m\n",
      "File \u001b[1;32mc:\\users\\micha\\dev\\choderalab\\malt\\malt\\agents\\player.py:170\u001b[0m, in \u001b[0;36mSequentialModelBasedPlayer.step\u001b[1;34m(self)\u001b[0m\n\u001b[0;32m    169\u001b[0m \u001b[38;5;28;01mdef\u001b[39;00m \u001b[38;5;21mstep\u001b[39m(\u001b[38;5;28mself\u001b[39m):\n\u001b[1;32m--> 170\u001b[0m     best \u001b[38;5;241m=\u001b[39m \u001b[38;5;28;43mself\u001b[39;49m\u001b[38;5;241;43m.\u001b[39;49m\u001b[43mprioritize\u001b[49m\u001b[43m(\u001b[49m\u001b[43m)\u001b[49m\n\u001b[0;32m    171\u001b[0m     \u001b[38;5;28;01mif\u001b[39;00m best \u001b[38;5;129;01mis\u001b[39;00m \u001b[38;5;28;01mNone\u001b[39;00m:\n\u001b[0;32m    172\u001b[0m         \u001b[38;5;28;01mreturn\u001b[39;00m \u001b[38;5;28;01mNone\u001b[39;00m\n",
      "File \u001b[1;32mc:\\users\\micha\\dev\\choderalab\\malt\\malt\\agents\\player.py:127\u001b[0m, in \u001b[0;36mModelBasedPlayer.prioritize\u001b[1;34m(self)\u001b[0m\n\u001b[0;32m    125\u001b[0m     \u001b[38;5;28;01mreturn\u001b[39;00m \u001b[38;5;28;01mNone\u001b[39;00m\n\u001b[0;32m    126\u001b[0m \u001b[38;5;28mself\u001b[39m\u001b[38;5;241m.\u001b[39mmodel\u001b[38;5;241m.\u001b[39meval()\n\u001b[1;32m--> 127\u001b[0m posterior \u001b[38;5;241m=\u001b[39m \u001b[38;5;28;43mself\u001b[39;49m\u001b[38;5;241;43m.\u001b[39;49m\u001b[43mmodel\u001b[49m\u001b[38;5;241;43m.\u001b[39;49m\u001b[43mcondition\u001b[49m\u001b[43m(\u001b[49m\n\u001b[0;32m    128\u001b[0m \u001b[43m    \u001b[49m\u001b[38;5;28;43mself\u001b[39;49m\u001b[38;5;241;43m.\u001b[39;49m\u001b[43mmerchant\u001b[49m\u001b[38;5;241;43m.\u001b[39;49m\u001b[43mcatalogue\u001b[49m\u001b[43m(\u001b[49m\u001b[43m)\u001b[49m\u001b[38;5;241;43m.\u001b[39;49m\u001b[43mbatch\u001b[49m\u001b[43m(\u001b[49m\u001b[43mby\u001b[49m\u001b[38;5;241;43m=\u001b[39;49m\u001b[43m[\u001b[49m\u001b[38;5;124;43m'\u001b[39;49m\u001b[38;5;124;43mg\u001b[39;49m\u001b[38;5;124;43m'\u001b[39;49m\u001b[43m]\u001b[49m\u001b[43m)\u001b[49m\u001b[43m,\u001b[49m\n\u001b[0;32m    129\u001b[0m \u001b[43m\u001b[49m\u001b[43m)\u001b[49m\n\u001b[0;32m    131\u001b[0m best \u001b[38;5;241m=\u001b[39m \u001b[38;5;28mint\u001b[39m(\u001b[38;5;28mself\u001b[39m\u001b[38;5;241m.\u001b[39mpolicy(posterior)\u001b[38;5;241m.\u001b[39mitem())\n\u001b[0;32m    132\u001b[0m \u001b[38;5;28;01mreturn\u001b[39;00m \u001b[38;5;28mself\u001b[39m\u001b[38;5;241m.\u001b[39mmerchant\u001b[38;5;241m.\u001b[39mcatalogue()[best]\n",
      "File \u001b[1;32mc:\\users\\micha\\dev\\choderalab\\malt\\malt\\models\\supervised_model.py:127\u001b[0m, in \u001b[0;36mGaussianProcessSupervisedModel.forward\u001b[1;34m(self, g)\u001b[0m\n\u001b[0;32m    124\u001b[0m h \u001b[38;5;241m=\u001b[39m \u001b[38;5;28mself\u001b[39m\u001b[38;5;241m.\u001b[39mrepresentation(g)\n\u001b[0;32m    126\u001b[0m \u001b[38;5;66;03m# latent representation -> distribution\u001b[39;00m\n\u001b[1;32m--> 127\u001b[0m y_pred \u001b[38;5;241m=\u001b[39m \u001b[38;5;28;43mself\u001b[39;49m\u001b[38;5;241;43m.\u001b[39;49m\u001b[43mregressor\u001b[49m\u001b[43m(\u001b[49m\u001b[43mh\u001b[49m\u001b[43m)\u001b[49m\n\u001b[0;32m    129\u001b[0m \u001b[38;5;28;01mreturn\u001b[39;00m y_pred\n",
      "File \u001b[1;32m~\\miniconda3\\envs\\malt\\lib\\site-packages\\gpytorch\\models\\exact_gp.py:302\u001b[0m, in \u001b[0;36mExactGP.__call__\u001b[1;34m(self, *args, **kwargs)\u001b[0m\n\u001b[0;32m    300\u001b[0m         train_input \u001b[38;5;241m=\u001b[39m train_input\u001b[38;5;241m.\u001b[39mexpand(\u001b[38;5;241m*\u001b[39mbatch_shape, \u001b[38;5;241m*\u001b[39mtrain_input\u001b[38;5;241m.\u001b[39mshape[\u001b[38;5;241m-\u001b[39m\u001b[38;5;241m2\u001b[39m:])\n\u001b[0;32m    301\u001b[0m         \u001b[38;5;28minput\u001b[39m \u001b[38;5;241m=\u001b[39m \u001b[38;5;28minput\u001b[39m\u001b[38;5;241m.\u001b[39mexpand(\u001b[38;5;241m*\u001b[39mbatch_shape, \u001b[38;5;241m*\u001b[39m\u001b[38;5;28minput\u001b[39m\u001b[38;5;241m.\u001b[39mshape[\u001b[38;5;241m-\u001b[39m\u001b[38;5;241m2\u001b[39m:])\n\u001b[1;32m--> 302\u001b[0m     full_inputs\u001b[38;5;241m.\u001b[39mappend(\u001b[43mtorch\u001b[49m\u001b[38;5;241;43m.\u001b[39;49m\u001b[43mcat\u001b[49m\u001b[43m(\u001b[49m\u001b[43m[\u001b[49m\u001b[43mtrain_input\u001b[49m\u001b[43m,\u001b[49m\u001b[43m \u001b[49m\u001b[38;5;28;43minput\u001b[39;49m\u001b[43m]\u001b[49m\u001b[43m,\u001b[49m\u001b[43m \u001b[49m\u001b[43mdim\u001b[49m\u001b[38;5;241;43m=\u001b[39;49m\u001b[38;5;241;43m-\u001b[39;49m\u001b[38;5;241;43m2\u001b[39;49m\u001b[43m)\u001b[49m)\n\u001b[0;32m    304\u001b[0m \u001b[38;5;66;03m# Get the joint distribution for training/test data\u001b[39;00m\n\u001b[0;32m    305\u001b[0m full_output \u001b[38;5;241m=\u001b[39m \u001b[38;5;28msuper\u001b[39m(ExactGP, \u001b[38;5;28mself\u001b[39m)\u001b[38;5;241m.\u001b[39m\u001b[38;5;21m__call__\u001b[39m(\u001b[38;5;241m*\u001b[39mfull_inputs, \u001b[38;5;241m*\u001b[39m\u001b[38;5;241m*\u001b[39mkwargs)\n",
      "\u001b[1;31mRuntimeError\u001b[0m: Sizes of tensors must match except in dimension 0. Expected size 1 but got size 32 for tensor number 1 in the list."
     ]
    }
   ],
   "source": [
    "import malt\n",
    "import torch\n",
    "from malt.agents.player import SequentialModelBasedPlayer\n",
    "\n",
    "dataset = malt.data.collections.linear_alkanes(10)\n",
    "g, y = dataset.batch()\n",
    "model = malt.models.supervised_model.GaussianProcessSupervisedModel(\n",
    "   representation=malt.models.representation.DGLRepresentation(\n",
    "       out_features=32\n",
    "   ),\n",
    "   regressor=malt.models.regressor.ExactGaussianProcessRegressor(\n",
    "       y, in_features=32, out_features=2,\n",
    "   ),\n",
    "   likelihood=malt.models.likelihood.HeteroschedasticGaussianLikelihood(),\n",
    ")\n",
    "if torch.cuda.is_available():\n",
    "    model.cuda()\n",
    "\n",
    "mll = malt.models.marginal_likelihood.ExactMarginalLogLikelihood(\n",
    "    model.regressor.likelihood,\n",
    "    model\n",
    ")\n",
    "\n",
    "player = SequentialModelBasedPlayer(\n",
    "    model = model,\n",
    "    policy=malt.policy.Greedy(),\n",
    "    trainer=malt.trainer.get_default_trainer(),\n",
    "    marginal_likelihood=mll,\n",
    "    merchant=malt.agents.merchant.DatasetMerchant(dataset),\n",
    "    assayer=malt.agents.assayer.DatasetAssayer(dataset),\n",
    ")\n",
    "\n",
    "while True:\n",
    "    if player.step() is None:\n",
    "        break"
   ]
  },
  {
   "cell_type": "code",
   "execution_count": 34,
   "id": "6d02620c-40e7-4122-b971-9fd2013c9a1c",
   "metadata": {},
   "outputs": [
    {
     "data": {
      "text/plain": [
       "['CCCC',\n",
       " 'CCCCCC',\n",
       " 'CCCCCCCC',\n",
       " 'CCCCCCCCC',\n",
       " 'CCCCCCCCCC',\n",
       " 'CC',\n",
       " 'CCCCC',\n",
       " 'CCCCCCC',\n",
       " 'C',\n",
       " 'CCC']"
      ]
     },
     "execution_count": 34,
     "metadata": {},
     "output_type": "execute_result"
    }
   ],
   "source": [
    "player.portfolio.smiles"
   ]
  }
 ],
 "metadata": {
  "kernelspec": {
   "display_name": "Python 3 (ipykernel)",
   "language": "python",
   "name": "python3"
  },
  "language_info": {
   "codemirror_mode": {
    "name": "ipython",
    "version": 3
   },
   "file_extension": ".py",
   "mimetype": "text/x-python",
   "name": "python",
   "nbconvert_exporter": "python",
   "pygments_lexer": "ipython3",
   "version": "3.9.7"
  }
 },
 "nbformat": 4,
 "nbformat_minor": 5
}
