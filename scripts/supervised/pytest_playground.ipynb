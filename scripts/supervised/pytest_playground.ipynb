{
 "cells": [
  {
   "cell_type": "code",
   "execution_count": 1,
   "id": "83b203f5-cd15-4d6a-8ce1-a366a684607b",
   "metadata": {},
   "outputs": [
    {
     "name": "stderr",
     "output_type": "stream",
     "text": [
      "Using backend: pytorch\n"
     ]
    }
   ],
   "source": [
    "import torch\n",
    "import malt\n",
    "\n",
    "dummy_targets = torch.Tensor([0.0])\n",
    "\n",
    "regressor = malt.models.regressor.GPyTorchExactRegressor(\n",
    "    dummy_targets,\n",
    "    in_features=128,\n",
    "    out_features=2,\n",
    ")"
   ]
  },
  {
   "cell_type": "code",
   "execution_count": 2,
   "id": "2110bbbb-ea0e-4d88-9cd6-b0790f5ae415",
   "metadata": {},
   "outputs": [],
   "source": [
    "import torch\n",
    "import dgl\n",
    "import malt\n",
    "\n",
    "dummy_targets = torch.Tensor([0.0])\n",
    "\n",
    "net = malt.models.supervised_model.GaussianProcessSupervisedModel(\n",
    "    representation=malt.models.representation.DGLRepresentation(\n",
    "        out_features=128\n",
    "    ),\n",
    "    regressor=malt.models.regressor.GPyTorchExactRegressor(\n",
    "        dummy_targets,\n",
    "        in_features=128,\n",
    "        out_features=2,\n",
    "    ),\n",
    "    likelihood=malt.models.likelihood.HeteroschedasticGaussianLikelihood(),\n",
    ")\n",
    "\n",
    "point = malt.Molecule(\"C\")\n",
    "point.featurize()\n",
    "graph = dgl.batch([point.g])\n",
    "\n",
    "y = net.condition(graph)\n",
    "assert y.mean.item() == 0.0"
   ]
  },
  {
   "cell_type": "code",
   "execution_count": 3,
   "id": "8cfbf79d-63b7-4f71-86f6-dd07e2a00300",
   "metadata": {},
   "outputs": [],
   "source": [
    "import torch\n",
    "import dgl\n",
    "import malt\n",
    "import gpytorch\n",
    "\n",
    "dummy_targets = torch.tensor([[4.0]])\n",
    "\n",
    "net = malt.models.supervised_model.GaussianProcessSupervisedModel(\n",
    "    representation=malt.models.representation.DGLRepresentation(\n",
    "        out_features=32\n",
    "    ),\n",
    "    regressor=malt.models.regressor.GPyTorchExactRegressor(\n",
    "        dummy_targets,\n",
    "        in_features=32,\n",
    "        out_features=2,\n",
    "    ),\n",
    "    likelihood=malt.models.likelihood.HeteroschedasticGaussianLikelihood(),\n",
    ")\n",
    "\n",
    "point = malt.Molecule(\"CCCCCCC\")\n",
    "point.featurize()\n",
    "graph = dgl.batch([point.g])\n",
    "\n",
    "mll = gpytorch.mlls.ExactMarginalLogLikelihood(net.regressor.likelihood, net)\n",
    "\n",
    "net.train()\n",
    "y_pred = net(graph)\n",
    "loss = mll(y_pred, torch.tensor([[2.0]]))\n",
    "loss.backward()\n",
    "\n",
    "net.eval()\n",
    "y = net(graph)\n",
    "assert y.mean.item() != 0.0"
   ]
  },
  {
   "cell_type": "code",
   "execution_count": 5,
   "id": "ada64b9b-9771-4a06-9395-7cf9fcdaf05d",
   "metadata": {},
   "outputs": [],
   "source": [
    "import torch\n",
    "import dgl\n",
    "import malt\n",
    "\n",
    "dataset = malt.data.collections.linear_alkanes(10)\n",
    "dataset_loader = dataset.view(batch_size=len(dataset))\n",
    "g, y = next(iter(dataset_loader))\n",
    "\n",
    "net = malt.models.supervised_model.GaussianProcessSupervisedModel(\n",
    "    representation=malt.models.representation.DGLRepresentation(\n",
    "        out_features=128\n",
    "    ),\n",
    "    regressor=malt.models.regressor.GPyTorchExactRegressor(\n",
    "        y,\n",
    "        in_features=128,\n",
    "        out_features=2,\n",
    "    ),\n",
    "    likelihood=malt.models.likelihood.HeteroschedasticGaussianLikelihood(),\n",
    ")\n",
    "\n",
    "if torch.cuda.is_available():\n",
    "    net.cuda()\n",
    "\n",
    "mll = gpytorch.mlls.ExactMarginalLogLikelihood(net.regressor.likelihood, net)\n",
    "\n",
    "net.train()\n",
    "y_pred = net(g)\n",
    "loss = mll(y_pred, y).mean()\n",
    "loss.backward()\n",
    "\n",
    "net.eval()\n",
    "y_hat = net(g)\n",
    "assert y_hat.mean.shape[0] == 10\n",
    "assert len(y_hat.mean.shape) == 1"
   ]
  },
  {
   "cell_type": "code",
   "execution_count": 13,
   "id": "e4d62e3d-293b-4192-92fb-2c36c84b45f0",
   "metadata": {},
   "outputs": [],
   "source": [
    "import malt\n",
    "import torch\n",
    "from malt.agents.player import SequentialModelBasedPlayer\n",
    "\n",
    "dataset = malt.data.collections.linear_alkanes(10)\n",
    "g, y = dataset.batch()\n",
    "model = malt.models.supervised_model.GaussianProcessSupervisedModel(\n",
    "   representation=malt.models.representation.DGLRepresentation(\n",
    "       out_features=32\n",
    "   ),\n",
    "   regressor=malt.models.regressor.ExactGaussianProcessRegressor(\n",
    "       y, in_features=32, out_features=2,\n",
    "   ),\n",
    "   likelihood=malt.models.likelihood.HeteroschedasticGaussianLikelihood(),\n",
    ")\n",
    "if torch.cuda.is_available():\n",
    "    model.cuda()\n",
    "    \n",
    "mll = malt.models.marginal_likelihood.ExactMarginalLogLikelihood(\n",
    "    model.regressor.likelihood,\n",
    "    model\n",
    ")\n",
    "\n",
    "player = SequentialModelBasedPlayer(\n",
    "    model = model,\n",
    "    policy=malt.policy.Greedy(),\n",
    "    trainer=malt.trainer.get_default_trainer(),\n",
    "    marginal_likelihood=mll,\n",
    "    merchant=malt.agents.merchant.DatasetMerchant(dataset),\n",
    "    assayer=malt.agents.assayer.DatasetAssayer(dataset),\n",
    ")\n",
    "\n",
    "while True:\n",
    "    if player.step() is None:\n",
    "        break"
   ]
  },
  {
   "cell_type": "code",
   "execution_count": 40,
   "id": "79971921-c626-4baa-8809-b1e3220705bb",
   "metadata": {},
   "outputs": [],
   "source": [
    "import torch\n",
    "import dgl\n",
    "import malt\n",
    "\n",
    "dataset = malt.data.collections.linear_alkanes(10)\n",
    "dataset_loader = dataset.view(batch_size=len(dataset))\n",
    "g, y = next(iter(dataset_loader))\n",
    "y = y.reshape(-1, 1)\n",
    "\n",
    "\n",
    "net = malt.models.supervised_model.GaussianProcessSupervisedModel(\n",
    "    representation=malt.models.representation.DGLRepresentation(\n",
    "        out_features=128\n",
    "    ),\n",
    "    regressor=malt.models.regressor.HardcodedExactGaussianProcessRegressor(\n",
    "        y,\n",
    "        in_features=128,\n",
    "        out_features=2,\n",
    "    ),\n",
    "    likelihood=malt.models.likelihood.HeteroschedasticGaussianLikelihood(),\n",
    ")\n",
    "\n",
    "if torch.cuda.is_available():\n",
    "    net.cuda()\n",
    "\n",
    "\n",
    "mll = malt.models.marginal_likelihood.HardcodedExactMarginalLogLikelihood(\n",
    "    net.likelihood, net\n",
    ")\n",
    "\n",
    "net.train()\n",
    "y_hat = net(g)\n",
    "loss = mll(y_hat, y)\n",
    "loss.backward()\n",
    "\n",
    "y_hat = net.condition(g)\n",
    "assert y_hat.mean.shape[0] == 10\n",
    "assert len(y_hat.mean.shape) == 1"
   ]
  },
  {
   "cell_type": "code",
   "execution_count": 41,
   "id": "b4fad4ce-e1f7-4df1-8dfd-793e9cd56d99",
   "metadata": {},
   "outputs": [
    {
     "name": "stdout",
     "output_type": "stream",
     "text": [
      "Processing dgl graphs from scratch...\n",
      "Processing molecule 1000/1128\n"
     ]
    }
   ],
   "source": [
    "dataset = malt.data.collections.esol()\n",
    "dataset.shuffle()\n",
    "ds_tr, ds_te = dataset[:800], dataset[800:]"
   ]
  },
  {
   "cell_type": "code",
   "execution_count": 47,
   "id": "07dcffa5-3c45-4d92-ae93-e0ef11ad67bf",
   "metadata": {},
   "outputs": [],
   "source": [
    "g, y = ds_tr.batch()\n",
    "\n",
    "net = malt.models.supervised_model.GaussianProcessSupervisedModel(\n",
    "    representation=malt.models.representation.DGLRepresentation(\n",
    "        out_features=60\n",
    "    ),\n",
    "    regressor=malt.models.regressor.HardcodedExactGaussianProcessRegressor(\n",
    "        y,\n",
    "        in_features=60,\n",
    "        out_features=2,\n",
    "    ),\n",
    "    likelihood=malt.models.likelihood.HeteroschedasticGaussianLikelihood(),\n",
    ")\n",
    "\n",
    "if torch.cuda.is_available():\n",
    "    net.cuda()\n",
    "\n",
    "\n",
    "mll = malt.models.marginal_likelihood.HardcodedExactMarginalLogLikelihood(\n",
    "    net.likelihood, net\n",
    ")\n",
    "\n",
    "y_hat = net(g)\n",
    "loss = mll(y_hat, y)\n",
    "loss.backward()\n",
    "\n",
    "y_hat = net.condition(g)\n",
    "\n",
    "g, y = ds_te.batch()\n",
    "\n",
    "net.eval()\n",
    "with torch.no_grad():\n",
    "    net(g)"
   ]
  },
  {
   "cell_type": "code",
   "execution_count": 45,
   "id": "b7cd7f60-ac0b-4700-82c4-e9de6fd35fa0",
   "metadata": {},
   "outputs": [],
   "source": []
  },
  {
   "cell_type": "code",
   "execution_count": 33,
   "id": "eff11bbb-1edd-442a-b492-972f77772543",
   "metadata": {},
   "outputs": [],
   "source": [
    "# g, y = next(iter(dataset[:4].view(batch_size=4)))\n",
    "# net(g)"
   ]
  },
  {
   "cell_type": "code",
   "execution_count": 14,
   "id": "dfb4ddec-544b-401b-a6af-ee97f6ed145e",
   "metadata": {},
   "outputs": [
    {
     "ename": "RuntimeError",
     "evalue": "Incompatible matrix sizes for triangular_solve: each A matrix is 2 by 2 but each b matrix is 9 by 1",
     "output_type": "error",
     "traceback": [
      "\u001b[1;31m---------------------------------------------------------------------------\u001b[0m",
      "\u001b[1;31mRuntimeError\u001b[0m                              Traceback (most recent call last)",
      "Input \u001b[1;32mIn [14]\u001b[0m, in \u001b[0;36m<module>\u001b[1;34m\u001b[0m\n\u001b[0;32m     23\u001b[0m mll \u001b[38;5;241m=\u001b[39m malt\u001b[38;5;241m.\u001b[39mmodels\u001b[38;5;241m.\u001b[39mmarginal_likelihood\u001b[38;5;241m.\u001b[39mHardcodedExactMarginalLogLikelihood(\n\u001b[0;32m     24\u001b[0m     net\u001b[38;5;241m.\u001b[39mlikelihood, net\n\u001b[0;32m     25\u001b[0m )\n\u001b[0;32m     27\u001b[0m net\u001b[38;5;241m.\u001b[39mtrain()\n\u001b[1;32m---> 28\u001b[0m y_hat \u001b[38;5;241m=\u001b[39m \u001b[43mnet\u001b[49m\u001b[43m(\u001b[49m\u001b[43mgraph\u001b[49m\u001b[43m)\u001b[49m\n\u001b[0;32m     29\u001b[0m loss \u001b[38;5;241m=\u001b[39m mll(y_hat, torch\u001b[38;5;241m.\u001b[39mtensor([[\u001b[38;5;241m5.0\u001b[39m, \u001b[38;5;241m5.0\u001b[39m]]))\n\u001b[0;32m     30\u001b[0m loss\u001b[38;5;241m.\u001b[39mbackward()\n",
      "File \u001b[1;32m~\\miniconda3\\envs\\malt\\lib\\site-packages\\gpytorch\\module.py:30\u001b[0m, in \u001b[0;36mModule.__call__\u001b[1;34m(self, *inputs, **kwargs)\u001b[0m\n\u001b[0;32m     29\u001b[0m \u001b[38;5;28;01mdef\u001b[39;00m \u001b[38;5;21m__call__\u001b[39m(\u001b[38;5;28mself\u001b[39m, \u001b[38;5;241m*\u001b[39minputs, \u001b[38;5;241m*\u001b[39m\u001b[38;5;241m*\u001b[39mkwargs):\n\u001b[1;32m---> 30\u001b[0m     outputs \u001b[38;5;241m=\u001b[39m \u001b[38;5;28mself\u001b[39m\u001b[38;5;241m.\u001b[39mforward(\u001b[38;5;241m*\u001b[39minputs, \u001b[38;5;241m*\u001b[39m\u001b[38;5;241m*\u001b[39mkwargs)\n\u001b[0;32m     31\u001b[0m     \u001b[38;5;28;01mif\u001b[39;00m \u001b[38;5;28misinstance\u001b[39m(outputs, \u001b[38;5;28mlist\u001b[39m):\n\u001b[0;32m     32\u001b[0m         \u001b[38;5;28;01mreturn\u001b[39;00m [_validate_module_outputs(output) \u001b[38;5;28;01mfor\u001b[39;00m output \u001b[38;5;129;01min\u001b[39;00m outputs]\n",
      "File \u001b[1;32mc:\\users\\micha\\dev\\choderalab\\malt\\malt\\models\\supervised_model.py:127\u001b[0m, in \u001b[0;36mGaussianProcessSupervisedModel.forward\u001b[1;34m(self, g)\u001b[0m\n\u001b[0;32m    124\u001b[0m h \u001b[38;5;241m=\u001b[39m \u001b[38;5;28mself\u001b[39m\u001b[38;5;241m.\u001b[39mrepresentation(g)\n\u001b[0;32m    126\u001b[0m \u001b[38;5;66;03m# latent representation -> distribution\u001b[39;00m\n\u001b[1;32m--> 127\u001b[0m y_pred \u001b[38;5;241m=\u001b[39m \u001b[38;5;28;43mself\u001b[39;49m\u001b[38;5;241;43m.\u001b[39;49m\u001b[43mregressor\u001b[49m\u001b[43m(\u001b[49m\u001b[43mh\u001b[49m\u001b[43m)\u001b[49m\n\u001b[0;32m    129\u001b[0m \u001b[38;5;28;01mreturn\u001b[39;00m y_pred\n",
      "File \u001b[1;32m~\\miniconda3\\envs\\malt\\lib\\site-packages\\torch\\nn\\modules\\module.py:1102\u001b[0m, in \u001b[0;36mModule._call_impl\u001b[1;34m(self, *input, **kwargs)\u001b[0m\n\u001b[0;32m   1098\u001b[0m \u001b[38;5;66;03m# If we don't have any hooks, we want to skip the rest of the logic in\u001b[39;00m\n\u001b[0;32m   1099\u001b[0m \u001b[38;5;66;03m# this function, and just call forward.\u001b[39;00m\n\u001b[0;32m   1100\u001b[0m \u001b[38;5;28;01mif\u001b[39;00m \u001b[38;5;129;01mnot\u001b[39;00m (\u001b[38;5;28mself\u001b[39m\u001b[38;5;241m.\u001b[39m_backward_hooks \u001b[38;5;129;01mor\u001b[39;00m \u001b[38;5;28mself\u001b[39m\u001b[38;5;241m.\u001b[39m_forward_hooks \u001b[38;5;129;01mor\u001b[39;00m \u001b[38;5;28mself\u001b[39m\u001b[38;5;241m.\u001b[39m_forward_pre_hooks \u001b[38;5;129;01mor\u001b[39;00m _global_backward_hooks\n\u001b[0;32m   1101\u001b[0m         \u001b[38;5;129;01mor\u001b[39;00m _global_forward_hooks \u001b[38;5;129;01mor\u001b[39;00m _global_forward_pre_hooks):\n\u001b[1;32m-> 1102\u001b[0m     \u001b[38;5;28;01mreturn\u001b[39;00m forward_call(\u001b[38;5;241m*\u001b[39m\u001b[38;5;28minput\u001b[39m, \u001b[38;5;241m*\u001b[39m\u001b[38;5;241m*\u001b[39mkwargs)\n\u001b[0;32m   1103\u001b[0m \u001b[38;5;66;03m# Do not call functions when jit is used\u001b[39;00m\n\u001b[0;32m   1104\u001b[0m full_backward_hooks, non_full_backward_hooks \u001b[38;5;241m=\u001b[39m [], []\n",
      "File \u001b[1;32mc:\\users\\micha\\dev\\choderalab\\malt\\malt\\models\\regressor.py:223\u001b[0m, in \u001b[0;36mHardcodedExactGaussianProcessRegressor.forward\u001b[1;34m(self, x_te, *args, **kwargs)\u001b[0m\n\u001b[0;32m    213\u001b[0m y_tr \u001b[38;5;241m=\u001b[39m \u001b[38;5;28mself\u001b[39m\u001b[38;5;241m.\u001b[39mtrain_targets\n\u001b[0;32m    215\u001b[0m \u001b[38;5;66;03m# get parameters\u001b[39;00m\n\u001b[0;32m    216\u001b[0m (\n\u001b[0;32m    217\u001b[0m     k_tr_tr,\n\u001b[0;32m    218\u001b[0m     k_te_te,\n\u001b[0;32m    219\u001b[0m     k_te_tr,\n\u001b[0;32m    220\u001b[0m     k_tr_te,\n\u001b[0;32m    221\u001b[0m     l_low,\n\u001b[0;32m    222\u001b[0m     alpha,\n\u001b[1;32m--> 223\u001b[0m ) \u001b[38;5;241m=\u001b[39m \u001b[38;5;28;43mself\u001b[39;49m\u001b[38;5;241;43m.\u001b[39;49m\u001b[43m_get_kernel_and_auxiliary_variables\u001b[49m\u001b[43m(\u001b[49m\u001b[43mx_tr\u001b[49m\u001b[43m,\u001b[49m\u001b[43m \u001b[49m\u001b[43my_tr\u001b[49m\u001b[43m,\u001b[49m\u001b[43m \u001b[49m\u001b[43mx_te\u001b[49m\u001b[43m)\u001b[49m\n\u001b[0;32m    225\u001b[0m \u001b[38;5;66;03m# gather inputs for marginal log likelihood\u001b[39;00m\n\u001b[0;32m    226\u001b[0m \u001b[38;5;66;03m# if self.training:\u001b[39;00m\n\u001b[0;32m    227\u001b[0m \u001b[38;5;28mself\u001b[39m\u001b[38;5;241m.\u001b[39mmll_vars \u001b[38;5;241m=\u001b[39m alpha, l_low\n",
      "File \u001b[1;32mc:\\users\\micha\\dev\\choderalab\\malt\\malt\\models\\regressor.py:184\u001b[0m, in \u001b[0;36mHardcodedExactGaussianProcessRegressor._get_kernel_and_auxiliary_variables\u001b[1;34m(self, x_tr, y_tr, x_te)\u001b[0m\n\u001b[0;32m    181\u001b[0m     y_tr \u001b[38;5;241m=\u001b[39m y_tr\u001b[38;5;241m.\u001b[39munsqueeze(\u001b[38;5;241m1\u001b[39m)\n\u001b[0;32m    183\u001b[0m \u001b[38;5;66;03m# (batch_size_tr. 1)\u001b[39;00m\n\u001b[1;32m--> 184\u001b[0m l_low_over_y, _ \u001b[38;5;241m=\u001b[39m \u001b[43mtorch\u001b[49m\u001b[38;5;241;43m.\u001b[39;49m\u001b[43mtriangular_solve\u001b[49m\u001b[43m(\u001b[49m\n\u001b[0;32m    185\u001b[0m \u001b[43m    \u001b[49m\u001b[38;5;28;43minput\u001b[39;49m\u001b[38;5;241;43m=\u001b[39;49m\u001b[43my_tr\u001b[49m\u001b[43m,\u001b[49m\u001b[43m \u001b[49m\u001b[43mA\u001b[49m\u001b[38;5;241;43m=\u001b[39;49m\u001b[43ml_low\u001b[49m\u001b[43m,\u001b[49m\u001b[43m \u001b[49m\u001b[43mupper\u001b[49m\u001b[38;5;241;43m=\u001b[39;49m\u001b[38;5;28;43;01mFalse\u001b[39;49;00m\n\u001b[0;32m    186\u001b[0m \u001b[43m\u001b[49m\u001b[43m)\u001b[49m\n\u001b[0;32m    188\u001b[0m \u001b[38;5;66;03m# (batch_size_tr, 1)\u001b[39;00m\n\u001b[0;32m    189\u001b[0m alpha, _ \u001b[38;5;241m=\u001b[39m torch\u001b[38;5;241m.\u001b[39mtriangular_solve(\n\u001b[0;32m    190\u001b[0m     \u001b[38;5;28minput\u001b[39m\u001b[38;5;241m=\u001b[39ml_low_over_y, A\u001b[38;5;241m=\u001b[39ml_up, upper\u001b[38;5;241m=\u001b[39m\u001b[38;5;28;01mTrue\u001b[39;00m\n\u001b[0;32m    191\u001b[0m )\n",
      "\u001b[1;31mRuntimeError\u001b[0m: Incompatible matrix sizes for triangular_solve: each A matrix is 2 by 2 but each b matrix is 9 by 1"
     ]
    }
   ],
   "source": [
    "import torch\n",
    "import dgl\n",
    "import malt\n",
    "\n",
    "dummy_targets = torch.Tensor([4.0]*9)\n",
    "\n",
    "net = malt.models.supervised_model.GaussianProcessSupervisedModel(\n",
    "    representation=malt.models.representation.DGLRepresentation(\n",
    "        out_features=128\n",
    "    ),\n",
    "    regressor=malt.models.regressor.HardcodedExactGaussianProcessRegressor(\n",
    "        dummy_targets,\n",
    "        in_features=128,\n",
    "        out_features=2,\n",
    "    ),\n",
    "    likelihood=malt.models.likelihood.HeteroschedasticGaussianLikelihood(),\n",
    ")\n",
    "\n",
    "point = malt.Molecule(\"C\")\n",
    "point.featurize()\n",
    "graph = dgl.batch([point.g, point.g])\n",
    "\n",
    "mll = malt.models.marginal_likelihood.HardcodedExactMarginalLogLikelihood(\n",
    "    net.likelihood, net\n",
    ")\n",
    "\n",
    "net.train()\n",
    "y_hat = net(graph)\n",
    "loss = mll(y_hat, torch.tensor([[5.0, 5.0]]))\n",
    "loss.backward()\n",
    "\n",
    "net.eval()\n",
    "y = net.condition(graph)\n",
    "assert y.mean.item() != 0.0"
   ]
  },
  {
   "cell_type": "code",
   "execution_count": 12,
   "id": "2d2e1284-acfc-4bd6-8e02-2130102135fe",
   "metadata": {},
   "outputs": [
    {
     "data": {
      "text/plain": [
       "MultivariateNormal(loc: tensor([3.8103], grad_fn=<ExpandBackward0>), covariance_matrix: tensor([[0.0474]], grad_fn=<ExpandBackward0>))"
      ]
     },
     "execution_count": 12,
     "metadata": {},
     "output_type": "execute_result"
    }
   ],
   "source": [
    "net.condition(graph)"
   ]
  },
  {
   "cell_type": "code",
   "execution_count": 11,
   "id": "fc7421af-7051-4dba-a521-76b5858b33fe",
   "metadata": {},
   "outputs": [
    {
     "name": "stdout",
     "output_type": "stream",
     "text": [
      "The autoreload extension is already loaded. To reload it, use:\n",
      "  %reload_ext autoreload\n"
     ]
    }
   ],
   "source": [
    "%load_ext autoreload\n",
    "%autoreload 2\n",
    "\n",
    "import malt\n",
    "import torch\n",
    "from malt.agents.player import SequentialModelBasedPlayer\n",
    "\n",
    "dataset = malt.data.collections.linear_alkanes(10)\n",
    "g, y = dataset.batch()\n",
    "model = malt.models.supervised_model.GaussianProcessSupervisedModel(\n",
    "   representation=malt.models.representation.DGLRepresentation(\n",
    "       out_features=32\n",
    "   ),\n",
    "   regressor=malt.models.regressor.ExactGaussianProcessRegressor(\n",
    "       y, in_features=32, out_features=2,\n",
    "   ),\n",
    "   likelihood=malt.models.likelihood.HeteroschedasticGaussianLikelihood(),\n",
    ")\n",
    "if torch.cuda.is_available():\n",
    "    model.cuda()\n",
    "\n",
    "mll = malt.models.marginal_likelihood.ExactMarginalLogLikelihood(\n",
    "    model.regressor.likelihood,\n",
    "    model\n",
    ")\n",
    "\n",
    "player = SequentialModelBasedPlayer(\n",
    "    model = model,\n",
    "    policy=malt.policy.Greedy(),\n",
    "    trainer=malt.trainer.get_default_trainer(),\n",
    "    marginal_likelihood=mll,\n",
    "    merchant=malt.agents.merchant.DatasetMerchant(dataset),\n",
    "    assayer=malt.agents.assayer.DatasetAssayer(dataset),\n",
    ")\n",
    "\n",
    "while True:\n",
    "    if player.step() is None:\n",
    "        break"
   ]
  },
  {
   "cell_type": "code",
   "execution_count": 34,
   "id": "b52994b7-4043-487c-8434-661e563a44b0",
   "metadata": {},
   "outputs": [
    {
     "data": {
      "text/plain": [
       "tensor(1.2900)"
      ]
     },
     "execution_count": 34,
     "metadata": {},
     "output_type": "execute_result"
    }
   ],
   "source": [
    "g, y = ds.batch(by=['g', 'y'])\n",
    "torch.nn.functional.mse_loss(DumbModel(input_)(g).mean, target)"
   ]
  },
  {
   "cell_type": "code",
   "execution_count": 37,
   "id": "77053a30-2675-4371-8937-05442892057f",
   "metadata": {},
   "outputs": [
    {
     "name": "stderr",
     "output_type": "stream",
     "text": [
      "c:\\users\\micha\\dev\\choderalab\\malt\\malt\\metrics\\base_metrics.py:4: UserWarning: Using a target size (torch.Size([5])) that is different to the input size (torch.Size([20])). This will likely lead to incorrect results due to broadcasting. Please ensure they have the same size.\n",
      "  return torch.nn.functional.mse_loss(target, input)\n"
     ]
    },
    {
     "ename": "RuntimeError",
     "evalue": "The size of tensor a (20) must match the size of tensor b (5) at non-singleton dimension 0",
     "output_type": "error",
     "traceback": [
      "\u001b[1;31m---------------------------------------------------------------------------\u001b[0m",
      "\u001b[1;31mRuntimeError\u001b[0m                              Traceback (most recent call last)",
      "Input \u001b[1;32mIn [37]\u001b[0m, in \u001b[0;36m<module>\u001b[1;34m\u001b[0m\n\u001b[0;32m     20\u001b[0m     point \u001b[38;5;241m=\u001b[39m malt\u001b[38;5;241m.\u001b[39mMolecule(smiles\u001b[38;5;241m=\u001b[39m\u001b[38;5;124m\"\u001b[39m\u001b[38;5;124mC\u001b[39m\u001b[38;5;124m\"\u001b[39m, metadata\u001b[38;5;241m=\u001b[39m{\u001b[38;5;124m'\u001b[39m\u001b[38;5;124my\u001b[39m\u001b[38;5;124m'\u001b[39m: target[idx]\u001b[38;5;241m.\u001b[39mitem()})\n\u001b[0;32m     21\u001b[0m     ds\u001b[38;5;241m.\u001b[39mappend(point)\n\u001b[1;32m---> 23\u001b[0m \u001b[38;5;28;01massert\u001b[39;00m \u001b[43mMSE\u001b[49m\u001b[43m(\u001b[49m\u001b[43m)\u001b[49m\u001b[43m(\u001b[49m\u001b[43mDumbModel\u001b[49m\u001b[43m(\u001b[49m\u001b[43minput_\u001b[49m\u001b[43m)\u001b[49m\u001b[43m,\u001b[49m\u001b[43m \u001b[49m\u001b[43mds\u001b[49m\u001b[43m)\u001b[49m \u001b[38;5;241m==\u001b[39m mse(input_, target)\n\u001b[0;32m     24\u001b[0m \u001b[38;5;28;01massert\u001b[39;00m MAPE()(DumbModel(input_), ds) \u001b[38;5;241m==\u001b[39m mape(input_, target)\n\u001b[0;32m     25\u001b[0m \u001b[38;5;28;01massert\u001b[39;00m RMSE()(DumbModel(input_), ds) \u001b[38;5;241m==\u001b[39m rmse(input_, target)\n",
      "File \u001b[1;32mc:\\users\\micha\\dev\\choderalab\\malt\\malt\\metrics\\supervised_metrics.py:14\u001b[0m, in \u001b[0;36mSupervisedMetrics.__call__\u001b[1;34m(self, model, ds_te)\u001b[0m\n\u001b[0;32m     12\u001b[0m \u001b[38;5;28;01mwith\u001b[39;00m torch\u001b[38;5;241m.\u001b[39mno_grad():\n\u001b[0;32m     13\u001b[0m     y_hat \u001b[38;5;241m=\u001b[39m model(g)\u001b[38;5;241m.\u001b[39mmean\n\u001b[1;32m---> 14\u001b[0m \u001b[38;5;28;01mreturn\u001b[39;00m \u001b[38;5;28;43mgetattr\u001b[39;49m\u001b[43m(\u001b[49m\u001b[43mmalt\u001b[49m\u001b[38;5;241;43m.\u001b[39;49m\u001b[43mmetrics\u001b[49m\u001b[38;5;241;43m.\u001b[39;49m\u001b[43mbase_metrics\u001b[49m\u001b[43m,\u001b[49m\u001b[43m \u001b[49m\u001b[38;5;28;43mself\u001b[39;49m\u001b[38;5;241;43m.\u001b[39;49m\u001b[43mbase_metric\u001b[49m\u001b[43m)\u001b[49m\u001b[43m(\u001b[49m\u001b[43my_hat\u001b[49m\u001b[43m,\u001b[49m\u001b[43m \u001b[49m\u001b[43my\u001b[49m\u001b[43m)\u001b[49m\n",
      "File \u001b[1;32mc:\\users\\micha\\dev\\choderalab\\malt\\malt\\metrics\\base_metrics.py:4\u001b[0m, in \u001b[0;36mmse\u001b[1;34m(input, target)\u001b[0m\n\u001b[0;32m      3\u001b[0m \u001b[38;5;28;01mdef\u001b[39;00m \u001b[38;5;21mmse\u001b[39m(\u001b[38;5;28minput\u001b[39m, target):\n\u001b[1;32m----> 4\u001b[0m     \u001b[38;5;28;01mreturn\u001b[39;00m \u001b[43mtorch\u001b[49m\u001b[38;5;241;43m.\u001b[39;49m\u001b[43mnn\u001b[49m\u001b[38;5;241;43m.\u001b[39;49m\u001b[43mfunctional\u001b[49m\u001b[38;5;241;43m.\u001b[39;49m\u001b[43mmse_loss\u001b[49m\u001b[43m(\u001b[49m\u001b[43mtarget\u001b[49m\u001b[43m,\u001b[49m\u001b[43m \u001b[49m\u001b[38;5;28;43minput\u001b[39;49m\u001b[43m)\u001b[49m\n",
      "File \u001b[1;32m~\\miniconda3\\envs\\malt\\lib\\site-packages\\torch\\nn\\functional.py:3111\u001b[0m, in \u001b[0;36mmse_loss\u001b[1;34m(input, target, size_average, reduce, reduction)\u001b[0m\n\u001b[0;32m   3108\u001b[0m \u001b[38;5;28;01mif\u001b[39;00m size_average \u001b[38;5;129;01mis\u001b[39;00m \u001b[38;5;129;01mnot\u001b[39;00m \u001b[38;5;28;01mNone\u001b[39;00m \u001b[38;5;129;01mor\u001b[39;00m reduce \u001b[38;5;129;01mis\u001b[39;00m \u001b[38;5;129;01mnot\u001b[39;00m \u001b[38;5;28;01mNone\u001b[39;00m:\n\u001b[0;32m   3109\u001b[0m     reduction \u001b[38;5;241m=\u001b[39m _Reduction\u001b[38;5;241m.\u001b[39mlegacy_get_string(size_average, reduce)\n\u001b[1;32m-> 3111\u001b[0m expanded_input, expanded_target \u001b[38;5;241m=\u001b[39m \u001b[43mtorch\u001b[49m\u001b[38;5;241;43m.\u001b[39;49m\u001b[43mbroadcast_tensors\u001b[49m\u001b[43m(\u001b[49m\u001b[38;5;28;43minput\u001b[39;49m\u001b[43m,\u001b[49m\u001b[43m \u001b[49m\u001b[43mtarget\u001b[49m\u001b[43m)\u001b[49m\n\u001b[0;32m   3112\u001b[0m \u001b[38;5;28;01mreturn\u001b[39;00m torch\u001b[38;5;241m.\u001b[39m_C\u001b[38;5;241m.\u001b[39m_nn\u001b[38;5;241m.\u001b[39mmse_loss(expanded_input, expanded_target, _Reduction\u001b[38;5;241m.\u001b[39mget_enum(reduction))\n",
      "File \u001b[1;32m~\\miniconda3\\envs\\malt\\lib\\site-packages\\torch\\functional.py:72\u001b[0m, in \u001b[0;36mbroadcast_tensors\u001b[1;34m(*tensors)\u001b[0m\n\u001b[0;32m     70\u001b[0m \u001b[38;5;28;01mif\u001b[39;00m has_torch_function(tensors):\n\u001b[0;32m     71\u001b[0m     \u001b[38;5;28;01mreturn\u001b[39;00m handle_torch_function(broadcast_tensors, tensors, \u001b[38;5;241m*\u001b[39mtensors)\n\u001b[1;32m---> 72\u001b[0m \u001b[38;5;28;01mreturn\u001b[39;00m \u001b[43m_VF\u001b[49m\u001b[38;5;241;43m.\u001b[39;49m\u001b[43mbroadcast_tensors\u001b[49m\u001b[43m(\u001b[49m\u001b[43mtensors\u001b[49m\u001b[43m)\u001b[49m\n",
      "\u001b[1;31mRuntimeError\u001b[0m: The size of tensor a (20) must match the size of tensor b (5) at non-singleton dimension 0"
     ]
    }
   ],
   "source": [
    "class DumbModel(object):\n",
    "    def __init__(self, y):\n",
    "        self.y = y\n",
    "\n",
    "    def __call__(self, *args, **kwargs):\n",
    "        return torch.distributions.Normal(\n",
    "            self.y.ravel().cuda(), 1.0\n",
    "        )\n",
    "\n",
    "import torch\n",
    "import malt\n",
    "from malt.metrics.supervised_metrics import MSE, MAPE, RMSE, R2\n",
    "from malt.metrics.base_metrics import mse, mape, rmse, r2\n",
    "input_ = torch.randn(5, 1)\n",
    "target = torch.randn(5, 1)\n",
    "\n",
    "ds = malt.Dataset()\n",
    "\n",
    "for idx in range(5):\n",
    "    point = malt.Molecule(smiles=\"C\", metadata={'y': target[idx].item()})\n",
    "    ds.append(point)\n",
    "\n",
    "assert MSE()(DumbModel(input_), ds) == mse(input_, target)\n",
    "assert MAPE()(DumbModel(input_), ds) == mape(input_, target)\n",
    "assert RMSE()(DumbModel(input_), ds) == rmse(input_, target)\n",
    "assert R2()(DumbModel(input_), ds) == r2(input_, target)"
   ]
  },
  {
   "cell_type": "code",
   "execution_count": 30,
   "id": "cce844d2-1ac7-46d4-909b-d68e3f762b22",
   "metadata": {},
   "outputs": [
    {
     "data": {
      "text/plain": [
       "tensor(2.3256, device='cuda:0', grad_fn=<MseLossBackward0>)"
      ]
     },
     "execution_count": 30,
     "metadata": {},
     "output_type": "execute_result"
    }
   ],
   "source": [
    "ds_te = ds\n",
    "g, y = ds_te.batch(by=['g', 'y'])\n",
    "with torch.no_grad():\n",
    "    y_hat = model(g).mean\n",
    "\n",
    "getattr(malt.metrics.base_metrics, 'mse')(y_hat, y)"
   ]
  },
  {
   "cell_type": "code",
   "execution_count": 16,
   "id": "213625f7-1276-48ff-b8e7-6266584a7c64",
   "metadata": {},
   "outputs": [
    {
     "data": {
      "text/plain": [
       "tensor(1.6681)"
      ]
     },
     "execution_count": 16,
     "metadata": {},
     "output_type": "execute_result"
    }
   ],
   "source": [
    "mse(input_, target)"
   ]
  },
  {
   "cell_type": "code",
   "execution_count": 15,
   "id": "9632f156-72d5-45bc-8e5e-786625ab7c2e",
   "metadata": {},
   "outputs": [
    {
     "data": {
      "text/plain": [
       "tensor(1.6681, device='cuda:0')"
      ]
     },
     "execution_count": 15,
     "metadata": {},
     "output_type": "execute_result"
    }
   ],
   "source": [
    "MSE()(DumbModel(input_), ds)"
   ]
  },
  {
   "cell_type": "code",
   "execution_count": null,
   "id": "758fc5e6-3edf-41b8-bd59-252b9a42188d",
   "metadata": {},
   "outputs": [],
   "source": [
    "g, y = ds.batch(by=['g', 'y'])\n",
    "y_hat = DumbModel(input_)(g).mean\n",
    "malt.metrics.base_metrics.mse(y_hat, target)"
   ]
  },
  {
   "cell_type": "code",
   "execution_count": 12,
   "id": "5d8a86ff-25c3-45bb-8b01-29cac9f5a1c1",
   "metadata": {},
   "outputs": [
    {
     "data": {
      "text/plain": [
       "tensor(1.8533, device='cuda:0')"
      ]
     },
     "execution_count": 12,
     "metadata": {},
     "output_type": "execute_result"
    }
   ],
   "source": [
    "MSE()(DumbModel(input_), ds)"
   ]
  },
  {
   "cell_type": "code",
   "execution_count": 5,
   "id": "9946ba7f-1aca-4648-a8f1-2ec24ecd8a5f",
   "metadata": {},
   "outputs": [
    {
     "data": {
      "text/plain": [
       "tensor(1.6798)"
      ]
     },
     "execution_count": 5,
     "metadata": {},
     "output_type": "execute_result"
    }
   ],
   "source": [
    "mse(input_, target)"
   ]
  },
  {
   "cell_type": "code",
   "execution_count": 48,
   "id": "2e1716a1-deb2-4a59-bcfc-6450d77e204f",
   "metadata": {},
   "outputs": [
    {
     "name": "stdout",
     "output_type": "stream",
     "text": [
      "The autoreload extension is already loaded. To reload it, use:\n",
      "  %reload_ext autoreload\n",
      "tensor([2.1198, 2.5460, 3.0559, 3.6689, 4.4043, 5.2874, 6.3477, 6.3477, 5.2874],\n",
      "       device='cuda:0', grad_fn=<ExpandBackward0>) tensor([[0.9356, 0.7490, 0.5929, 0.4544, 0.3313, 0.2192, 0.1143, 0.0111, 0.0093],\n",
      "        [0.7490, 0.9027, 0.7124, 0.5461, 0.3981, 0.2633, 0.1374, 0.0133, 0.0111],\n",
      "        [0.5929, 0.7124, 0.8553, 0.6555, 0.4778, 0.3161, 0.1649, 0.0160, 0.0133],\n",
      "        [0.4544, 0.5461, 0.6555, 0.7870, 0.5737, 0.3795, 0.1979, 0.0192, 0.0160],\n",
      "        [0.3313, 0.3981, 0.4778, 0.5737, 0.6887, 0.4555, 0.2376, 0.0231, 0.0192],\n",
      "        [0.2192, 0.2633, 0.3161, 0.3795, 0.4555, 0.5469, 0.2853, 0.0277, 0.0231],\n",
      "        [0.1143, 0.1374, 0.1649, 0.1979, 0.2376, 0.2853, 0.3425, 0.0332, 0.0277],\n",
      "        [0.0111, 0.0133, 0.0160, 0.0192, 0.0231, 0.0277, 0.0332, 0.3425, 0.2853],\n",
      "        [0.0093, 0.0111, 0.0133, 0.0160, 0.0192, 0.0231, 0.0277, 0.2853, 0.5469]],\n",
      "       device='cuda:0', grad_fn=<ExpandBackward0>)\n",
      "tensor([3.8984, 4.2129, 4.6184, 5.0240, 5.4818, 5.9643, 7.0981, 6.7261],\n",
      "       device='cuda:0', grad_fn=<ExpandBackward0>) tensor([[0.7152, 0.6046, 0.4969, 0.3950, 0.2932, 0.1960, 0.0175, 0.0108],\n",
      "        [0.6046, 0.6640, 0.5395, 0.4297, 0.3188, 0.2136, 0.0202, 0.0129],\n",
      "        [0.4969, 0.5395, 0.5922, 0.4708, 0.3495, 0.2340, 0.0219, 0.0139],\n",
      "        [0.3950, 0.4297, 0.4708, 0.5139, 0.3816, 0.2560, 0.0249, 0.0161],\n",
      "        [0.2932, 0.3188, 0.3495, 0.3816, 0.4180, 0.2808, 0.0282, 0.0185],\n",
      "        [0.1960, 0.2136, 0.2340, 0.2560, 0.2808, 0.3094, 0.0332, 0.0223],\n",
      "        [0.0175, 0.0202, 0.0219, 0.0249, 0.0282, 0.0332, 0.1608, 0.1264],\n",
      "        [0.0108, 0.0129, 0.0139, 0.0161, 0.0185, 0.0223, 0.1264, 0.2575]],\n",
      "       device='cuda:0', grad_fn=<ExpandBackward0>)\n",
      "tensor([3.4276, 3.8539, 4.3245, 4.8561, 5.4517, 6.1207, 7.8436],\n",
      "       device='cuda:0', grad_fn=<ExpandBackward0>) tensor([[0.7942, 0.6467, 0.5177, 0.3919, 0.2717, 0.1549, 0.0009],\n",
      "        [0.6467, 0.7317, 0.5827, 0.4412, 0.3057, 0.1743, 0.0010],\n",
      "        [0.5177, 0.5827, 0.6543, 0.4951, 0.3431, 0.1956, 0.0011],\n",
      "        [0.3919, 0.4412, 0.4951, 0.5562, 0.3854, 0.2198, 0.0013],\n",
      "        [0.2717, 0.3057, 0.3431, 0.3854, 0.4328, 0.2469, 0.0016],\n",
      "        [0.1549, 0.1743, 0.1956, 0.2198, 0.2469, 0.2778, 0.0019],\n",
      "        [0.0009, 0.0010, 0.0011, 0.0013, 0.0016, 0.0019, 0.2137]],\n",
      "       device='cuda:0', grad_fn=<ExpandBackward0>)\n",
      "tensor([3.9483, 4.3440, 4.7913, 5.2806, 5.8202, 6.4143], device='cuda:0',\n",
      "       grad_fn=<ExpandBackward0>) tensor([[0.7279, 0.5972, 0.4769, 0.3588, 0.2443, 0.1343],\n",
      "        [0.5972, 0.6620, 0.5246, 0.3948, 0.2685, 0.1473],\n",
      "        [0.4769, 0.5246, 0.5801, 0.4363, 0.2970, 0.1633],\n",
      "        [0.3588, 0.3948, 0.4363, 0.4817, 0.3280, 0.1807],\n",
      "        [0.2443, 0.2685, 0.2970, 0.3280, 0.3635, 0.2010],\n",
      "        [0.1343, 0.1473, 0.1633, 0.1807, 0.2010, 0.2265]], device='cuda:0',\n",
      "       grad_fn=<ExpandBackward0>)\n",
      "tensor([3.2276, 3.6895, 4.1851, 4.7516, 5.3929], device='cuda:0',\n",
      "       grad_fn=<ExpandBackward0>) tensor([[0.7628, 0.5855, 0.4356, 0.2886, 0.1471],\n",
      "        [0.5855, 0.6743, 0.4986, 0.3307, 0.1686],\n",
      "        [0.4356, 0.4986, 0.5662, 0.3752, 0.1913],\n",
      "        [0.2886, 0.3307, 0.3752, 0.4264, 0.2175],\n",
      "        [0.1471, 0.1686, 0.1913, 0.2175, 0.2479]], device='cuda:0',\n",
      "       grad_fn=<ExpandBackward0>)\n",
      "tensor([2.8067, 3.2353, 3.7193, 4.2791], device='cuda:0',\n",
      "       grad_fn=<ExpandBackward0>) tensor([[0.7454, 0.5514, 0.3809, 0.2135],\n",
      "        [0.5514, 0.6412, 0.4394, 0.2466],\n",
      "        [0.3809, 0.4394, 0.5060, 0.2838],\n",
      "        [0.2135, 0.2466, 0.2838, 0.3272]], device='cuda:0',\n",
      "       grad_fn=<ExpandBackward0>)\n",
      "tensor([2.8168, 3.1568, 3.6252], device='cuda:0', grad_fn=<ExpandBackward0>) tensor([[0.5830, 0.3909, 0.1994],\n",
      "        [0.3909, 0.4550, 0.2246],\n",
      "        [0.1994, 0.2246, 0.2602]], device='cuda:0', grad_fn=<ExpandBackward0>)\n",
      "tensor([2.2464, 2.5963], device='cuda:0', grad_fn=<ExpandBackward0>) tensor([[0.5308, 0.2765],\n",
      "        [0.2765, 0.3425]], device='cuda:0', grad_fn=<ExpandBackward0>)\n",
      "tensor([3.7574], device='cuda:0', grad_fn=<ExpandBackward0>) tensor([[0.4375]], device='cuda:0', grad_fn=<ExpandBackward0>)\n"
     ]
    }
   ],
   "source": [
    "%load_ext autoreload\n",
    "%autoreload 2\n",
    "\n",
    "import malt\n",
    "import torch\n",
    "from malt.agents.player import SequentialModelBasedPlayer\n",
    "\n",
    "dataset = malt.data.collections.linear_alkanes(10)\n",
    "# dataset = malt.data.collections.esol()[:100]\n",
    "\n",
    "g, y = dataset.batch()\n",
    "model = malt.models.supervised_model.GaussianProcessSupervisedModel(\n",
    "   representation=malt.models.representation.DGLRepresentation(\n",
    "       out_features=128\n",
    "   ),\n",
    "   regressor=malt.models.regressor.HardcodedExactGaussianProcessRegressor(\n",
    "       y, in_features=128, out_features=2,\n",
    "   ),\n",
    "   likelihood=malt.models.likelihood.HeteroschedasticGaussianLikelihood(),\n",
    ")\n",
    "\n",
    "if torch.cuda.is_available():\n",
    "    model.cuda()\n",
    "\n",
    "mll = malt.models.marginal_likelihood.HardcodedExactMarginalLogLikelihood(\n",
    "    model.likelihood, model\n",
    ")\n",
    "\n",
    "# mll = malt.models.marginal_likelihood.ExactMarginalLogLikelihood(\n",
    "#     model.regressor.likelihood, model\n",
    "# )\n",
    "\n",
    "player = SequentialModelBasedPlayer(\n",
    "   model = model,\n",
    "   policy=malt.policy.Greedy(),\n",
    "   trainer=malt.trainer.get_default_trainer(),\n",
    "   marginal_likelihood=mll,\n",
    "   merchant=malt.agents.merchant.DatasetMerchant(dataset),\n",
    "   assayer=malt.agents.assayer.DatasetAssayer(dataset),\n",
    ")\n",
    "\n",
    "while True:\n",
    "    if player.step() is None:\n",
    "        break"
   ]
  },
  {
   "cell_type": "code",
   "execution_count": 60,
   "id": "290aa041-ff68-4625-b2aa-10bd31882c71",
   "metadata": {},
   "outputs": [
    {
     "name": "stdout",
     "output_type": "stream",
     "text": [
      "The autoreload extension is already loaded. To reload it, use:\n",
      "  %reload_ext autoreload\n",
      "Processing dgl graphs from scratch...\n",
      "Processing molecule 1000/1128\n"
     ]
    },
    {
     "name": "stderr",
     "output_type": "stream",
     "text": [
      "C:\\Users\\micha\\miniconda3\\envs\\malt\\lib\\site-packages\\gpytorch\\utils\\cholesky.py:38: NumericalWarning: A not p.d., added jitter of 1.0e-06 to the diagonal\n",
      "  warnings.warn(\n"
     ]
    }
   ],
   "source": [
    "%load_ext autoreload\n",
    "%autoreload 2\n",
    "\n",
    "import malt\n",
    "import torch\n",
    "from malt.agents.player import SequentialModelBasedPlayer\n",
    "\n",
    "# dataset = malt.data.collections.linear_alkanes(10)\n",
    "dataset = malt.data.collections.esol()[:100]\n",
    "g, y = dataset.batch()\n",
    "\n",
    "model = malt.models.supervised_model.GaussianProcessSupervisedModel(\n",
    "   representation=malt.models.representation.DGLRepresentation(\n",
    "       out_features=32\n",
    "   ),\n",
    "   regressor=malt.models.regressor.ExactGaussianProcessRegressor(\n",
    "       y, in_features=32, out_features=2,\n",
    "   ),\n",
    "   likelihood=malt.models.likelihood.HeteroschedasticGaussianLikelihood(),\n",
    ")\n",
    "if torch.cuda.is_available():\n",
    "    model.cuda()\n",
    "\n",
    "mll = malt.models.marginal_likelihood.ExactMarginalLogLikelihood(\n",
    "    model.regressor.likelihood,\n",
    "    model\n",
    ")\n",
    "\n",
    "player = SequentialModelBasedPlayer(\n",
    "    model = model,\n",
    "    policy=malt.policy.Greedy(),\n",
    "    trainer=malt.trainer.get_default_trainer(),\n",
    "    marginal_likelihood=mll,\n",
    "    merchant=malt.agents.merchant.DatasetMerchant(dataset),\n",
    "    assayer=malt.agents.assayer.DatasetAssayer(dataset),\n",
    ")\n",
    "\n",
    "# player.step()\n",
    "\n",
    "for _ in range(50):\n",
    "    if player.step() is None:\n",
    "        break"
   ]
  },
  {
   "cell_type": "code",
   "execution_count": 69,
   "id": "45bda9bf-b145-4690-b762-cae4d68b22e1",
   "metadata": {},
   "outputs": [
    {
     "data": {
      "text/plain": [
       "[<matplotlib.lines.Line2D at 0x27c41c312b0>]"
      ]
     },
     "execution_count": 69,
     "metadata": {},
     "output_type": "execute_result"
    },
    {
     "data": {
      "image/png": "[encoded data removed]",
      "text/plain": [
       "<Figure size 432x288 with 1 Axes>"
      ]
     },
     "metadata": {
      "needs_background": "light"
     },
     "output_type": "display_data"
    }
   ],
   "source": [
    "import numpy as np\n",
    "import matplotlib.pyplot as plt\n",
    "\n",
    "plt.plot(\n",
    "    np.maximum.accumulate(player.portfolio.batch(by='y').tolist())\n",
    ")"
   ]
  },
  {
   "cell_type": "code",
   "execution_count": 71,
   "id": "e632da32-2738-467d-9b2f-979af4f20117",
   "metadata": {},
   "outputs": [
    {
     "data": {
      "text/plain": [
       "tensor(1.0700, device='cuda:0')"
      ]
     },
     "execution_count": 71,
     "metadata": {},
     "output_type": "execute_result"
    }
   ],
   "source": [
    "y.max()"
   ]
  },
  {
   "cell_type": "code",
   "execution_count": 86,
   "id": "69d2079f-2480-4538-a032-effc98b9c5b6",
   "metadata": {},
   "outputs": [],
   "source": [
    "import malt\n",
    "data = malt.data.collections.linear_alkanes(10)\n",
    "representation = malt.models.representation.DGLRepresentation(out_features=32)\n",
    "regressor=malt.models.regressor.NeuralNetworkRegressor(\n",
    "    in_features=32, out_features=1,\n",
    ")\n",
    "likelihood=malt.models.likelihood.HomoschedasticGaussianLikelihood()\n",
    "model = malt.models.supervised_model.SimpleSupervisedModel(\n",
    "    representation=representation,\n",
    "    regressor=regressor,\n",
    "    likelihood=likelihood,\n",
    ")\n",
    "\n",
    "mll = malt.models.marginal_likelihood.SimpleMarginalLogLikelihood(\n",
    "    model.likelihood, model\n",
    ")\n",
    "\n",
    "trainer = malt.trainer.get_default_trainer(\n",
    "    without_player=True,\n",
    ")\n",
    "model = trainer(model, data, mll)"
   ]
  },
  {
   "cell_type": "code",
   "execution_count": 30,
   "id": "a9e06f7a-153f-48e7-8868-d8ef13d9399f",
   "metadata": {},
   "outputs": [],
   "source": [
    "# import malt\n",
    "# data = malt.data.collections.linear_alkanes(10)\n",
    "# merchant = malt.agents.merchant.DatasetMerchant(data)\n",
    "# assayer = malt.agents.assayer.DatasetAssayer(data)\n",
    "\n",
    "# representation = malt.models.representation.DGLRepresentation(out_features=32)\n",
    "# regressor=malt.models.regressor.NeuralNetworkRegressor(\n",
    "#     in_features=32, out_features=1,\n",
    "# )\n",
    "# likelihood=malt.models.likelihood.HomoschedasticGaussianLikelihood()\n",
    "# model = malt.models.supervised_model.SimpleSupervisedModel(\n",
    "#     representation=representation,\n",
    "#     regressor=regressor,\n",
    "#     likelihood=likelihood,\n",
    "# )\n",
    "\n",
    "# mll = malt.models.marginal_likelihood.SimpleMarginalLogLikelihood(\n",
    "#     model.likelihood, model\n",
    "# )\n",
    "\n",
    "# player = malt.agents.player.SequentialModelBasedPlayer(\n",
    "#     model=model,\n",
    "#     merchant=merchant,\n",
    "#     assayer=assayer,\n",
    "#     marginal_likelihood=mll,\n",
    "#     policy=malt.policy.Greedy(),\n",
    "#     trainer=malt.trainer.get_default_trainer(),\n",
    "# )\n",
    "\n",
    "# player.step()"
   ]
  },
  {
   "cell_type": "code",
   "execution_count": 46,
   "id": "0e43f875-9330-4b88-98f3-15d140ff96fe",
   "metadata": {},
   "outputs": [],
   "source": [
    "import torch\n",
    "import malt\n",
    "from malt import Dataset\n",
    "from malt.metrics.supervised_metrics import MSE, MAPE, RMSE, R2\n",
    "from malt.metrics.base_metrics import mse, mape, rmse, r2\n",
    "\n",
    "class DumbModel(object):\n",
    "    def __init__(self, y):\n",
    "        self.y = y\n",
    "\n",
    "    def __call__(self, *args, **kwargs):\n",
    "        return torch.distributions.Normal(\n",
    "            self.y.ravel(), 1.0\n",
    "        )\n",
    "\n",
    "input_ = torch.randn(5, 1)\n",
    "target = torch.randn(5, 1)\n",
    "\n",
    "ds = []\n",
    "for idx in range(5):\n",
    "    point = malt.Molecule(smiles=\"C\", metadata={'y': target[idx].item()})\n",
    "    ds.append(point)\n",
    "\n",
    "ds = malt.Dataset(ds)\n",
    "\n",
    "assert MSE()(DumbModel(input_), ds) == mse(input_, target)\n",
    "assert MAPE()(DumbModel(input_), ds) == mape(input_, target)\n",
    "assert RMSE()(DumbModel(input_), ds) == rmse(input_, target)\n",
    "assert R2()(DumbModel(input_), ds) == r2(input_, target)"
   ]
  },
  {
   "cell_type": "code",
   "execution_count": 8,
   "id": "f81e6dd4-6848-4fb9-af66-95907ed6529a",
   "metadata": {},
   "outputs": [
    {
     "data": {
      "text/plain": [
       "tensor([-0.4679,  1.2411,  0.5564,  0.1261,  2.0364], device='cuda:0')"
      ]
     },
     "execution_count": 8,
     "metadata": {},
     "output_type": "execute_result"
    }
   ],
   "source": [
    "DumbModel(input_)(g).loc"
   ]
  },
  {
   "cell_type": "code",
   "execution_count": 4,
   "id": "7cacf3a5-fc9a-4a77-b596-86de05723730",
   "metadata": {},
   "outputs": [],
   "source": [
    "g, y = ds.batch(by=['g', 'y'], use_gpu=False)"
   ]
  },
  {
   "cell_type": "code",
   "execution_count": 5,
   "id": "e9fbc150-9661-4d8d-92ee-6f610cb98db4",
   "metadata": {},
   "outputs": [
    {
     "data": {
      "text/plain": [
       "tensor([ 0.8460,  0.0106,  1.3695, -0.0019, -0.4241])"
      ]
     },
     "execution_count": 5,
     "metadata": {},
     "output_type": "execute_result"
    }
   ],
   "source": [
    "y"
   ]
  },
  {
   "cell_type": "code",
   "execution_count": 61,
   "id": "e36a3f12-d697-477e-bf30-332f04ba3056",
   "metadata": {},
   "outputs": [
    {
     "data": {
      "text/plain": [
       "tensor(-0.3713, device='cuda:0')"
      ]
     },
     "execution_count": 61,
     "metadata": {},
     "output_type": "execute_result"
    }
   ],
   "source": [
    "R2()(DumbModel(input_), ds)"
   ]
  },
  {
   "cell_type": "code",
   "execution_count": 62,
   "id": "fc3786e9-2fe2-4901-a143-cc93d6959ee3",
   "metadata": {},
   "outputs": [],
   "source": [
    "r = R2()"
   ]
  },
  {
   "cell_type": "code",
   "execution_count": 1,
   "id": "17a10309-8d70-405c-8269-2b11f283f656",
   "metadata": {},
   "outputs": [
    {
     "name": "stderr",
     "output_type": "stream",
     "text": [
      "Using backend: pytorch\n"
     ]
    },
    {
     "ename": "NameError",
     "evalue": "name 'DumbModel' is not defined",
     "output_type": "error",
     "traceback": [
      "\u001b[1;31m---------------------------------------------------------------------------\u001b[0m",
      "\u001b[1;31mNameError\u001b[0m                                 Traceback (most recent call last)",
      "Input \u001b[1;32mIn [1]\u001b[0m, in \u001b[0;36m<module>\u001b[1;34m\u001b[0m\n\u001b[0;32m     12\u001b[0m     ds\u001b[38;5;241m.\u001b[39mappend(point)\n\u001b[0;32m     14\u001b[0m ds \u001b[38;5;241m=\u001b[39m malt\u001b[38;5;241m.\u001b[39mDataset(ds)\n\u001b[1;32m---> 16\u001b[0m \u001b[38;5;28;01massert\u001b[39;00m MSE()(\u001b[43mDumbModel\u001b[49m(input_), ds)\u001b[38;5;241m.\u001b[39mitem() \u001b[38;5;241m==\u001b[39m mse(input_, target)\u001b[38;5;241m.\u001b[39mitem()\n\u001b[0;32m     17\u001b[0m \u001b[38;5;28;01massert\u001b[39;00m MAPE()(DumbModel(input_), ds)\u001b[38;5;241m.\u001b[39mitem() \u001b[38;5;241m==\u001b[39m mape(input_, target)\u001b[38;5;241m.\u001b[39mitem()\n\u001b[0;32m     18\u001b[0m \u001b[38;5;28;01massert\u001b[39;00m RMSE()(DumbModel(input_), ds)\u001b[38;5;241m.\u001b[39mitem() \u001b[38;5;241m==\u001b[39m rmse(input_, target)\u001b[38;5;241m.\u001b[39mitem()\n",
      "\u001b[1;31mNameError\u001b[0m: name 'DumbModel' is not defined"
     ]
    }
   ],
   "source": [
    "import torch\n",
    "import malt\n",
    "from malt.metrics.supervised_metrics import MSE, MAPE, RMSE, R2\n",
    "from malt.metrics.base_metrics import mse, mape, rmse, r2\n",
    "input_ = torch.randn(5, 1)\n",
    "target = torch.randn(5, 1)\n",
    "\n",
    "ds = []\n",
    "\n",
    "for idx in range(5):\n",
    "    point = malt.Molecule(smiles=\"C\", metadata={'y': target[idx].item()})\n",
    "    ds.append(point)\n",
    "\n",
    "ds = malt.Dataset(ds)\n",
    "\n",
    "assert MSE()(DumbModel(input_), ds).item() == mse(input_, target).item()\n",
    "assert MAPE()(DumbModel(input_), ds).item() == mape(input_, target).item()\n",
    "assert RMSE()(DumbModel(input_), ds).item() == rmse(input_, target).item()\n",
    "assert R2()(DumbModel(input_), ds).item() == r2(input_, target).item()\n",
    "\n",
    "print(\n",
    "    MSE()(DumbModel(input_), ds).item(),\n",
    "    mse(input_, target).item()\n",
    ")\n",
    "print(\n",
    "    MAPE()(DumbModel(input_), ds).item(),\n",
    "    mape(input_, target).item()\n",
    ")\n",
    "print(\n",
    "    RMSE()(DumbModel(input_), ds).item(),\n",
    "    rmse(input_, target).item()\n",
    ")\n",
    "print(\n",
    "    R2()(DumbModel(input_), ds).item(),\n",
    "    r2(input_, target).item()\n",
    ")"
   ]
  },
  {
   "cell_type": "code",
   "execution_count": 181,
   "id": "de4ecd89-817d-4ba9-99cd-408f33140bfc",
   "metadata": {},
   "outputs": [
    {
     "name": "stdout",
     "output_type": "stream",
     "text": [
      "0.9318310618400574 0.9318311810493469\n"
     ]
    }
   ],
   "source": [
    "print(\n",
    "    MSE()(DumbModel(input_), ds).item(),\n",
    "    mse(input_, target).item()\n",
    ")\n"
   ]
  }
 ],
 "metadata": {
  "kernelspec": {
   "display_name": "Python 3 (ipykernel)",
   "language": "python",
   "name": "python3"
  },
  "language_info": {
   "codemirror_mode": {
    "name": "ipython",
    "version": 3
   },
   "file_extension": ".py",
   "mimetype": "text/x-python",
   "name": "python",
   "nbconvert_exporter": "python",
   "pygments_lexer": "ipython3",
   "version": "3.9.7"
  }
 },
 "nbformat": 4,
 "nbformat_minor": 5
}
