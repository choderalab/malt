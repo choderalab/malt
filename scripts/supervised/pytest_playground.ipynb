{
 "cells": [
  {
   "cell_type": "code",
   "execution_count": 1,
   "id": "83b203f5-cd15-4d6a-8ce1-a366a684607b",
   "metadata": {},
   "outputs": [
    {
     "name": "stderr",
     "output_type": "stream",
     "text": [
      "Using backend: pytorch\n"
     ]
    }
   ],
   "source": [
    "import torch\n",
    "import malt\n",
    "\n",
    "dummy_targets = torch.Tensor([0.0])\n",
    "\n",
    "regressor = malt.models.regressor.GPyTorchExactRegressor(\n",
    "    dummy_targets,\n",
    "    in_features=128,\n",
    "    out_features=2,\n",
    ")"
   ]
  },
  {
   "cell_type": "code",
   "execution_count": 2,
   "id": "2110bbbb-ea0e-4d88-9cd6-b0790f5ae415",
   "metadata": {},
   "outputs": [],
   "source": [
    "import torch\n",
    "import dgl\n",
    "import malt\n",
    "\n",
    "dummy_targets = torch.Tensor([0.0])\n",
    "\n",
    "net = malt.models.supervised_model.GaussianProcessSupervisedModel(\n",
    "    representation=malt.models.representation.DGLRepresentation(\n",
    "        out_features=128\n",
    "    ),\n",
    "    regressor=malt.models.regressor.GPyTorchExactRegressor(\n",
    "        dummy_targets,\n",
    "        in_features=128,\n",
    "        out_features=2,\n",
    "    ),\n",
    "    likelihood=malt.models.likelihood.HeteroschedasticGaussianLikelihood(),\n",
    ")\n",
    "\n",
    "point = malt.Molecule(\"C\")\n",
    "point.featurize()\n",
    "graph = dgl.batch([point.g])\n",
    "\n",
    "y = net.condition(graph)\n",
    "assert y.mean.item() == 0.0"
   ]
  },
  {
   "cell_type": "code",
   "execution_count": 3,
   "id": "8cfbf79d-63b7-4f71-86f6-dd07e2a00300",
   "metadata": {},
   "outputs": [],
   "source": [
    "import torch\n",
    "import dgl\n",
    "import malt\n",
    "import gpytorch\n",
    "\n",
    "dummy_targets = torch.tensor([[4.0]])\n",
    "\n",
    "net = malt.models.supervised_model.GaussianProcessSupervisedModel(\n",
    "    representation=malt.models.representation.DGLRepresentation(\n",
    "        out_features=32\n",
    "    ),\n",
    "    regressor=malt.models.regressor.GPyTorchExactRegressor(\n",
    "        dummy_targets,\n",
    "        in_features=32,\n",
    "        out_features=2,\n",
    "    ),\n",
    "    likelihood=malt.models.likelihood.HeteroschedasticGaussianLikelihood(),\n",
    ")\n",
    "\n",
    "point = malt.Molecule(\"CCCCCCC\")\n",
    "point.featurize()\n",
    "graph = dgl.batch([point.g])\n",
    "\n",
    "mll = gpytorch.mlls.ExactMarginalLogLikelihood(net.regressor.likelihood, net)\n",
    "\n",
    "net.train()\n",
    "y_pred = net(graph)\n",
    "loss = mll(y_pred, torch.tensor([[2.0]]))\n",
    "loss.backward()\n",
    "\n",
    "net.eval()\n",
    "y = net(graph)\n",
    "assert y.mean.item() != 0.0"
   ]
  },
  {
   "cell_type": "code",
   "execution_count": 5,
   "id": "ada64b9b-9771-4a06-9395-7cf9fcdaf05d",
   "metadata": {},
   "outputs": [],
   "source": [
    "import torch\n",
    "import dgl\n",
    "import malt\n",
    "\n",
    "dataset = malt.data.collections.linear_alkanes(10)\n",
    "dataset_loader = dataset.view(batch_size=len(dataset))\n",
    "g, y = next(iter(dataset_loader))\n",
    "\n",
    "net = malt.models.supervised_model.GaussianProcessSupervisedModel(\n",
    "    representation=malt.models.representation.DGLRepresentation(\n",
    "        out_features=128\n",
    "    ),\n",
    "    regressor=malt.models.regressor.GPyTorchExactRegressor(\n",
    "        y,\n",
    "        in_features=128,\n",
    "        out_features=2,\n",
    "    ),\n",
    "    likelihood=malt.models.likelihood.HeteroschedasticGaussianLikelihood(),\n",
    ")\n",
    "\n",
    "if torch.cuda.is_available():\n",
    "    net.cuda()\n",
    "\n",
    "mll = gpytorch.mlls.ExactMarginalLogLikelihood(net.regressor.likelihood, net)\n",
    "\n",
    "net.train()\n",
    "y_pred = net(g)\n",
    "loss = mll(y_pred, y).mean()\n",
    "loss.backward()\n",
    "\n",
    "net.eval()\n",
    "y_hat = net(g)\n",
    "assert y_hat.mean.shape[0] == 10\n",
    "assert len(y_hat.mean.shape) == 1"
   ]
  },
  {
   "cell_type": "code",
   "execution_count": 13,
   "id": "e4d62e3d-293b-4192-92fb-2c36c84b45f0",
   "metadata": {},
   "outputs": [],
   "source": [
    "import malt\n",
    "import torch\n",
    "from malt.agents.player import SequentialModelBasedPlayer\n",
    "\n",
    "dataset = malt.data.collections.linear_alkanes(10)\n",
    "g, y = dataset.batch()\n",
    "model = malt.models.supervised_model.GaussianProcessSupervisedModel(\n",
    "   representation=malt.models.representation.DGLRepresentation(\n",
    "       out_features=32\n",
    "   ),\n",
    "   regressor=malt.models.regressor.ExactGaussianProcessRegressor(\n",
    "       y, in_features=32, out_features=2,\n",
    "   ),\n",
    "   likelihood=malt.models.likelihood.HeteroschedasticGaussianLikelihood(),\n",
    ")\n",
    "if torch.cuda.is_available():\n",
    "    model.cuda()\n",
    "    \n",
    "mll = malt.models.marginal_likelihood.ExactMarginalLogLikelihood(\n",
    "    model.regressor.likelihood,\n",
    "    model\n",
    ")\n",
    "\n",
    "player = SequentialModelBasedPlayer(\n",
    "    model = model,\n",
    "    policy=malt.policy.Greedy(),\n",
    "    trainer=malt.trainer.get_default_trainer(),\n",
    "    marginal_likelihood=mll,\n",
    "    merchant=malt.agents.merchant.DatasetMerchant(dataset),\n",
    "    assayer=malt.agents.assayer.DatasetAssayer(dataset),\n",
    ")\n",
    "\n",
    "while True:\n",
    "    if player.step() is None:\n",
    "        break"
   ]
  },
  {
   "cell_type": "code",
   "execution_count": 3,
   "id": "79971921-c626-4baa-8809-b1e3220705bb",
   "metadata": {},
   "outputs": [],
   "source": [
    "import torch\n",
    "import dgl\n",
    "import malt\n",
    "\n",
    "dataset = malt.data.collections.linear_alkanes(10)\n",
    "dataset_loader = dataset.view(batch_size=len(dataset))\n",
    "g, y = next(iter(dataset_loader))\n",
    "\n",
    "\n",
    "net = malt.models.supervised_model.GaussianProcessSupervisedModel(\n",
    "    representation=malt.models.representation.DGLRepresentation(\n",
    "        out_features=128\n",
    "    ),\n",
    "    regressor=malt.models.regressor.HardcodedExactGaussianProcessRegressor(\n",
    "        y,\n",
    "        in_features=128,\n",
    "        out_features=2,\n",
    "    ),\n",
    "    likelihood=malt.models.likelihood.HeteroschedasticGaussianLikelihood(),\n",
    ")\n",
    "\n",
    "if torch.cuda.is_available():\n",
    "    net.cuda()\n",
    "\n",
    "\n",
    "mll = malt.models.marginal_likelihood.HardcodedExactMarginalLogLikelihood(\n",
    "    net.likelihood, net\n",
    ")\n",
    "\n",
    "y_hat = net(g)\n",
    "loss = mll(y_hat, y)\n",
    "loss.backward()\n",
    "\n",
    "y_hat = net.condition(g)\n",
    "assert y_hat.mean.shape[0] == 10\n",
    "assert len(y_hat.mean.shape) == 1"
   ]
  },
  {
   "cell_type": "code",
   "execution_count": 1,
   "id": "dfb4ddec-544b-401b-a6af-ee97f6ed145e",
   "metadata": {},
   "outputs": [
    {
     "name": "stderr",
     "output_type": "stream",
     "text": [
      "Using backend: pytorch\n"
     ]
    }
   ],
   "source": [
    "import torch\n",
    "import dgl\n",
    "import malt\n",
    "\n",
    "dummy_targets = torch.Tensor([4.0])\n",
    "\n",
    "net = malt.models.supervised_model.GaussianProcessSupervisedModel(\n",
    "    representation=malt.models.representation.DGLRepresentation(\n",
    "        out_features=128\n",
    "    ),\n",
    "    regressor=malt.models.regressor.HardcodedExactGaussianProcessRegressor(\n",
    "        dummy_targets,\n",
    "        in_features=128,\n",
    "        out_features=2,\n",
    "    ),\n",
    "    likelihood=malt.models.likelihood.HeteroschedasticGaussianLikelihood(),\n",
    ")\n",
    "\n",
    "point = malt.Molecule(\"C\")\n",
    "point.featurize()\n",
    "graph = dgl.batch([point.g])\n",
    "\n",
    "mll = malt.models.marginal_likelihood.HardcodedExactMarginalLogLikelihood(\n",
    "    net.likelihood, net\n",
    ")\n",
    "\n",
    "net.train()\n",
    "y_hat = net(graph)\n",
    "loss = mll(y_hat, torch.tensor([[5.0]]))\n",
    "loss.backward()\n",
    "\n",
    "net.eval()\n",
    "y = net.condition(graph)\n",
    "assert y.mean.item() != 0.0"
   ]
  },
  {
   "cell_type": "code",
   "execution_count": 12,
   "id": "fc7421af-7051-4dba-a521-76b5858b33fe",
   "metadata": {},
   "outputs": [
    {
     "name": "stdout",
     "output_type": "stream",
     "text": [
      "The autoreload extension is already loaded. To reload it, use:\n",
      "  %reload_ext autoreload\n"
     ]
    }
   ],
   "source": [
    "%load_ext autoreload\n",
    "%autoreload 2\n",
    "\n",
    "import malt\n",
    "import torch\n",
    "from malt.agents.player import SequentialModelBasedPlayer\n",
    "\n",
    "dataset = malt.data.collections.linear_alkanes(10)\n",
    "g, y = dataset.batch()\n",
    "model = malt.models.supervised_model.GaussianProcessSupervisedModel(\n",
    "   representation=malt.models.representation.DGLRepresentation(\n",
    "       out_features=32\n",
    "   ),\n",
    "   regressor=malt.models.regressor.ExactGaussianProcessRegressor(\n",
    "       y, in_features=32, out_features=2,\n",
    "   ),\n",
    "   likelihood=malt.models.likelihood.HeteroschedasticGaussianLikelihood(),\n",
    ")\n",
    "if torch.cuda.is_available():\n",
    "    model.cuda()\n",
    "\n",
    "mll = malt.models.marginal_likelihood.ExactMarginalLogLikelihood(\n",
    "    model.regressor.likelihood,\n",
    "    model\n",
    ")\n",
    "\n",
    "player = SequentialModelBasedPlayer(\n",
    "    model = model,\n",
    "    policy=malt.policy.Greedy(),\n",
    "    trainer=malt.trainer.get_default_trainer(),\n",
    "    marginal_likelihood=mll,\n",
    "    merchant=malt.agents.merchant.DatasetMerchant(dataset),\n",
    "    assayer=malt.agents.assayer.DatasetAssayer(dataset),\n",
    ")\n",
    "\n",
    "while True:\n",
    "    if player.step() is None:\n",
    "        break"
   ]
  },
  {
   "cell_type": "code",
   "execution_count": 34,
   "id": "b52994b7-4043-487c-8434-661e563a44b0",
   "metadata": {},
   "outputs": [
    {
     "data": {
      "text/plain": [
       "tensor(1.2900)"
      ]
     },
     "execution_count": 34,
     "metadata": {},
     "output_type": "execute_result"
    }
   ],
   "source": [
    "g, y = ds.batch(by=['g', 'y'])\n",
    "torch.nn.functional.mse_loss(DumbModel(input_)(g).mean, target)"
   ]
  },
  {
   "cell_type": "code",
   "execution_count": null,
   "id": "77053a30-2675-4371-8937-05442892057f",
   "metadata": {},
   "outputs": [
    {
     "name": "stdout",
     "output_type": "stream",
     "text": [
      "10\n"
     ]
    },
    {
     "name": "stderr",
     "output_type": "stream",
     "text": [
      "c:\\users\\micha\\dev\\choderalab\\malt\\malt\\metrics\\base_metrics.py:4: UserWarning: Using a target size (torch.Size([5])) that is different to the input size (torch.Size([10])). This will likely lead to incorrect results due to broadcasting. Please ensure they have the same size.\n",
      "  return torch.nn.functional.mse_loss(target, input)\n"
     ]
    }
   ],
   "source": [
    "class DumbModel(object):\n",
    "    def __init__(self, y):\n",
    "        self.y = y\n",
    "\n",
    "    def __call__(self, *args, **kwargs):\n",
    "        return torch.distributions.Normal(\n",
    "            self.y.ravel().cuda(), 1.0\n",
    "        )\n",
    "\n",
    "import torch\n",
    "import malt\n",
    "from malt.metrics.supervised_metrics import MSE, MAPE, RMSE, R2\n",
    "from malt.metrics.base_metrics import mse, mape, rmse, r2\n",
    "input_ = torch.randn(5, 1)\n",
    "target = torch.randn(5, 1)\n",
    "\n",
    "ds = malt.Dataset()\n",
    "\n",
    "for idx in range(5):\n",
    "    point = malt.Molecule(smiles=\"C\", metadata={'y': target[idx].item()})\n",
    "    ds.append(point)\n",
    "\n",
    "assert MSE()(DumbModel(input_), ds) == mse(input_, target)\n",
    "assert MAPE()(DumbModel(input_), ds) == mape(input_, target)\n",
    "assert RMSE()(DumbModel(input_), ds) == rmse(input_, target)\n",
    "assert R2()(DumbModel(input_), ds) == r2(input_, target)"
   ]
  },
  {
   "cell_type": "code",
   "execution_count": 42,
   "id": "758fc5e6-3edf-41b8-bd59-252b9a42188d",
   "metadata": {},
   "outputs": [
    {
     "ename": "RuntimeError",
     "evalue": "Expected all tensors to be on the same device, but found at least two devices, cuda:0 and cpu!",
     "output_type": "error",
     "traceback": [
      "\u001b[1;31m---------------------------------------------------------------------------\u001b[0m",
      "\u001b[1;31mRuntimeError\u001b[0m                              Traceback (most recent call last)",
      "Input \u001b[1;32mIn [42]\u001b[0m, in \u001b[0;36m<module>\u001b[1;34m\u001b[0m\n\u001b[0;32m      1\u001b[0m g, y \u001b[38;5;241m=\u001b[39m ds\u001b[38;5;241m.\u001b[39mbatch(by\u001b[38;5;241m=\u001b[39m[\u001b[38;5;124m'\u001b[39m\u001b[38;5;124mg\u001b[39m\u001b[38;5;124m'\u001b[39m, \u001b[38;5;124m'\u001b[39m\u001b[38;5;124my\u001b[39m\u001b[38;5;124m'\u001b[39m])\n\u001b[0;32m      2\u001b[0m y_hat \u001b[38;5;241m=\u001b[39m DumbModel(input_)(g)\u001b[38;5;241m.\u001b[39mmean\n\u001b[1;32m----> 3\u001b[0m \u001b[43mmalt\u001b[49m\u001b[38;5;241;43m.\u001b[39;49m\u001b[43mmetrics\u001b[49m\u001b[38;5;241;43m.\u001b[39;49m\u001b[43mbase_metrics\u001b[49m\u001b[38;5;241;43m.\u001b[39;49m\u001b[43mmse\u001b[49m\u001b[43m(\u001b[49m\u001b[43my_hat\u001b[49m\u001b[43m,\u001b[49m\u001b[43m \u001b[49m\u001b[43mtarget\u001b[49m\u001b[43m)\u001b[49m\n",
      "File \u001b[1;32mc:\\users\\micha\\dev\\choderalab\\malt\\malt\\metrics\\base_metrics.py:4\u001b[0m, in \u001b[0;36mmse\u001b[1;34m(input, target)\u001b[0m\n\u001b[0;32m      3\u001b[0m \u001b[38;5;28;01mdef\u001b[39;00m \u001b[38;5;21mmse\u001b[39m(\u001b[38;5;28minput\u001b[39m, target):\n\u001b[1;32m----> 4\u001b[0m     \u001b[38;5;28;01mreturn\u001b[39;00m \u001b[43mtorch\u001b[49m\u001b[38;5;241;43m.\u001b[39;49m\u001b[43mnn\u001b[49m\u001b[38;5;241;43m.\u001b[39;49m\u001b[43mfunctional\u001b[49m\u001b[38;5;241;43m.\u001b[39;49m\u001b[43mmse_loss\u001b[49m\u001b[43m(\u001b[49m\u001b[43mtarget\u001b[49m\u001b[43m,\u001b[49m\u001b[43m \u001b[49m\u001b[38;5;28;43minput\u001b[39;49m\u001b[43m)\u001b[49m\n",
      "File \u001b[1;32m~\\miniconda3\\envs\\malt\\lib\\site-packages\\torch\\nn\\functional.py:3112\u001b[0m, in \u001b[0;36mmse_loss\u001b[1;34m(input, target, size_average, reduce, reduction)\u001b[0m\n\u001b[0;32m   3109\u001b[0m     reduction \u001b[38;5;241m=\u001b[39m _Reduction\u001b[38;5;241m.\u001b[39mlegacy_get_string(size_average, reduce)\n\u001b[0;32m   3111\u001b[0m expanded_input, expanded_target \u001b[38;5;241m=\u001b[39m torch\u001b[38;5;241m.\u001b[39mbroadcast_tensors(\u001b[38;5;28minput\u001b[39m, target)\n\u001b[1;32m-> 3112\u001b[0m \u001b[38;5;28;01mreturn\u001b[39;00m \u001b[43mtorch\u001b[49m\u001b[38;5;241;43m.\u001b[39;49m\u001b[43m_C\u001b[49m\u001b[38;5;241;43m.\u001b[39;49m\u001b[43m_nn\u001b[49m\u001b[38;5;241;43m.\u001b[39;49m\u001b[43mmse_loss\u001b[49m\u001b[43m(\u001b[49m\u001b[43mexpanded_input\u001b[49m\u001b[43m,\u001b[49m\u001b[43m \u001b[49m\u001b[43mexpanded_target\u001b[49m\u001b[43m,\u001b[49m\u001b[43m \u001b[49m\u001b[43m_Reduction\u001b[49m\u001b[38;5;241;43m.\u001b[39;49m\u001b[43mget_enum\u001b[49m\u001b[43m(\u001b[49m\u001b[43mreduction\u001b[49m\u001b[43m)\u001b[49m\u001b[43m)\u001b[49m\n",
      "\u001b[1;31mRuntimeError\u001b[0m: Expected all tensors to be on the same device, but found at least two devices, cuda:0 and cpu!"
     ]
    }
   ],
   "source": [
    "g, y = ds.batch(by=['g', 'y'])\n",
    "y_hat = DumbModel(input_)(g).mean\n",
    "malt.metrics.base_metrics.mse(y_hat, target)"
   ]
  },
  {
   "cell_type": "code",
   "execution_count": 12,
   "id": "5d8a86ff-25c3-45bb-8b01-29cac9f5a1c1",
   "metadata": {},
   "outputs": [
    {
     "data": {
      "text/plain": [
       "tensor(1.8533, device='cuda:0')"
      ]
     },
     "execution_count": 12,
     "metadata": {},
     "output_type": "execute_result"
    }
   ],
   "source": [
    "MSE()(DumbModel(input_), ds)"
   ]
  },
  {
   "cell_type": "code",
   "execution_count": 5,
   "id": "9946ba7f-1aca-4648-a8f1-2ec24ecd8a5f",
   "metadata": {},
   "outputs": [
    {
     "data": {
      "text/plain": [
       "tensor(1.6798)"
      ]
     },
     "execution_count": 5,
     "metadata": {},
     "output_type": "execute_result"
    }
   ],
   "source": [
    "mse(input_, target)"
   ]
  }
 ],
 "metadata": {
  "kernelspec": {
   "display_name": "Python 3 (ipykernel)",
   "language": "python",
   "name": "python3"
  },
  "language_info": {
   "codemirror_mode": {
    "name": "ipython",
    "version": 3
   },
   "file_extension": ".py",
   "mimetype": "text/x-python",
   "name": "python",
   "nbconvert_exporter": "python",
   "pygments_lexer": "ipython3",
   "version": "3.9.7"
  }
 },
 "nbformat": 4,
 "nbformat_minor": 5
}
